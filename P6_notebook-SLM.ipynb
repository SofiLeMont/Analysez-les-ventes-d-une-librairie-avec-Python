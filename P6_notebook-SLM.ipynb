{
 "cells": [
  {
   "cell_type": "markdown",
   "id": "5575ebd6",
   "metadata": {},
   "source": [
    "### Sommaire\n",
    "\n",
    "* [Intro: importation et nettoyage des données](#chapter1)\n",
    "* [Partie 1: Analyse du CA](#chapter2)\n",
    "* [Partie 2: les références](#chapter3)\n",
    "    * [Les Tops](#section_3_1)\n",
    "    * [Les Flops](#section_3_2)\n",
    "    * [La répartition des ventes par catégorie](#section_3_3)\n",
    "* [Partie 3: les profils de nos clients](#chapter4)\n",
    "    * [Répartition par genre](#section_4_1)\n",
    "    * [Répartition par tranche d'âge](#section_4_2)\n",
    "    * [Répartition du CA via une Courbe de Lorenz](#section_4_3)\n",
    "* [Partie 4: le comportement de nos clients](#chapter5)\n",
    "    * [le lien entre le genre d’un client et les catégories des livres achetés](#section_5_1)\n",
    "    * [le lien entre l’âge des clients et le montant total des achats](#section_5_2)\n",
    "    * [le lien entre l’âge des clients et la fréquence d’achat](#section_5_3)\n",
    "    * [le lien entre l’âge des clients et la taille du panier moyen](#section_5_4)\n",
    "    * [le lien entre l’âge des clients et les catégories des livres achetés](#section_5_5)\n",
    "    "
   ]
  },
  {
   "cell_type": "markdown",
   "id": "179256d5",
   "metadata": {},
   "source": [
    "# Intro: importation et nettoyage des données <a class=\"anchor\" id=\"chapter1\"></a>"
   ]
  },
  {
   "cell_type": "code",
   "execution_count": 1,
   "id": "a227c3eb",
   "metadata": {},
   "outputs": [],
   "source": [
    "import pandas as pd\n",
    "import numpy as np\n",
    "import matplotlib.pyplot as plt\n",
    "import seaborn as sns\n",
    "import datetime as dt\n",
    "import scipy.stats as st"
   ]
  },
  {
   "cell_type": "markdown",
   "id": "78155c1e",
   "metadata": {},
   "source": [
    "Méthode:\n",
    "- importation, visualisation premières lignes, nb de lignes, de colonnes.\n",
    "- vérification des types\n",
    "- les valeurs manquantes\n",
    "- les doublons\n",
    "- les outliers"
   ]
  },
  {
   "cell_type": "code",
   "execution_count": 2,
   "id": "223b8fc8",
   "metadata": {},
   "outputs": [
    {
     "data": {
      "text/html": [
       "<div>\n",
       "<style scoped>\n",
       "    .dataframe tbody tr th:only-of-type {\n",
       "        vertical-align: middle;\n",
       "    }\n",
       "\n",
       "    .dataframe tbody tr th {\n",
       "        vertical-align: top;\n",
       "    }\n",
       "\n",
       "    .dataframe thead th {\n",
       "        text-align: right;\n",
       "    }\n",
       "</style>\n",
       "<table border=\"1\" class=\"dataframe\">\n",
       "  <thead>\n",
       "    <tr style=\"text-align: right;\">\n",
       "      <th></th>\n",
       "      <th>id_prod</th>\n",
       "      <th>price</th>\n",
       "      <th>categ</th>\n",
       "    </tr>\n",
       "  </thead>\n",
       "  <tbody>\n",
       "    <tr>\n",
       "      <th>0</th>\n",
       "      <td>0_1421</td>\n",
       "      <td>19.99</td>\n",
       "      <td>0</td>\n",
       "    </tr>\n",
       "    <tr>\n",
       "      <th>1</th>\n",
       "      <td>0_1368</td>\n",
       "      <td>5.13</td>\n",
       "      <td>0</td>\n",
       "    </tr>\n",
       "    <tr>\n",
       "      <th>2</th>\n",
       "      <td>0_731</td>\n",
       "      <td>17.99</td>\n",
       "      <td>0</td>\n",
       "    </tr>\n",
       "    <tr>\n",
       "      <th>3</th>\n",
       "      <td>1_587</td>\n",
       "      <td>4.99</td>\n",
       "      <td>1</td>\n",
       "    </tr>\n",
       "    <tr>\n",
       "      <th>4</th>\n",
       "      <td>0_1507</td>\n",
       "      <td>3.99</td>\n",
       "      <td>0</td>\n",
       "    </tr>\n",
       "  </tbody>\n",
       "</table>\n",
       "</div>"
      ],
      "text/plain": [
       "  id_prod  price  categ\n",
       "0  0_1421  19.99      0\n",
       "1  0_1368   5.13      0\n",
       "2   0_731  17.99      0\n",
       "3   1_587   4.99      1\n",
       "4  0_1507   3.99      0"
      ]
     },
     "execution_count": 2,
     "metadata": {},
     "output_type": "execute_result"
    }
   ],
   "source": [
    "#import et visu\n",
    "products = pd.read_csv('products.csv')\n",
    "products.head()"
   ]
  },
  {
   "cell_type": "code",
   "execution_count": 3,
   "id": "fd189229",
   "metadata": {},
   "outputs": [
    {
     "data": {
      "text/plain": [
       "(3287, 3)"
      ]
     },
     "execution_count": 3,
     "metadata": {},
     "output_type": "execute_result"
    }
   ],
   "source": [
    "#taille du df\n",
    "products.shape"
   ]
  },
  {
   "cell_type": "code",
   "execution_count": 4,
   "id": "cfc5b272",
   "metadata": {},
   "outputs": [
    {
     "data": {
      "text/plain": [
       "id_prod     object\n",
       "price      float64\n",
       "categ        int64\n",
       "dtype: object"
      ]
     },
     "execution_count": 4,
     "metadata": {},
     "output_type": "execute_result"
    }
   ],
   "source": [
    "#types\n",
    "products.dtypes"
   ]
  },
  {
   "cell_type": "markdown",
   "id": "356adc99",
   "metadata": {},
   "source": [
    "categ est de type entier alors que variable qualitative. Je vais la modifier pour éviter quiproquo par la suite."
   ]
  },
  {
   "cell_type": "code",
   "execution_count": 5,
   "id": "16f69344",
   "metadata": {},
   "outputs": [
    {
     "data": {
      "text/plain": [
       "array([0, 1, 2], dtype=int64)"
      ]
     },
     "execution_count": 5,
     "metadata": {},
     "output_type": "execute_result"
    }
   ],
   "source": [
    "#quelles valeurs prend 'categ'?\n",
    "products['categ'].unique()"
   ]
  },
  {
   "cell_type": "code",
   "execution_count": 6,
   "id": "6763cb65",
   "metadata": {},
   "outputs": [],
   "source": [
    "#remplacement des valeurs 0, 1, 2 par des valeurs plus parlantes\n",
    "products.loc[products['categ']== 0, 'categ']='categ_0'\n",
    "products.loc[products['categ']== 1, 'categ']='categ_1'\n",
    "products.loc[products['categ']== 2, 'categ']='categ_2'"
   ]
  },
  {
   "cell_type": "code",
   "execution_count": 7,
   "id": "d4ca05db",
   "metadata": {},
   "outputs": [
    {
     "data": {
      "text/plain": [
       "id_prod    0\n",
       "price      0\n",
       "categ      0\n",
       "dtype: int64"
      ]
     },
     "execution_count": 7,
     "metadata": {},
     "output_type": "execute_result"
    }
   ],
   "source": [
    "#valeurs manquantes?\n",
    "products.isnull().sum()"
   ]
  },
  {
   "cell_type": "code",
   "execution_count": 8,
   "id": "2b68b94c",
   "metadata": {},
   "outputs": [
    {
     "data": {
      "text/html": [
       "<div>\n",
       "<style scoped>\n",
       "    .dataframe tbody tr th:only-of-type {\n",
       "        vertical-align: middle;\n",
       "    }\n",
       "\n",
       "    .dataframe tbody tr th {\n",
       "        vertical-align: top;\n",
       "    }\n",
       "\n",
       "    .dataframe thead th {\n",
       "        text-align: right;\n",
       "    }\n",
       "</style>\n",
       "<table border=\"1\" class=\"dataframe\">\n",
       "  <thead>\n",
       "    <tr style=\"text-align: right;\">\n",
       "      <th></th>\n",
       "      <th>id_prod</th>\n",
       "      <th>price</th>\n",
       "      <th>categ</th>\n",
       "    </tr>\n",
       "  </thead>\n",
       "  <tbody>\n",
       "    <tr>\n",
       "      <th>count</th>\n",
       "      <td>3287</td>\n",
       "      <td>3287.000000</td>\n",
       "      <td>3287</td>\n",
       "    </tr>\n",
       "    <tr>\n",
       "      <th>unique</th>\n",
       "      <td>3287</td>\n",
       "      <td>NaN</td>\n",
       "      <td>3</td>\n",
       "    </tr>\n",
       "    <tr>\n",
       "      <th>top</th>\n",
       "      <td>0_1421</td>\n",
       "      <td>NaN</td>\n",
       "      <td>categ_0</td>\n",
       "    </tr>\n",
       "    <tr>\n",
       "      <th>freq</th>\n",
       "      <td>1</td>\n",
       "      <td>NaN</td>\n",
       "      <td>2309</td>\n",
       "    </tr>\n",
       "    <tr>\n",
       "      <th>mean</th>\n",
       "      <td>NaN</td>\n",
       "      <td>21.856641</td>\n",
       "      <td>NaN</td>\n",
       "    </tr>\n",
       "    <tr>\n",
       "      <th>std</th>\n",
       "      <td>NaN</td>\n",
       "      <td>29.847908</td>\n",
       "      <td>NaN</td>\n",
       "    </tr>\n",
       "    <tr>\n",
       "      <th>min</th>\n",
       "      <td>NaN</td>\n",
       "      <td>-1.000000</td>\n",
       "      <td>NaN</td>\n",
       "    </tr>\n",
       "    <tr>\n",
       "      <th>25%</th>\n",
       "      <td>NaN</td>\n",
       "      <td>6.990000</td>\n",
       "      <td>NaN</td>\n",
       "    </tr>\n",
       "    <tr>\n",
       "      <th>50%</th>\n",
       "      <td>NaN</td>\n",
       "      <td>13.060000</td>\n",
       "      <td>NaN</td>\n",
       "    </tr>\n",
       "    <tr>\n",
       "      <th>75%</th>\n",
       "      <td>NaN</td>\n",
       "      <td>22.990000</td>\n",
       "      <td>NaN</td>\n",
       "    </tr>\n",
       "    <tr>\n",
       "      <th>max</th>\n",
       "      <td>NaN</td>\n",
       "      <td>300.000000</td>\n",
       "      <td>NaN</td>\n",
       "    </tr>\n",
       "  </tbody>\n",
       "</table>\n",
       "</div>"
      ],
      "text/plain": [
       "       id_prod        price    categ\n",
       "count     3287  3287.000000     3287\n",
       "unique    3287          NaN        3\n",
       "top     0_1421          NaN  categ_0\n",
       "freq         1          NaN     2309\n",
       "mean       NaN    21.856641      NaN\n",
       "std        NaN    29.847908      NaN\n",
       "min        NaN    -1.000000      NaN\n",
       "25%        NaN     6.990000      NaN\n",
       "50%        NaN    13.060000      NaN\n",
       "75%        NaN    22.990000      NaN\n",
       "max        NaN   300.000000      NaN"
      ]
     },
     "execution_count": 8,
     "metadata": {},
     "output_type": "execute_result"
    }
   ],
   "source": [
    "products.describe(include = 'all')"
   ]
  },
  {
   "cell_type": "markdown",
   "id": "402da170",
   "metadata": {},
   "source": [
    "id_prod: clé primaire\n",
    "\n",
    "on voit qu'il y a un prix négatif, valeur atypique!"
   ]
  },
  {
   "cell_type": "code",
   "execution_count": 9,
   "id": "1b000e79",
   "metadata": {},
   "outputs": [
    {
     "data": {
      "text/html": [
       "<div>\n",
       "<style scoped>\n",
       "    .dataframe tbody tr th:only-of-type {\n",
       "        vertical-align: middle;\n",
       "    }\n",
       "\n",
       "    .dataframe tbody tr th {\n",
       "        vertical-align: top;\n",
       "    }\n",
       "\n",
       "    .dataframe thead th {\n",
       "        text-align: right;\n",
       "    }\n",
       "</style>\n",
       "<table border=\"1\" class=\"dataframe\">\n",
       "  <thead>\n",
       "    <tr style=\"text-align: right;\">\n",
       "      <th></th>\n",
       "      <th>id_prod</th>\n",
       "      <th>price</th>\n",
       "      <th>categ</th>\n",
       "    </tr>\n",
       "  </thead>\n",
       "  <tbody>\n",
       "    <tr>\n",
       "      <th>731</th>\n",
       "      <td>T_0</td>\n",
       "      <td>-1.0</td>\n",
       "      <td>categ_0</td>\n",
       "    </tr>\n",
       "  </tbody>\n",
       "</table>\n",
       "</div>"
      ],
      "text/plain": [
       "    id_prod  price    categ\n",
       "731     T_0   -1.0  categ_0"
      ]
     },
     "execution_count": 9,
     "metadata": {},
     "output_type": "execute_result"
    }
   ],
   "source": [
    "#quels produits à un prix négatif?\n",
    "products.loc[products['price']<0]"
   ]
  },
  {
   "cell_type": "markdown",
   "id": "a5a3e4ce",
   "metadata": {},
   "source": [
    "==> à garder en mémoire pour action"
   ]
  },
  {
   "cell_type": "markdown",
   "id": "03e0c891",
   "metadata": {},
   "source": [
    "les données **products**:\n",
    "- id_prod: clé primaire\n",
    "- price: prix unitaire\n",
    "- categ: catégorie du produit, peut valoir categ_0, categ_1 ou categ_2"
   ]
  },
  {
   "cell_type": "code",
   "execution_count": 10,
   "id": "735d5471",
   "metadata": {},
   "outputs": [
    {
     "data": {
      "text/html": [
       "<div>\n",
       "<style scoped>\n",
       "    .dataframe tbody tr th:only-of-type {\n",
       "        vertical-align: middle;\n",
       "    }\n",
       "\n",
       "    .dataframe tbody tr th {\n",
       "        vertical-align: top;\n",
       "    }\n",
       "\n",
       "    .dataframe thead th {\n",
       "        text-align: right;\n",
       "    }\n",
       "</style>\n",
       "<table border=\"1\" class=\"dataframe\">\n",
       "  <thead>\n",
       "    <tr style=\"text-align: right;\">\n",
       "      <th></th>\n",
       "      <th>client_id</th>\n",
       "      <th>sex</th>\n",
       "      <th>birth</th>\n",
       "    </tr>\n",
       "  </thead>\n",
       "  <tbody>\n",
       "    <tr>\n",
       "      <th>0</th>\n",
       "      <td>c_4410</td>\n",
       "      <td>f</td>\n",
       "      <td>1967</td>\n",
       "    </tr>\n",
       "    <tr>\n",
       "      <th>1</th>\n",
       "      <td>c_7839</td>\n",
       "      <td>f</td>\n",
       "      <td>1975</td>\n",
       "    </tr>\n",
       "    <tr>\n",
       "      <th>2</th>\n",
       "      <td>c_1699</td>\n",
       "      <td>f</td>\n",
       "      <td>1984</td>\n",
       "    </tr>\n",
       "    <tr>\n",
       "      <th>3</th>\n",
       "      <td>c_5961</td>\n",
       "      <td>f</td>\n",
       "      <td>1962</td>\n",
       "    </tr>\n",
       "    <tr>\n",
       "      <th>4</th>\n",
       "      <td>c_5320</td>\n",
       "      <td>m</td>\n",
       "      <td>1943</td>\n",
       "    </tr>\n",
       "  </tbody>\n",
       "</table>\n",
       "</div>"
      ],
      "text/plain": [
       "  client_id sex  birth\n",
       "0    c_4410   f   1967\n",
       "1    c_7839   f   1975\n",
       "2    c_1699   f   1984\n",
       "3    c_5961   f   1962\n",
       "4    c_5320   m   1943"
      ]
     },
     "execution_count": 10,
     "metadata": {},
     "output_type": "execute_result"
    }
   ],
   "source": [
    "#import et visu\n",
    "customers = pd.read_csv('customers.csv')\n",
    "customers.head()"
   ]
  },
  {
   "cell_type": "code",
   "execution_count": 11,
   "id": "4393f880",
   "metadata": {},
   "outputs": [
    {
     "data": {
      "text/plain": [
       "(8623, 3)"
      ]
     },
     "execution_count": 11,
     "metadata": {},
     "output_type": "execute_result"
    }
   ],
   "source": [
    "#taille\n",
    "customers.shape"
   ]
  },
  {
   "cell_type": "code",
   "execution_count": 12,
   "id": "742a2a23",
   "metadata": {},
   "outputs": [
    {
     "data": {
      "text/plain": [
       "client_id    object\n",
       "sex          object\n",
       "birth         int64\n",
       "dtype: object"
      ]
     },
     "execution_count": 12,
     "metadata": {},
     "output_type": "execute_result"
    }
   ],
   "source": [
    "#types des variables\n",
    "customers.dtypes"
   ]
  },
  {
   "cell_type": "code",
   "execution_count": 13,
   "id": "e341a926",
   "metadata": {},
   "outputs": [
    {
     "data": {
      "text/plain": [
       "client_id    0\n",
       "sex          0\n",
       "birth        0\n",
       "dtype: int64"
      ]
     },
     "execution_count": 13,
     "metadata": {},
     "output_type": "execute_result"
    }
   ],
   "source": [
    "#valeurs manquantes?\n",
    "customers.isnull().sum()"
   ]
  },
  {
   "cell_type": "code",
   "execution_count": 14,
   "id": "3241b411",
   "metadata": {
    "scrolled": true
   },
   "outputs": [
    {
     "data": {
      "text/html": [
       "<div>\n",
       "<style scoped>\n",
       "    .dataframe tbody tr th:only-of-type {\n",
       "        vertical-align: middle;\n",
       "    }\n",
       "\n",
       "    .dataframe tbody tr th {\n",
       "        vertical-align: top;\n",
       "    }\n",
       "\n",
       "    .dataframe thead th {\n",
       "        text-align: right;\n",
       "    }\n",
       "</style>\n",
       "<table border=\"1\" class=\"dataframe\">\n",
       "  <thead>\n",
       "    <tr style=\"text-align: right;\">\n",
       "      <th></th>\n",
       "      <th>client_id</th>\n",
       "      <th>sex</th>\n",
       "      <th>birth</th>\n",
       "    </tr>\n",
       "  </thead>\n",
       "  <tbody>\n",
       "    <tr>\n",
       "      <th>count</th>\n",
       "      <td>8623</td>\n",
       "      <td>8623</td>\n",
       "      <td>8623.000000</td>\n",
       "    </tr>\n",
       "    <tr>\n",
       "      <th>unique</th>\n",
       "      <td>8623</td>\n",
       "      <td>2</td>\n",
       "      <td>NaN</td>\n",
       "    </tr>\n",
       "    <tr>\n",
       "      <th>top</th>\n",
       "      <td>c_4410</td>\n",
       "      <td>f</td>\n",
       "      <td>NaN</td>\n",
       "    </tr>\n",
       "    <tr>\n",
       "      <th>freq</th>\n",
       "      <td>1</td>\n",
       "      <td>4491</td>\n",
       "      <td>NaN</td>\n",
       "    </tr>\n",
       "    <tr>\n",
       "      <th>mean</th>\n",
       "      <td>NaN</td>\n",
       "      <td>NaN</td>\n",
       "      <td>1978.280877</td>\n",
       "    </tr>\n",
       "    <tr>\n",
       "      <th>std</th>\n",
       "      <td>NaN</td>\n",
       "      <td>NaN</td>\n",
       "      <td>16.919535</td>\n",
       "    </tr>\n",
       "    <tr>\n",
       "      <th>min</th>\n",
       "      <td>NaN</td>\n",
       "      <td>NaN</td>\n",
       "      <td>1929.000000</td>\n",
       "    </tr>\n",
       "    <tr>\n",
       "      <th>25%</th>\n",
       "      <td>NaN</td>\n",
       "      <td>NaN</td>\n",
       "      <td>1966.000000</td>\n",
       "    </tr>\n",
       "    <tr>\n",
       "      <th>50%</th>\n",
       "      <td>NaN</td>\n",
       "      <td>NaN</td>\n",
       "      <td>1979.000000</td>\n",
       "    </tr>\n",
       "    <tr>\n",
       "      <th>75%</th>\n",
       "      <td>NaN</td>\n",
       "      <td>NaN</td>\n",
       "      <td>1992.000000</td>\n",
       "    </tr>\n",
       "    <tr>\n",
       "      <th>max</th>\n",
       "      <td>NaN</td>\n",
       "      <td>NaN</td>\n",
       "      <td>2004.000000</td>\n",
       "    </tr>\n",
       "  </tbody>\n",
       "</table>\n",
       "</div>"
      ],
      "text/plain": [
       "       client_id   sex        birth\n",
       "count       8623  8623  8623.000000\n",
       "unique      8623     2          NaN\n",
       "top       c_4410     f          NaN\n",
       "freq           1  4491          NaN\n",
       "mean         NaN   NaN  1978.280877\n",
       "std          NaN   NaN    16.919535\n",
       "min          NaN   NaN  1929.000000\n",
       "25%          NaN   NaN  1966.000000\n",
       "50%          NaN   NaN  1979.000000\n",
       "75%          NaN   NaN  1992.000000\n",
       "max          NaN   NaN  2004.000000"
      ]
     },
     "execution_count": 14,
     "metadata": {},
     "output_type": "execute_result"
    }
   ],
   "source": [
    "customers.describe(include = 'all')"
   ]
  },
  {
   "cell_type": "markdown",
   "id": "e70464c6",
   "metadata": {},
   "source": [
    "client_id : clé primaire"
   ]
  },
  {
   "cell_type": "markdown",
   "id": "3cef2ed4",
   "metadata": {},
   "source": [
    "les données **customers**:\n",
    "- client_id: clé primaire\n",
    "- sex: genre du client\n",
    "- birth: année de naissance"
   ]
  },
  {
   "cell_type": "code",
   "execution_count": 15,
   "id": "472bf384",
   "metadata": {},
   "outputs": [
    {
     "data": {
      "text/html": [
       "<div>\n",
       "<style scoped>\n",
       "    .dataframe tbody tr th:only-of-type {\n",
       "        vertical-align: middle;\n",
       "    }\n",
       "\n",
       "    .dataframe tbody tr th {\n",
       "        vertical-align: top;\n",
       "    }\n",
       "\n",
       "    .dataframe thead th {\n",
       "        text-align: right;\n",
       "    }\n",
       "</style>\n",
       "<table border=\"1\" class=\"dataframe\">\n",
       "  <thead>\n",
       "    <tr style=\"text-align: right;\">\n",
       "      <th></th>\n",
       "      <th>id_prod</th>\n",
       "      <th>date</th>\n",
       "      <th>session_id</th>\n",
       "      <th>client_id</th>\n",
       "    </tr>\n",
       "  </thead>\n",
       "  <tbody>\n",
       "    <tr>\n",
       "      <th>0</th>\n",
       "      <td>0_1518</td>\n",
       "      <td>2022-05-20 13:21:29.043970</td>\n",
       "      <td>s_211425</td>\n",
       "      <td>c_103</td>\n",
       "    </tr>\n",
       "    <tr>\n",
       "      <th>1</th>\n",
       "      <td>1_251</td>\n",
       "      <td>2022-02-02 07:55:19.149409</td>\n",
       "      <td>s_158752</td>\n",
       "      <td>c_8534</td>\n",
       "    </tr>\n",
       "    <tr>\n",
       "      <th>2</th>\n",
       "      <td>0_1277</td>\n",
       "      <td>2022-06-18 15:44:33.155329</td>\n",
       "      <td>s_225667</td>\n",
       "      <td>c_6714</td>\n",
       "    </tr>\n",
       "    <tr>\n",
       "      <th>3</th>\n",
       "      <td>2_209</td>\n",
       "      <td>2021-06-24 04:19:29.835891</td>\n",
       "      <td>s_52962</td>\n",
       "      <td>c_6941</td>\n",
       "    </tr>\n",
       "    <tr>\n",
       "      <th>4</th>\n",
       "      <td>0_1509</td>\n",
       "      <td>2023-01-11 08:22:08.194479</td>\n",
       "      <td>s_325227</td>\n",
       "      <td>c_4232</td>\n",
       "    </tr>\n",
       "  </tbody>\n",
       "</table>\n",
       "</div>"
      ],
      "text/plain": [
       "  id_prod                        date session_id client_id\n",
       "0  0_1518  2022-05-20 13:21:29.043970   s_211425     c_103\n",
       "1   1_251  2022-02-02 07:55:19.149409   s_158752    c_8534\n",
       "2  0_1277  2022-06-18 15:44:33.155329   s_225667    c_6714\n",
       "3   2_209  2021-06-24 04:19:29.835891    s_52962    c_6941\n",
       "4  0_1509  2023-01-11 08:22:08.194479   s_325227    c_4232"
      ]
     },
     "execution_count": 15,
     "metadata": {},
     "output_type": "execute_result"
    }
   ],
   "source": [
    "#import et visu\n",
    "transactions = pd.read_csv('transactions.csv')\n",
    "transactions.head()"
   ]
  },
  {
   "cell_type": "code",
   "execution_count": 16,
   "id": "4677a2a7",
   "metadata": {},
   "outputs": [
    {
     "data": {
      "text/plain": [
       "(679532, 4)"
      ]
     },
     "execution_count": 16,
     "metadata": {},
     "output_type": "execute_result"
    }
   ],
   "source": [
    "#taille du df\n",
    "transactions.shape"
   ]
  },
  {
   "cell_type": "code",
   "execution_count": 17,
   "id": "551b7db8",
   "metadata": {},
   "outputs": [
    {
     "data": {
      "text/plain": [
       "id_prod       object\n",
       "date          object\n",
       "session_id    object\n",
       "client_id     object\n",
       "dtype: object"
      ]
     },
     "execution_count": 17,
     "metadata": {},
     "output_type": "execute_result"
    }
   ],
   "source": [
    "#types des variables\n",
    "transactions.dtypes"
   ]
  },
  {
   "cell_type": "markdown",
   "id": "b840e360",
   "metadata": {},
   "source": [
    "type de 'date' à changer"
   ]
  },
  {
   "cell_type": "code",
   "execution_count": 18,
   "id": "e8ef6cd4",
   "metadata": {},
   "outputs": [
    {
     "data": {
      "text/plain": [
       "id_prod       0\n",
       "date          0\n",
       "session_id    0\n",
       "client_id     0\n",
       "dtype: int64"
      ]
     },
     "execution_count": 18,
     "metadata": {},
     "output_type": "execute_result"
    }
   ],
   "source": [
    "#valeurs manquantes?\n",
    "transactions.isnull().sum()"
   ]
  },
  {
   "cell_type": "code",
   "execution_count": 19,
   "id": "116b868c",
   "metadata": {},
   "outputs": [
    {
     "data": {
      "text/html": [
       "<div>\n",
       "<style scoped>\n",
       "    .dataframe tbody tr th:only-of-type {\n",
       "        vertical-align: middle;\n",
       "    }\n",
       "\n",
       "    .dataframe tbody tr th {\n",
       "        vertical-align: top;\n",
       "    }\n",
       "\n",
       "    .dataframe thead th {\n",
       "        text-align: right;\n",
       "    }\n",
       "</style>\n",
       "<table border=\"1\" class=\"dataframe\">\n",
       "  <thead>\n",
       "    <tr style=\"text-align: right;\">\n",
       "      <th></th>\n",
       "      <th>id_prod</th>\n",
       "      <th>date</th>\n",
       "      <th>session_id</th>\n",
       "      <th>client_id</th>\n",
       "    </tr>\n",
       "  </thead>\n",
       "  <tbody>\n",
       "    <tr>\n",
       "      <th>count</th>\n",
       "      <td>679532</td>\n",
       "      <td>679532</td>\n",
       "      <td>679532</td>\n",
       "      <td>679532</td>\n",
       "    </tr>\n",
       "    <tr>\n",
       "      <th>unique</th>\n",
       "      <td>3267</td>\n",
       "      <td>679371</td>\n",
       "      <td>342316</td>\n",
       "      <td>8602</td>\n",
       "    </tr>\n",
       "    <tr>\n",
       "      <th>top</th>\n",
       "      <td>1_369</td>\n",
       "      <td>test_2021-03-01 02:30:02.237413</td>\n",
       "      <td>s_0</td>\n",
       "      <td>c_1609</td>\n",
       "    </tr>\n",
       "    <tr>\n",
       "      <th>freq</th>\n",
       "      <td>2252</td>\n",
       "      <td>13</td>\n",
       "      <td>200</td>\n",
       "      <td>25488</td>\n",
       "    </tr>\n",
       "  </tbody>\n",
       "</table>\n",
       "</div>"
      ],
      "text/plain": [
       "       id_prod                             date session_id client_id\n",
       "count   679532                           679532     679532    679532\n",
       "unique    3267                           679371     342316      8602\n",
       "top      1_369  test_2021-03-01 02:30:02.237413        s_0    c_1609\n",
       "freq      2252                               13        200     25488"
      ]
     },
     "execution_count": 19,
     "metadata": {},
     "output_type": "execute_result"
    }
   ],
   "source": [
    "transactions.describe(include = 'all')"
   ]
  },
  {
   "cell_type": "markdown",
   "id": "ec6eea60",
   "metadata": {},
   "source": [
    "La variable 'date' affiche une (des) valeurs qui sont atypiques."
   ]
  },
  {
   "cell_type": "code",
   "execution_count": 20,
   "id": "0d84e80a",
   "metadata": {},
   "outputs": [
    {
     "data": {
      "text/html": [
       "<div>\n",
       "<style scoped>\n",
       "    .dataframe tbody tr th:only-of-type {\n",
       "        vertical-align: middle;\n",
       "    }\n",
       "\n",
       "    .dataframe tbody tr th {\n",
       "        vertical-align: top;\n",
       "    }\n",
       "\n",
       "    .dataframe thead th {\n",
       "        text-align: right;\n",
       "    }\n",
       "</style>\n",
       "<table border=\"1\" class=\"dataframe\">\n",
       "  <thead>\n",
       "    <tr style=\"text-align: right;\">\n",
       "      <th></th>\n",
       "      <th>id_prod</th>\n",
       "      <th>date</th>\n",
       "      <th>session_id</th>\n",
       "      <th>client_id</th>\n",
       "    </tr>\n",
       "  </thead>\n",
       "  <tbody>\n",
       "    <tr>\n",
       "      <th>3019</th>\n",
       "      <td>T_0</td>\n",
       "      <td>test_2021-03-01 02:30:02.237419</td>\n",
       "      <td>s_0</td>\n",
       "      <td>ct_0</td>\n",
       "    </tr>\n",
       "    <tr>\n",
       "      <th>5138</th>\n",
       "      <td>T_0</td>\n",
       "      <td>test_2021-03-01 02:30:02.237425</td>\n",
       "      <td>s_0</td>\n",
       "      <td>ct_0</td>\n",
       "    </tr>\n",
       "    <tr>\n",
       "      <th>9668</th>\n",
       "      <td>T_0</td>\n",
       "      <td>test_2021-03-01 02:30:02.237437</td>\n",
       "      <td>s_0</td>\n",
       "      <td>ct_1</td>\n",
       "    </tr>\n",
       "    <tr>\n",
       "      <th>10728</th>\n",
       "      <td>T_0</td>\n",
       "      <td>test_2021-03-01 02:30:02.237436</td>\n",
       "      <td>s_0</td>\n",
       "      <td>ct_0</td>\n",
       "    </tr>\n",
       "    <tr>\n",
       "      <th>15292</th>\n",
       "      <td>T_0</td>\n",
       "      <td>test_2021-03-01 02:30:02.237430</td>\n",
       "      <td>s_0</td>\n",
       "      <td>ct_0</td>\n",
       "    </tr>\n",
       "    <tr>\n",
       "      <th>...</th>\n",
       "      <td>...</td>\n",
       "      <td>...</td>\n",
       "      <td>...</td>\n",
       "      <td>...</td>\n",
       "    </tr>\n",
       "    <tr>\n",
       "      <th>657830</th>\n",
       "      <td>T_0</td>\n",
       "      <td>test_2021-03-01 02:30:02.237417</td>\n",
       "      <td>s_0</td>\n",
       "      <td>ct_0</td>\n",
       "    </tr>\n",
       "    <tr>\n",
       "      <th>662081</th>\n",
       "      <td>T_0</td>\n",
       "      <td>test_2021-03-01 02:30:02.237427</td>\n",
       "      <td>s_0</td>\n",
       "      <td>ct_1</td>\n",
       "    </tr>\n",
       "    <tr>\n",
       "      <th>670680</th>\n",
       "      <td>T_0</td>\n",
       "      <td>test_2021-03-01 02:30:02.237449</td>\n",
       "      <td>s_0</td>\n",
       "      <td>ct_1</td>\n",
       "    </tr>\n",
       "    <tr>\n",
       "      <th>671647</th>\n",
       "      <td>T_0</td>\n",
       "      <td>test_2021-03-01 02:30:02.237424</td>\n",
       "      <td>s_0</td>\n",
       "      <td>ct_1</td>\n",
       "    </tr>\n",
       "    <tr>\n",
       "      <th>679180</th>\n",
       "      <td>T_0</td>\n",
       "      <td>test_2021-03-01 02:30:02.237425</td>\n",
       "      <td>s_0</td>\n",
       "      <td>ct_1</td>\n",
       "    </tr>\n",
       "  </tbody>\n",
       "</table>\n",
       "<p>200 rows × 4 columns</p>\n",
       "</div>"
      ],
      "text/plain": [
       "       id_prod                             date session_id client_id\n",
       "3019       T_0  test_2021-03-01 02:30:02.237419        s_0      ct_0\n",
       "5138       T_0  test_2021-03-01 02:30:02.237425        s_0      ct_0\n",
       "9668       T_0  test_2021-03-01 02:30:02.237437        s_0      ct_1\n",
       "10728      T_0  test_2021-03-01 02:30:02.237436        s_0      ct_0\n",
       "15292      T_0  test_2021-03-01 02:30:02.237430        s_0      ct_0\n",
       "...        ...                              ...        ...       ...\n",
       "657830     T_0  test_2021-03-01 02:30:02.237417        s_0      ct_0\n",
       "662081     T_0  test_2021-03-01 02:30:02.237427        s_0      ct_1\n",
       "670680     T_0  test_2021-03-01 02:30:02.237449        s_0      ct_1\n",
       "671647     T_0  test_2021-03-01 02:30:02.237424        s_0      ct_1\n",
       "679180     T_0  test_2021-03-01 02:30:02.237425        s_0      ct_1\n",
       "\n",
       "[200 rows x 4 columns]"
      ]
     },
     "execution_count": 20,
     "metadata": {},
     "output_type": "execute_result"
    }
   ],
   "source": [
    "transactions.loc[transactions['session_id']=='s_0']"
   ]
  },
  {
   "cell_type": "markdown",
   "id": "6484f84a",
   "metadata": {},
   "source": [
    "Je regarde de plus près T_0, les client_id associés"
   ]
  },
  {
   "cell_type": "code",
   "execution_count": 21,
   "id": "f8056180",
   "metadata": {},
   "outputs": [
    {
     "data": {
      "text/html": [
       "<div>\n",
       "<style scoped>\n",
       "    .dataframe tbody tr th:only-of-type {\n",
       "        vertical-align: middle;\n",
       "    }\n",
       "\n",
       "    .dataframe tbody tr th {\n",
       "        vertical-align: top;\n",
       "    }\n",
       "\n",
       "    .dataframe thead th {\n",
       "        text-align: right;\n",
       "    }\n",
       "</style>\n",
       "<table border=\"1\" class=\"dataframe\">\n",
       "  <thead>\n",
       "    <tr style=\"text-align: right;\">\n",
       "      <th></th>\n",
       "      <th>id_prod</th>\n",
       "      <th>price</th>\n",
       "      <th>categ</th>\n",
       "    </tr>\n",
       "  </thead>\n",
       "  <tbody>\n",
       "    <tr>\n",
       "      <th>731</th>\n",
       "      <td>T_0</td>\n",
       "      <td>-1.0</td>\n",
       "      <td>categ_0</td>\n",
       "    </tr>\n",
       "  </tbody>\n",
       "</table>\n",
       "</div>"
      ],
      "text/plain": [
       "    id_prod  price    categ\n",
       "731     T_0   -1.0  categ_0"
      ]
     },
     "execution_count": 21,
     "metadata": {},
     "output_type": "execute_result"
    }
   ],
   "source": [
    "products.loc[products['id_prod']=='T_0']"
   ]
  },
  {
   "cell_type": "markdown",
   "id": "aeff96e6",
   "metadata": {},
   "source": [
    "on retrouve le produit à prix négatif"
   ]
  },
  {
   "cell_type": "code",
   "execution_count": 22,
   "id": "a626a85c",
   "metadata": {},
   "outputs": [
    {
     "data": {
      "text/plain": [
       "array(['ct_0', 'ct_1'], dtype=object)"
      ]
     },
     "execution_count": 22,
     "metadata": {},
     "output_type": "execute_result"
    }
   ],
   "source": [
    "#pour connaitre les differentes valeurs de client_id sur ces 200 lignes\n",
    "transactions.loc[transactions['session_id']=='s_0']['client_id'].unique()"
   ]
  },
  {
   "cell_type": "code",
   "execution_count": 23,
   "id": "f55e83c9",
   "metadata": {},
   "outputs": [
    {
     "data": {
      "text/html": [
       "<div>\n",
       "<style scoped>\n",
       "    .dataframe tbody tr th:only-of-type {\n",
       "        vertical-align: middle;\n",
       "    }\n",
       "\n",
       "    .dataframe tbody tr th {\n",
       "        vertical-align: top;\n",
       "    }\n",
       "\n",
       "    .dataframe thead th {\n",
       "        text-align: right;\n",
       "    }\n",
       "</style>\n",
       "<table border=\"1\" class=\"dataframe\">\n",
       "  <thead>\n",
       "    <tr style=\"text-align: right;\">\n",
       "      <th></th>\n",
       "      <th>client_id</th>\n",
       "      <th>sex</th>\n",
       "      <th>birth</th>\n",
       "    </tr>\n",
       "  </thead>\n",
       "  <tbody>\n",
       "    <tr>\n",
       "      <th>2735</th>\n",
       "      <td>ct_0</td>\n",
       "      <td>f</td>\n",
       "      <td>2001</td>\n",
       "    </tr>\n",
       "    <tr>\n",
       "      <th>8494</th>\n",
       "      <td>ct_1</td>\n",
       "      <td>m</td>\n",
       "      <td>2001</td>\n",
       "    </tr>\n",
       "  </tbody>\n",
       "</table>\n",
       "</div>"
      ],
      "text/plain": [
       "     client_id sex  birth\n",
       "2735      ct_0   f   2001\n",
       "8494      ct_1   m   2001"
      ]
     },
     "execution_count": 23,
     "metadata": {},
     "output_type": "execute_result"
    }
   ],
   "source": [
    "customers.loc[(customers['client_id']=='ct_0') | (customers['client_id']=='ct_1')]"
   ]
  },
  {
   "cell_type": "markdown",
   "id": "00b2cf8b",
   "metadata": {},
   "source": [
    "Toutes les transactions ont été effectuées le même jour , à la même heure sur le même produit, avec 2 clients. Je pense que ce sont des tests. Je vais donc exclure ces données 'test' de mon analyse en créant un nouveau df 'transac'."
   ]
  },
  {
   "cell_type": "code",
   "execution_count": 24,
   "id": "28952d4c",
   "metadata": {},
   "outputs": [
    {
     "data": {
      "text/html": [
       "<div>\n",
       "<style scoped>\n",
       "    .dataframe tbody tr th:only-of-type {\n",
       "        vertical-align: middle;\n",
       "    }\n",
       "\n",
       "    .dataframe tbody tr th {\n",
       "        vertical-align: top;\n",
       "    }\n",
       "\n",
       "    .dataframe thead th {\n",
       "        text-align: right;\n",
       "    }\n",
       "</style>\n",
       "<table border=\"1\" class=\"dataframe\">\n",
       "  <thead>\n",
       "    <tr style=\"text-align: right;\">\n",
       "      <th></th>\n",
       "      <th>index</th>\n",
       "      <th>id_prod</th>\n",
       "      <th>date</th>\n",
       "      <th>session_id</th>\n",
       "      <th>client_id</th>\n",
       "    </tr>\n",
       "  </thead>\n",
       "  <tbody>\n",
       "    <tr>\n",
       "      <th>0</th>\n",
       "      <td>0</td>\n",
       "      <td>0_1518</td>\n",
       "      <td>2022-05-20 13:21:29.043970</td>\n",
       "      <td>s_211425</td>\n",
       "      <td>c_103</td>\n",
       "    </tr>\n",
       "    <tr>\n",
       "      <th>1</th>\n",
       "      <td>1</td>\n",
       "      <td>1_251</td>\n",
       "      <td>2022-02-02 07:55:19.149409</td>\n",
       "      <td>s_158752</td>\n",
       "      <td>c_8534</td>\n",
       "    </tr>\n",
       "    <tr>\n",
       "      <th>2</th>\n",
       "      <td>2</td>\n",
       "      <td>0_1277</td>\n",
       "      <td>2022-06-18 15:44:33.155329</td>\n",
       "      <td>s_225667</td>\n",
       "      <td>c_6714</td>\n",
       "    </tr>\n",
       "    <tr>\n",
       "      <th>3</th>\n",
       "      <td>3</td>\n",
       "      <td>2_209</td>\n",
       "      <td>2021-06-24 04:19:29.835891</td>\n",
       "      <td>s_52962</td>\n",
       "      <td>c_6941</td>\n",
       "    </tr>\n",
       "    <tr>\n",
       "      <th>4</th>\n",
       "      <td>4</td>\n",
       "      <td>0_1509</td>\n",
       "      <td>2023-01-11 08:22:08.194479</td>\n",
       "      <td>s_325227</td>\n",
       "      <td>c_4232</td>\n",
       "    </tr>\n",
       "  </tbody>\n",
       "</table>\n",
       "</div>"
      ],
      "text/plain": [
       "   index id_prod                        date session_id client_id\n",
       "0      0  0_1518  2022-05-20 13:21:29.043970   s_211425     c_103\n",
       "1      1   1_251  2022-02-02 07:55:19.149409   s_158752    c_8534\n",
       "2      2  0_1277  2022-06-18 15:44:33.155329   s_225667    c_6714\n",
       "3      3   2_209  2021-06-24 04:19:29.835891    s_52962    c_6941\n",
       "4      4  0_1509  2023-01-11 08:22:08.194479   s_325227    c_4232"
      ]
     },
     "execution_count": 24,
     "metadata": {},
     "output_type": "execute_result"
    }
   ],
   "source": [
    "#nouveau df qui exclut les transactions \"test\"\n",
    "transac = transactions.loc[transactions['session_id']!='s_0'].reset_index()\n",
    "transac.head()"
   ]
  },
  {
   "cell_type": "markdown",
   "id": "6f06b449",
   "metadata": {},
   "source": [
    "une ligne par achat d'un produit pour un client sur une session. donc autant de ligne de produits achetés sur une session par un client. ==> clé [session,client]"
   ]
  },
  {
   "cell_type": "code",
   "execution_count": 25,
   "id": "8bf9f747",
   "metadata": {
    "scrolled": true
   },
   "outputs": [
    {
     "data": {
      "text/html": [
       "<div>\n",
       "<style scoped>\n",
       "    .dataframe tbody tr th:only-of-type {\n",
       "        vertical-align: middle;\n",
       "    }\n",
       "\n",
       "    .dataframe tbody tr th {\n",
       "        vertical-align: top;\n",
       "    }\n",
       "\n",
       "    .dataframe thead th {\n",
       "        text-align: right;\n",
       "    }\n",
       "</style>\n",
       "<table border=\"1\" class=\"dataframe\">\n",
       "  <thead>\n",
       "    <tr style=\"text-align: right;\">\n",
       "      <th></th>\n",
       "      <th>index</th>\n",
       "    </tr>\n",
       "  </thead>\n",
       "  <tbody>\n",
       "    <tr>\n",
       "      <th>count</th>\n",
       "      <td>679332.000000</td>\n",
       "    </tr>\n",
       "    <tr>\n",
       "      <th>mean</th>\n",
       "      <td>339765.256134</td>\n",
       "    </tr>\n",
       "    <tr>\n",
       "      <th>std</th>\n",
       "      <td>196166.053457</td>\n",
       "    </tr>\n",
       "    <tr>\n",
       "      <th>min</th>\n",
       "      <td>0.000000</td>\n",
       "    </tr>\n",
       "    <tr>\n",
       "      <th>25%</th>\n",
       "      <td>169877.750000</td>\n",
       "    </tr>\n",
       "    <tr>\n",
       "      <th>50%</th>\n",
       "      <td>339769.500000</td>\n",
       "    </tr>\n",
       "    <tr>\n",
       "      <th>75%</th>\n",
       "      <td>509652.250000</td>\n",
       "    </tr>\n",
       "    <tr>\n",
       "      <th>max</th>\n",
       "      <td>679531.000000</td>\n",
       "    </tr>\n",
       "  </tbody>\n",
       "</table>\n",
       "</div>"
      ],
      "text/plain": [
       "               index\n",
       "count  679332.000000\n",
       "mean   339765.256134\n",
       "std    196166.053457\n",
       "min         0.000000\n",
       "25%    169877.750000\n",
       "50%    339769.500000\n",
       "75%    509652.250000\n",
       "max    679531.000000"
      ]
     },
     "execution_count": 25,
     "metadata": {},
     "output_type": "execute_result"
    }
   ],
   "source": [
    "transac.describe()"
   ]
  },
  {
   "cell_type": "code",
   "execution_count": 26,
   "id": "59779ec4",
   "metadata": {},
   "outputs": [
    {
     "data": {
      "text/plain": [
       "index                    int64\n",
       "id_prod                 object\n",
       "date                    object\n",
       "session_id              object\n",
       "client_id               object\n",
       "date_session    datetime64[ns]\n",
       "dtype: object"
      ]
     },
     "execution_count": 26,
     "metadata": {},
     "output_type": "execute_result"
    }
   ],
   "source": [
    "#Forçage au type date\n",
    "transac['date_session'] = pd.to_datetime(transac['date'], format='%Y-%m-%d %H:%M:%S')\n",
    "#vérification\n",
    "transac.dtypes"
   ]
  },
  {
   "cell_type": "code",
   "execution_count": 27,
   "id": "a598e7a6",
   "metadata": {},
   "outputs": [
    {
     "data": {
      "text/html": [
       "<div>\n",
       "<style scoped>\n",
       "    .dataframe tbody tr th:only-of-type {\n",
       "        vertical-align: middle;\n",
       "    }\n",
       "\n",
       "    .dataframe tbody tr th {\n",
       "        vertical-align: top;\n",
       "    }\n",
       "\n",
       "    .dataframe thead th {\n",
       "        text-align: right;\n",
       "    }\n",
       "</style>\n",
       "<table border=\"1\" class=\"dataframe\">\n",
       "  <thead>\n",
       "    <tr style=\"text-align: right;\">\n",
       "      <th></th>\n",
       "      <th>id_prod</th>\n",
       "      <th>session_id</th>\n",
       "      <th>client_id</th>\n",
       "      <th>date_session</th>\n",
       "    </tr>\n",
       "  </thead>\n",
       "  <tbody>\n",
       "    <tr>\n",
       "      <th>0</th>\n",
       "      <td>0_1518</td>\n",
       "      <td>s_211425</td>\n",
       "      <td>c_103</td>\n",
       "      <td>2022-05-20 13:21:29.043970</td>\n",
       "    </tr>\n",
       "    <tr>\n",
       "      <th>1</th>\n",
       "      <td>1_251</td>\n",
       "      <td>s_158752</td>\n",
       "      <td>c_8534</td>\n",
       "      <td>2022-02-02 07:55:19.149409</td>\n",
       "    </tr>\n",
       "    <tr>\n",
       "      <th>2</th>\n",
       "      <td>0_1277</td>\n",
       "      <td>s_225667</td>\n",
       "      <td>c_6714</td>\n",
       "      <td>2022-06-18 15:44:33.155329</td>\n",
       "    </tr>\n",
       "    <tr>\n",
       "      <th>3</th>\n",
       "      <td>2_209</td>\n",
       "      <td>s_52962</td>\n",
       "      <td>c_6941</td>\n",
       "      <td>2021-06-24 04:19:29.835891</td>\n",
       "    </tr>\n",
       "    <tr>\n",
       "      <th>4</th>\n",
       "      <td>0_1509</td>\n",
       "      <td>s_325227</td>\n",
       "      <td>c_4232</td>\n",
       "      <td>2023-01-11 08:22:08.194479</td>\n",
       "    </tr>\n",
       "  </tbody>\n",
       "</table>\n",
       "</div>"
      ],
      "text/plain": [
       "  id_prod session_id client_id               date_session\n",
       "0  0_1518   s_211425     c_103 2022-05-20 13:21:29.043970\n",
       "1   1_251   s_158752    c_8534 2022-02-02 07:55:19.149409\n",
       "2  0_1277   s_225667    c_6714 2022-06-18 15:44:33.155329\n",
       "3   2_209    s_52962    c_6941 2021-06-24 04:19:29.835891\n",
       "4  0_1509   s_325227    c_4232 2023-01-11 08:22:08.194479"
      ]
     },
     "execution_count": 27,
     "metadata": {},
     "output_type": "execute_result"
    }
   ],
   "source": [
    "#suppression des colonnes maintenant inutiles\n",
    "transac=transac.drop(columns=['date', 'index'])\n",
    "transac.head()"
   ]
  },
  {
   "cell_type": "code",
   "execution_count": 28,
   "id": "e4c454ba",
   "metadata": {},
   "outputs": [
    {
     "data": {
      "text/html": [
       "<div>\n",
       "<style scoped>\n",
       "    .dataframe tbody tr th:only-of-type {\n",
       "        vertical-align: middle;\n",
       "    }\n",
       "\n",
       "    .dataframe tbody tr th {\n",
       "        vertical-align: top;\n",
       "    }\n",
       "\n",
       "    .dataframe thead th {\n",
       "        text-align: right;\n",
       "    }\n",
       "</style>\n",
       "<table border=\"1\" class=\"dataframe\">\n",
       "  <thead>\n",
       "    <tr style=\"text-align: right;\">\n",
       "      <th></th>\n",
       "      <th>id_prod</th>\n",
       "      <th>session_id</th>\n",
       "      <th>client_id</th>\n",
       "      <th>date_session</th>\n",
       "    </tr>\n",
       "  </thead>\n",
       "  <tbody>\n",
       "    <tr>\n",
       "      <th>count</th>\n",
       "      <td>679332</td>\n",
       "      <td>679332</td>\n",
       "      <td>679332</td>\n",
       "      <td>679332</td>\n",
       "    </tr>\n",
       "    <tr>\n",
       "      <th>unique</th>\n",
       "      <td>3266</td>\n",
       "      <td>342315</td>\n",
       "      <td>8600</td>\n",
       "      <td>NaN</td>\n",
       "    </tr>\n",
       "    <tr>\n",
       "      <th>top</th>\n",
       "      <td>1_369</td>\n",
       "      <td>s_118668</td>\n",
       "      <td>c_1609</td>\n",
       "      <td>NaN</td>\n",
       "    </tr>\n",
       "    <tr>\n",
       "      <th>freq</th>\n",
       "      <td>2252</td>\n",
       "      <td>14</td>\n",
       "      <td>25488</td>\n",
       "      <td>NaN</td>\n",
       "    </tr>\n",
       "    <tr>\n",
       "      <th>mean</th>\n",
       "      <td>NaN</td>\n",
       "      <td>NaN</td>\n",
       "      <td>NaN</td>\n",
       "      <td>2022-03-03 15:13:19.307389696</td>\n",
       "    </tr>\n",
       "    <tr>\n",
       "      <th>min</th>\n",
       "      <td>NaN</td>\n",
       "      <td>NaN</td>\n",
       "      <td>NaN</td>\n",
       "      <td>2021-03-01 00:01:07.843138</td>\n",
       "    </tr>\n",
       "    <tr>\n",
       "      <th>25%</th>\n",
       "      <td>NaN</td>\n",
       "      <td>NaN</td>\n",
       "      <td>NaN</td>\n",
       "      <td>2021-09-08 09:14:25.055994368</td>\n",
       "    </tr>\n",
       "    <tr>\n",
       "      <th>50%</th>\n",
       "      <td>NaN</td>\n",
       "      <td>NaN</td>\n",
       "      <td>NaN</td>\n",
       "      <td>2022-03-03 07:50:20.817730560</td>\n",
       "    </tr>\n",
       "    <tr>\n",
       "      <th>75%</th>\n",
       "      <td>NaN</td>\n",
       "      <td>NaN</td>\n",
       "      <td>NaN</td>\n",
       "      <td>2022-08-30 23:57:08.555173888</td>\n",
       "    </tr>\n",
       "    <tr>\n",
       "      <th>max</th>\n",
       "      <td>NaN</td>\n",
       "      <td>NaN</td>\n",
       "      <td>NaN</td>\n",
       "      <td>2023-02-28 23:58:30.792755</td>\n",
       "    </tr>\n",
       "  </tbody>\n",
       "</table>\n",
       "</div>"
      ],
      "text/plain": [
       "       id_prod session_id client_id                   date_session\n",
       "count   679332     679332    679332                         679332\n",
       "unique    3266     342315      8600                            NaN\n",
       "top      1_369   s_118668    c_1609                            NaN\n",
       "freq      2252         14     25488                            NaN\n",
       "mean       NaN        NaN       NaN  2022-03-03 15:13:19.307389696\n",
       "min        NaN        NaN       NaN     2021-03-01 00:01:07.843138\n",
       "25%        NaN        NaN       NaN  2021-09-08 09:14:25.055994368\n",
       "50%        NaN        NaN       NaN  2022-03-03 07:50:20.817730560\n",
       "75%        NaN        NaN       NaN  2022-08-30 23:57:08.555173888\n",
       "max        NaN        NaN       NaN     2023-02-28 23:58:30.792755"
      ]
     },
     "execution_count": 28,
     "metadata": {},
     "output_type": "execute_result"
    }
   ],
   "source": [
    "transac.describe(include='all', datetime_is_numeric=True)"
   ]
  },
  {
   "cell_type": "markdown",
   "id": "dd6bee07",
   "metadata": {},
   "source": [
    "les données **transac**:\n",
    "- id_prod: cle étrangère\n",
    "- session_id: \n",
    "- client_id: clé étrangère\n",
    "- date_session\n",
    "- session_id + client_id: clé primaire"
   ]
  },
  {
   "cell_type": "markdown",
   "id": "366f166f",
   "metadata": {},
   "source": [
    "Il nous faut connaître le montant des transactions, en fusionnant les df transac et products"
   ]
  },
  {
   "cell_type": "code",
   "execution_count": 29,
   "id": "7ecee635",
   "metadata": {},
   "outputs": [
    {
     "data": {
      "text/html": [
       "<div>\n",
       "<style scoped>\n",
       "    .dataframe tbody tr th:only-of-type {\n",
       "        vertical-align: middle;\n",
       "    }\n",
       "\n",
       "    .dataframe tbody tr th {\n",
       "        vertical-align: top;\n",
       "    }\n",
       "\n",
       "    .dataframe thead th {\n",
       "        text-align: right;\n",
       "    }\n",
       "</style>\n",
       "<table border=\"1\" class=\"dataframe\">\n",
       "  <thead>\n",
       "    <tr style=\"text-align: right;\">\n",
       "      <th></th>\n",
       "      <th>id_prod</th>\n",
       "      <th>session_id</th>\n",
       "      <th>client_id</th>\n",
       "      <th>date_session</th>\n",
       "      <th>price</th>\n",
       "      <th>categ</th>\n",
       "    </tr>\n",
       "  </thead>\n",
       "  <tbody>\n",
       "    <tr>\n",
       "      <th>0</th>\n",
       "      <td>0_1518</td>\n",
       "      <td>s_211425</td>\n",
       "      <td>c_103</td>\n",
       "      <td>2022-05-20 13:21:29.043970</td>\n",
       "      <td>4.18</td>\n",
       "      <td>categ_0</td>\n",
       "    </tr>\n",
       "    <tr>\n",
       "      <th>1</th>\n",
       "      <td>1_251</td>\n",
       "      <td>s_158752</td>\n",
       "      <td>c_8534</td>\n",
       "      <td>2022-02-02 07:55:19.149409</td>\n",
       "      <td>15.99</td>\n",
       "      <td>categ_1</td>\n",
       "    </tr>\n",
       "    <tr>\n",
       "      <th>2</th>\n",
       "      <td>0_1277</td>\n",
       "      <td>s_225667</td>\n",
       "      <td>c_6714</td>\n",
       "      <td>2022-06-18 15:44:33.155329</td>\n",
       "      <td>7.99</td>\n",
       "      <td>categ_0</td>\n",
       "    </tr>\n",
       "    <tr>\n",
       "      <th>3</th>\n",
       "      <td>2_209</td>\n",
       "      <td>s_52962</td>\n",
       "      <td>c_6941</td>\n",
       "      <td>2021-06-24 04:19:29.835891</td>\n",
       "      <td>69.99</td>\n",
       "      <td>categ_2</td>\n",
       "    </tr>\n",
       "    <tr>\n",
       "      <th>4</th>\n",
       "      <td>0_1509</td>\n",
       "      <td>s_325227</td>\n",
       "      <td>c_4232</td>\n",
       "      <td>2023-01-11 08:22:08.194479</td>\n",
       "      <td>4.99</td>\n",
       "      <td>categ_0</td>\n",
       "    </tr>\n",
       "  </tbody>\n",
       "</table>\n",
       "</div>"
      ],
      "text/plain": [
       "  id_prod session_id client_id               date_session  price    categ\n",
       "0  0_1518   s_211425     c_103 2022-05-20 13:21:29.043970   4.18  categ_0\n",
       "1   1_251   s_158752    c_8534 2022-02-02 07:55:19.149409  15.99  categ_1\n",
       "2  0_1277   s_225667    c_6714 2022-06-18 15:44:33.155329   7.99  categ_0\n",
       "3   2_209    s_52962    c_6941 2021-06-24 04:19:29.835891  69.99  categ_2\n",
       "4  0_1509   s_325227    c_4232 2023-01-11 08:22:08.194479   4.99  categ_0"
      ]
     },
     "execution_count": 29,
     "metadata": {},
     "output_type": "execute_result"
    }
   ],
   "source": [
    "#ajout des infos du produit (prix et categ) pour chaque ligne de transactions du df transac par une fusion gauche\n",
    "transac_price=pd.merge(transac, products, on='id_prod', how='left')\n",
    "transac_price.head()"
   ]
  },
  {
   "cell_type": "code",
   "execution_count": 30,
   "id": "bf205f4e",
   "metadata": {},
   "outputs": [
    {
     "data": {
      "text/html": [
       "<div>\n",
       "<style scoped>\n",
       "    .dataframe tbody tr th:only-of-type {\n",
       "        vertical-align: middle;\n",
       "    }\n",
       "\n",
       "    .dataframe tbody tr th {\n",
       "        vertical-align: top;\n",
       "    }\n",
       "\n",
       "    .dataframe thead th {\n",
       "        text-align: right;\n",
       "    }\n",
       "</style>\n",
       "<table border=\"1\" class=\"dataframe\">\n",
       "  <thead>\n",
       "    <tr style=\"text-align: right;\">\n",
       "      <th></th>\n",
       "      <th>id_prod</th>\n",
       "      <th>session_id</th>\n",
       "      <th>client_id</th>\n",
       "      <th>date_session</th>\n",
       "      <th>price</th>\n",
       "      <th>categ</th>\n",
       "    </tr>\n",
       "  </thead>\n",
       "  <tbody>\n",
       "    <tr>\n",
       "      <th>2633</th>\n",
       "      <td>0_2245</td>\n",
       "      <td>s_272266</td>\n",
       "      <td>c_4746</td>\n",
       "      <td>2022-09-23 07:22:38.636773</td>\n",
       "      <td>NaN</td>\n",
       "      <td>NaN</td>\n",
       "    </tr>\n",
       "    <tr>\n",
       "      <th>10103</th>\n",
       "      <td>0_2245</td>\n",
       "      <td>s_242482</td>\n",
       "      <td>c_6713</td>\n",
       "      <td>2022-07-23 09:24:14.133889</td>\n",
       "      <td>NaN</td>\n",
       "      <td>NaN</td>\n",
       "    </tr>\n",
       "    <tr>\n",
       "      <th>11723</th>\n",
       "      <td>0_2245</td>\n",
       "      <td>s_306338</td>\n",
       "      <td>c_5108</td>\n",
       "      <td>2022-12-03 03:26:35.696673</td>\n",
       "      <td>NaN</td>\n",
       "      <td>NaN</td>\n",
       "    </tr>\n",
       "    <tr>\n",
       "      <th>15670</th>\n",
       "      <td>0_2245</td>\n",
       "      <td>s_76493</td>\n",
       "      <td>c_1391</td>\n",
       "      <td>2021-08-16 11:33:25.481411</td>\n",
       "      <td>NaN</td>\n",
       "      <td>NaN</td>\n",
       "    </tr>\n",
       "    <tr>\n",
       "      <th>16372</th>\n",
       "      <td>0_2245</td>\n",
       "      <td>s_239078</td>\n",
       "      <td>c_7954</td>\n",
       "      <td>2022-07-16 05:53:01.627491</td>\n",
       "      <td>NaN</td>\n",
       "      <td>NaN</td>\n",
       "    </tr>\n",
       "    <tr>\n",
       "      <th>...</th>\n",
       "      <td>...</td>\n",
       "      <td>...</td>\n",
       "      <td>...</td>\n",
       "      <td>...</td>\n",
       "      <td>...</td>\n",
       "      <td>...</td>\n",
       "    </tr>\n",
       "    <tr>\n",
       "      <th>669533</th>\n",
       "      <td>0_2245</td>\n",
       "      <td>s_80395</td>\n",
       "      <td>c_131</td>\n",
       "      <td>2021-08-25 09:06:03.504061</td>\n",
       "      <td>NaN</td>\n",
       "      <td>NaN</td>\n",
       "    </tr>\n",
       "    <tr>\n",
       "      <th>670484</th>\n",
       "      <td>0_2245</td>\n",
       "      <td>s_175311</td>\n",
       "      <td>c_4167</td>\n",
       "      <td>2022-03-06 19:59:19.462288</td>\n",
       "      <td>NaN</td>\n",
       "      <td>NaN</td>\n",
       "    </tr>\n",
       "    <tr>\n",
       "      <th>671088</th>\n",
       "      <td>0_2245</td>\n",
       "      <td>s_209381</td>\n",
       "      <td>c_4453</td>\n",
       "      <td>2022-05-16 11:35:20.319501</td>\n",
       "      <td>NaN</td>\n",
       "      <td>NaN</td>\n",
       "    </tr>\n",
       "    <tr>\n",
       "      <th>675480</th>\n",
       "      <td>0_2245</td>\n",
       "      <td>s_163405</td>\n",
       "      <td>c_1098</td>\n",
       "      <td>2022-02-11 09:05:43.952857</td>\n",
       "      <td>NaN</td>\n",
       "      <td>NaN</td>\n",
       "    </tr>\n",
       "    <tr>\n",
       "      <th>677797</th>\n",
       "      <td>0_2245</td>\n",
       "      <td>s_134446</td>\n",
       "      <td>c_4854</td>\n",
       "      <td>2021-12-14 22:34:54.589921</td>\n",
       "      <td>NaN</td>\n",
       "      <td>NaN</td>\n",
       "    </tr>\n",
       "  </tbody>\n",
       "</table>\n",
       "<p>221 rows × 6 columns</p>\n",
       "</div>"
      ],
      "text/plain": [
       "       id_prod session_id client_id               date_session  price categ\n",
       "2633    0_2245   s_272266    c_4746 2022-09-23 07:22:38.636773    NaN   NaN\n",
       "10103   0_2245   s_242482    c_6713 2022-07-23 09:24:14.133889    NaN   NaN\n",
       "11723   0_2245   s_306338    c_5108 2022-12-03 03:26:35.696673    NaN   NaN\n",
       "15670   0_2245    s_76493    c_1391 2021-08-16 11:33:25.481411    NaN   NaN\n",
       "16372   0_2245   s_239078    c_7954 2022-07-16 05:53:01.627491    NaN   NaN\n",
       "...        ...        ...       ...                        ...    ...   ...\n",
       "669533  0_2245    s_80395     c_131 2021-08-25 09:06:03.504061    NaN   NaN\n",
       "670484  0_2245   s_175311    c_4167 2022-03-06 19:59:19.462288    NaN   NaN\n",
       "671088  0_2245   s_209381    c_4453 2022-05-16 11:35:20.319501    NaN   NaN\n",
       "675480  0_2245   s_163405    c_1098 2022-02-11 09:05:43.952857    NaN   NaN\n",
       "677797  0_2245   s_134446    c_4854 2021-12-14 22:34:54.589921    NaN   NaN\n",
       "\n",
       "[221 rows x 6 columns]"
      ]
     },
     "execution_count": 30,
     "metadata": {},
     "output_type": "execute_result"
    }
   ],
   "source": [
    "#tous les produits vendus ont-ils un prix?\n",
    "transac_price[transac_price['price'].isna()]"
   ]
  },
  {
   "cell_type": "code",
   "execution_count": 31,
   "id": "4c9a5961",
   "metadata": {},
   "outputs": [
    {
     "data": {
      "text/plain": [
       "array(['0_2245'], dtype=object)"
      ]
     },
     "execution_count": 31,
     "metadata": {},
     "output_type": "execute_result"
    }
   ],
   "source": [
    "#quelles sont les produits sans prix?\n",
    "transac_price[transac_price['price'].isna()]['id_prod'].unique()"
   ]
  },
  {
   "cell_type": "markdown",
   "id": "ddef8039",
   "metadata": {},
   "source": [
    "Un seul produit concerné, qui a été vendu 221 fois, on ne peut exclure cet article et les transactions associées. Je vais \n",
    " - estimer son prix comme étant la moyenne des prix des produits.\n",
    " - déterminer sa categorie d'après son id qui commence par zéro ce qui indique sa catégorie"
   ]
  },
  {
   "cell_type": "code",
   "execution_count": 32,
   "id": "b4d354ff",
   "metadata": {},
   "outputs": [
    {
     "data": {
      "text/html": [
       "<div>\n",
       "<style scoped>\n",
       "    .dataframe tbody tr th:only-of-type {\n",
       "        vertical-align: middle;\n",
       "    }\n",
       "\n",
       "    .dataframe tbody tr th {\n",
       "        vertical-align: top;\n",
       "    }\n",
       "\n",
       "    .dataframe thead th {\n",
       "        text-align: right;\n",
       "    }\n",
       "</style>\n",
       "<table border=\"1\" class=\"dataframe\">\n",
       "  <thead>\n",
       "    <tr style=\"text-align: right;\">\n",
       "      <th></th>\n",
       "      <th>id_prod</th>\n",
       "      <th>session_id</th>\n",
       "      <th>client_id</th>\n",
       "      <th>date_session</th>\n",
       "      <th>price</th>\n",
       "      <th>categ</th>\n",
       "    </tr>\n",
       "  </thead>\n",
       "  <tbody>\n",
       "  </tbody>\n",
       "</table>\n",
       "</div>"
      ],
      "text/plain": [
       "Empty DataFrame\n",
       "Columns: [id_prod, session_id, client_id, date_session, price, categ]\n",
       "Index: []"
      ]
     },
     "execution_count": 32,
     "metadata": {},
     "output_type": "execute_result"
    }
   ],
   "source": [
    "#remplacement des valeurs manquantes par la moyenne des prix des produits et catégorie à zéro\n",
    "transac_price.loc[transac_price['price'].isna(), 'price']=transac_price['price'].mean()\n",
    "transac_price.loc[transac_price['categ'].isna(), 'categ']='categ_0'\n",
    "transac_price[transac_price['price'].isna()]"
   ]
  },
  {
   "cell_type": "markdown",
   "id": "43f7b303",
   "metadata": {},
   "source": [
    "Vérification: Plus aucune transaction sans prix."
   ]
  },
  {
   "cell_type": "code",
   "execution_count": 33,
   "id": "6587954d",
   "metadata": {},
   "outputs": [
    {
     "data": {
      "text/html": [
       "<div>\n",
       "<style scoped>\n",
       "    .dataframe tbody tr th:only-of-type {\n",
       "        vertical-align: middle;\n",
       "    }\n",
       "\n",
       "    .dataframe tbody tr th {\n",
       "        vertical-align: top;\n",
       "    }\n",
       "\n",
       "    .dataframe thead th {\n",
       "        text-align: right;\n",
       "    }\n",
       "</style>\n",
       "<table border=\"1\" class=\"dataframe\">\n",
       "  <thead>\n",
       "    <tr style=\"text-align: right;\">\n",
       "      <th></th>\n",
       "      <th>id_prod</th>\n",
       "      <th>session_id</th>\n",
       "      <th>client_id</th>\n",
       "      <th>date_session</th>\n",
       "      <th>price</th>\n",
       "      <th>categ</th>\n",
       "    </tr>\n",
       "  </thead>\n",
       "  <tbody>\n",
       "    <tr>\n",
       "      <th>2633</th>\n",
       "      <td>0_2245</td>\n",
       "      <td>s_272266</td>\n",
       "      <td>c_4746</td>\n",
       "      <td>2022-09-23 07:22:38.636773</td>\n",
       "      <td>17.454773</td>\n",
       "      <td>categ_0</td>\n",
       "    </tr>\n",
       "    <tr>\n",
       "      <th>10103</th>\n",
       "      <td>0_2245</td>\n",
       "      <td>s_242482</td>\n",
       "      <td>c_6713</td>\n",
       "      <td>2022-07-23 09:24:14.133889</td>\n",
       "      <td>17.454773</td>\n",
       "      <td>categ_0</td>\n",
       "    </tr>\n",
       "    <tr>\n",
       "      <th>11723</th>\n",
       "      <td>0_2245</td>\n",
       "      <td>s_306338</td>\n",
       "      <td>c_5108</td>\n",
       "      <td>2022-12-03 03:26:35.696673</td>\n",
       "      <td>17.454773</td>\n",
       "      <td>categ_0</td>\n",
       "    </tr>\n",
       "    <tr>\n",
       "      <th>15670</th>\n",
       "      <td>0_2245</td>\n",
       "      <td>s_76493</td>\n",
       "      <td>c_1391</td>\n",
       "      <td>2021-08-16 11:33:25.481411</td>\n",
       "      <td>17.454773</td>\n",
       "      <td>categ_0</td>\n",
       "    </tr>\n",
       "    <tr>\n",
       "      <th>16372</th>\n",
       "      <td>0_2245</td>\n",
       "      <td>s_239078</td>\n",
       "      <td>c_7954</td>\n",
       "      <td>2022-07-16 05:53:01.627491</td>\n",
       "      <td>17.454773</td>\n",
       "      <td>categ_0</td>\n",
       "    </tr>\n",
       "    <tr>\n",
       "      <th>...</th>\n",
       "      <td>...</td>\n",
       "      <td>...</td>\n",
       "      <td>...</td>\n",
       "      <td>...</td>\n",
       "      <td>...</td>\n",
       "      <td>...</td>\n",
       "    </tr>\n",
       "    <tr>\n",
       "      <th>669533</th>\n",
       "      <td>0_2245</td>\n",
       "      <td>s_80395</td>\n",
       "      <td>c_131</td>\n",
       "      <td>2021-08-25 09:06:03.504061</td>\n",
       "      <td>17.454773</td>\n",
       "      <td>categ_0</td>\n",
       "    </tr>\n",
       "    <tr>\n",
       "      <th>670484</th>\n",
       "      <td>0_2245</td>\n",
       "      <td>s_175311</td>\n",
       "      <td>c_4167</td>\n",
       "      <td>2022-03-06 19:59:19.462288</td>\n",
       "      <td>17.454773</td>\n",
       "      <td>categ_0</td>\n",
       "    </tr>\n",
       "    <tr>\n",
       "      <th>671088</th>\n",
       "      <td>0_2245</td>\n",
       "      <td>s_209381</td>\n",
       "      <td>c_4453</td>\n",
       "      <td>2022-05-16 11:35:20.319501</td>\n",
       "      <td>17.454773</td>\n",
       "      <td>categ_0</td>\n",
       "    </tr>\n",
       "    <tr>\n",
       "      <th>675480</th>\n",
       "      <td>0_2245</td>\n",
       "      <td>s_163405</td>\n",
       "      <td>c_1098</td>\n",
       "      <td>2022-02-11 09:05:43.952857</td>\n",
       "      <td>17.454773</td>\n",
       "      <td>categ_0</td>\n",
       "    </tr>\n",
       "    <tr>\n",
       "      <th>677797</th>\n",
       "      <td>0_2245</td>\n",
       "      <td>s_134446</td>\n",
       "      <td>c_4854</td>\n",
       "      <td>2021-12-14 22:34:54.589921</td>\n",
       "      <td>17.454773</td>\n",
       "      <td>categ_0</td>\n",
       "    </tr>\n",
       "  </tbody>\n",
       "</table>\n",
       "<p>221 rows × 6 columns</p>\n",
       "</div>"
      ],
      "text/plain": [
       "       id_prod session_id client_id               date_session      price  \\\n",
       "2633    0_2245   s_272266    c_4746 2022-09-23 07:22:38.636773  17.454773   \n",
       "10103   0_2245   s_242482    c_6713 2022-07-23 09:24:14.133889  17.454773   \n",
       "11723   0_2245   s_306338    c_5108 2022-12-03 03:26:35.696673  17.454773   \n",
       "15670   0_2245    s_76493    c_1391 2021-08-16 11:33:25.481411  17.454773   \n",
       "16372   0_2245   s_239078    c_7954 2022-07-16 05:53:01.627491  17.454773   \n",
       "...        ...        ...       ...                        ...        ...   \n",
       "669533  0_2245    s_80395     c_131 2021-08-25 09:06:03.504061  17.454773   \n",
       "670484  0_2245   s_175311    c_4167 2022-03-06 19:59:19.462288  17.454773   \n",
       "671088  0_2245   s_209381    c_4453 2022-05-16 11:35:20.319501  17.454773   \n",
       "675480  0_2245   s_163405    c_1098 2022-02-11 09:05:43.952857  17.454773   \n",
       "677797  0_2245   s_134446    c_4854 2021-12-14 22:34:54.589921  17.454773   \n",
       "\n",
       "          categ  \n",
       "2633    categ_0  \n",
       "10103   categ_0  \n",
       "11723   categ_0  \n",
       "15670   categ_0  \n",
       "16372   categ_0  \n",
       "...         ...  \n",
       "669533  categ_0  \n",
       "670484  categ_0  \n",
       "671088  categ_0  \n",
       "675480  categ_0  \n",
       "677797  categ_0  \n",
       "\n",
       "[221 rows x 6 columns]"
      ]
     },
     "execution_count": 33,
     "metadata": {},
     "output_type": "execute_result"
    }
   ],
   "source": [
    "transac_price.loc[transac_price['id_prod']=='0_2245']"
   ]
  },
  {
   "cell_type": "markdown",
   "id": "445430b2",
   "metadata": {},
   "source": [
    "# PARTIE 1: Indicateurs et graphes autour du chiffre d'affaire <a class=\"anchor\" id=\"chapter2\"></a>"
   ]
  },
  {
   "cell_type": "markdown",
   "id": "443734b7",
   "metadata": {},
   "source": [
    "On veut visualiser l'évolution du CA dans le temps, dans un 1er temps par mois."
   ]
  },
  {
   "cell_type": "code",
   "execution_count": 34,
   "id": "14f947e4",
   "metadata": {},
   "outputs": [],
   "source": [
    "# création nouvelle colonne mois de la session\n",
    "transac_price['mois_session']= transac_price['date_session'].dt.strftime('%Y-%m')"
   ]
  },
  {
   "cell_type": "code",
   "execution_count": 35,
   "id": "8f08601a",
   "metadata": {},
   "outputs": [
    {
     "data": {
      "text/html": [
       "<div>\n",
       "<style scoped>\n",
       "    .dataframe tbody tr th:only-of-type {\n",
       "        vertical-align: middle;\n",
       "    }\n",
       "\n",
       "    .dataframe tbody tr th {\n",
       "        vertical-align: top;\n",
       "    }\n",
       "\n",
       "    .dataframe thead th {\n",
       "        text-align: right;\n",
       "    }\n",
       "</style>\n",
       "<table border=\"1\" class=\"dataframe\">\n",
       "  <thead>\n",
       "    <tr style=\"text-align: right;\">\n",
       "      <th></th>\n",
       "      <th>mois_session</th>\n",
       "      <th>CA</th>\n",
       "    </tr>\n",
       "  </thead>\n",
       "  <tbody>\n",
       "    <tr>\n",
       "      <th>0</th>\n",
       "      <td>2021-03</td>\n",
       "      <td>482597.702961</td>\n",
       "    </tr>\n",
       "    <tr>\n",
       "      <th>1</th>\n",
       "      <td>2021-04</td>\n",
       "      <td>476353.666829</td>\n",
       "    </tr>\n",
       "    <tr>\n",
       "      <th>2</th>\n",
       "      <td>2021-05</td>\n",
       "      <td>493083.108188</td>\n",
       "    </tr>\n",
       "    <tr>\n",
       "      <th>3</th>\n",
       "      <td>2021-06</td>\n",
       "      <td>484210.743414</td>\n",
       "    </tr>\n",
       "    <tr>\n",
       "      <th>4</th>\n",
       "      <td>2021-07</td>\n",
       "      <td>482905.219094</td>\n",
       "    </tr>\n",
       "  </tbody>\n",
       "</table>\n",
       "</div>"
      ],
      "text/plain": [
       "  mois_session             CA\n",
       "0      2021-03  482597.702961\n",
       "1      2021-04  476353.666829\n",
       "2      2021-05  493083.108188\n",
       "3      2021-06  484210.743414\n",
       "4      2021-07  482905.219094"
      ]
     },
     "execution_count": 35,
     "metadata": {},
     "output_type": "execute_result"
    }
   ],
   "source": [
    "#pour obtenir le CA par mois, j'effectue une agregation\n",
    "CA_mensuel = transac_price.groupby(transac_price['mois_session'])['price'].sum().reset_index(name='CA')\n",
    "CA_mensuel.head()"
   ]
  },
  {
   "cell_type": "code",
   "execution_count": 36,
   "id": "eeec9bf5",
   "metadata": {},
   "outputs": [
    {
     "data": {
      "image/png": "[encoded data removed]",
      "text/plain": [
       "<Figure size 1440x432 with 1 Axes>"
      ]
     },
     "metadata": {
      "needs_background": "light"
     },
     "output_type": "display_data"
    }
   ],
   "source": [
    "#le graphe d'évolution du CA mois par mois\n",
    "plt.figure(figsize=(20,6))\n",
    "plt.plot(CA_mensuel['mois_session'],CA_mensuel['CA'] )\n",
    "plt.yticks([0,100000,200000,300000,400000, 500000, 600000])\n",
    "plt.grid(axis='y')\n",
    "plt.ylabel('CA mensuel')\n",
    "plt.title('Evolution du CA de mars 2021 à fev 2023')\n",
    "plt.show()"
   ]
  },
  {
   "cell_type": "markdown",
   "id": "8229578c",
   "metadata": {},
   "source": [
    "Chute du CA en oct 2021 ==> à analyser"
   ]
  },
  {
   "cell_type": "markdown",
   "id": "547a1b71",
   "metadata": {},
   "source": [
    "Zoom sur les evenements d'octobre 2021. Visualisation du CA hebdo"
   ]
  },
  {
   "cell_type": "code",
   "execution_count": 37,
   "id": "4f9ec28b",
   "metadata": {},
   "outputs": [
    {
     "data": {
      "text/html": [
       "<div>\n",
       "<style scoped>\n",
       "    .dataframe tbody tr th:only-of-type {\n",
       "        vertical-align: middle;\n",
       "    }\n",
       "\n",
       "    .dataframe tbody tr th {\n",
       "        vertical-align: top;\n",
       "    }\n",
       "\n",
       "    .dataframe thead th {\n",
       "        text-align: right;\n",
       "    }\n",
       "</style>\n",
       "<table border=\"1\" class=\"dataframe\">\n",
       "  <thead>\n",
       "    <tr style=\"text-align: right;\">\n",
       "      <th></th>\n",
       "      <th>semaine_session</th>\n",
       "      <th>CA</th>\n",
       "    </tr>\n",
       "  </thead>\n",
       "  <tbody>\n",
       "    <tr>\n",
       "      <th>0</th>\n",
       "      <td>2021-09</td>\n",
       "      <td>110515.644320</td>\n",
       "    </tr>\n",
       "    <tr>\n",
       "      <th>1</th>\n",
       "      <td>2021-10</td>\n",
       "      <td>105693.240000</td>\n",
       "    </tr>\n",
       "    <tr>\n",
       "      <th>2</th>\n",
       "      <td>2021-11</td>\n",
       "      <td>112059.080000</td>\n",
       "    </tr>\n",
       "    <tr>\n",
       "      <th>3</th>\n",
       "      <td>2021-12</td>\n",
       "      <td>109493.434320</td>\n",
       "    </tr>\n",
       "    <tr>\n",
       "      <th>4</th>\n",
       "      <td>2021-13</td>\n",
       "      <td>107982.933867</td>\n",
       "    </tr>\n",
       "  </tbody>\n",
       "</table>\n",
       "</div>"
      ],
      "text/plain": [
       "  semaine_session             CA\n",
       "0         2021-09  110515.644320\n",
       "1         2021-10  105693.240000\n",
       "2         2021-11  112059.080000\n",
       "3         2021-12  109493.434320\n",
       "4         2021-13  107982.933867"
      ]
     },
     "execution_count": 37,
     "metadata": {},
     "output_type": "execute_result"
    }
   ],
   "source": [
    "# création nouvelle colonne semaine de la session\n",
    "transac_price['semaine_session']= transac_price['date_session'].dt.strftime('%Y-%W')\n",
    "#agregation sur la semaine du CA réalisé\n",
    "CA_hebdo = transac_price.groupby(transac_price['semaine_session'])['price'].sum().reset_index(name='CA')\n",
    "CA_hebdo.head()"
   ]
  },
  {
   "cell_type": "code",
   "execution_count": 38,
   "id": "4c085c55",
   "metadata": {},
   "outputs": [
    {
     "data": {
      "image/png": "[encoded data removed]",
      "text/plain": [
       "<Figure size 1440x432 with 1 Axes>"
      ]
     },
     "metadata": {
      "needs_background": "light"
     },
     "output_type": "display_data"
    }
   ],
   "source": [
    "#visualisation du CA hebdo de fin sept à debut nov 2021\n",
    "plt.figure(figsize=(20,6))\n",
    "plt.plot(CA_hebdo['semaine_session'],CA_hebdo['CA'] )\n",
    "plt.yticks([0,20000,60000,100000,140000])\n",
    "plt.xticks(rotation=45)\n",
    "plt.xlim('2021-38', '2021-45')\n",
    "plt.grid(axis='y')\n",
    "plt.ylabel('CA hebdo')\n",
    "plt.title('Evolution du CA de la semaine du 20/09 à la semaine du 8/11 2021')\n",
    "plt.show()"
   ]
  },
  {
   "cell_type": "markdown",
   "id": "25fe7576",
   "metadata": {},
   "source": [
    "Je continue à zoomer à la journée. et si rien de visible alors pb sur les produits"
   ]
  },
  {
   "cell_type": "code",
   "execution_count": 39,
   "id": "dee1da40",
   "metadata": {},
   "outputs": [
    {
     "data": {
      "text/html": [
       "<div>\n",
       "<style scoped>\n",
       "    .dataframe tbody tr th:only-of-type {\n",
       "        vertical-align: middle;\n",
       "    }\n",
       "\n",
       "    .dataframe tbody tr th {\n",
       "        vertical-align: top;\n",
       "    }\n",
       "\n",
       "    .dataframe thead th {\n",
       "        text-align: right;\n",
       "    }\n",
       "</style>\n",
       "<table border=\"1\" class=\"dataframe\">\n",
       "  <thead>\n",
       "    <tr style=\"text-align: right;\">\n",
       "      <th></th>\n",
       "      <th>jour_session</th>\n",
       "      <th>CA</th>\n",
       "    </tr>\n",
       "  </thead>\n",
       "  <tbody>\n",
       "    <tr>\n",
       "      <th>0</th>\n",
       "      <td>2021-03-01</td>\n",
       "      <td>16582.674773</td>\n",
       "    </tr>\n",
       "    <tr>\n",
       "      <th>1</th>\n",
       "      <td>2021-03-02</td>\n",
       "      <td>15503.904773</td>\n",
       "    </tr>\n",
       "    <tr>\n",
       "      <th>2</th>\n",
       "      <td>2021-03-03</td>\n",
       "      <td>15198.690000</td>\n",
       "    </tr>\n",
       "    <tr>\n",
       "      <th>3</th>\n",
       "      <td>2021-03-04</td>\n",
       "      <td>15196.070000</td>\n",
       "    </tr>\n",
       "    <tr>\n",
       "      <th>4</th>\n",
       "      <td>2021-03-05</td>\n",
       "      <td>17471.370000</td>\n",
       "    </tr>\n",
       "  </tbody>\n",
       "</table>\n",
       "</div>"
      ],
      "text/plain": [
       "  jour_session            CA\n",
       "0   2021-03-01  16582.674773\n",
       "1   2021-03-02  15503.904773\n",
       "2   2021-03-03  15198.690000\n",
       "3   2021-03-04  15196.070000\n",
       "4   2021-03-05  17471.370000"
      ]
     },
     "execution_count": 39,
     "metadata": {},
     "output_type": "execute_result"
    }
   ],
   "source": [
    "# création nouvelle colonne jour de la session\n",
    "transac_price['jour_session']= transac_price['date_session'].dt.strftime('%Y-%m-%d')\n",
    "#agregation sur la journée du CA réalisé\n",
    "CA_jour = transac_price.groupby(transac_price['jour_session'])['price'].sum().reset_index(name='CA')\n",
    "CA_jour.head()"
   ]
  },
  {
   "cell_type": "code",
   "execution_count": 40,
   "id": "74f76632",
   "metadata": {},
   "outputs": [
    {
     "data": {
      "image/png": "[encoded data removed]",
      "text/plain": [
       "<Figure size 1440x432 with 1 Axes>"
      ]
     },
     "metadata": {
      "needs_background": "light"
     },
     "output_type": "display_data"
    }
   ],
   "source": [
    "#visualisation du CA journalier de S40 à S42\n",
    "plt.figure(figsize=(20,6))\n",
    "plt.plot(CA_jour['jour_session'],CA_jour['CA'] )\n",
    "plt.yticks([0,5000,10000,15000,20000])\n",
    "plt.xticks(rotation=45)\n",
    "plt.xlim('2021-09-27', '2021-11-01')\n",
    "plt.grid(axis='y')\n",
    "plt.ylabel('CA journalier')\n",
    "plt.title('Evolution du CA du 27/09 au 1/11/2021')\n",
    "plt.show()"
   ]
  },
  {
   "cell_type": "markdown",
   "id": "71a8acee",
   "metadata": {},
   "source": [
    "La baisse des ventes en CA est sur toute une période allant du 01/10 au 26/10 inclus. Je regarde comment sont répartis les produits par catégorie sur cette période."
   ]
  },
  {
   "cell_type": "code",
   "execution_count": 41,
   "id": "532f70a1",
   "metadata": {},
   "outputs": [
    {
     "data": {
      "text/html": [
       "<div>\n",
       "<style scoped>\n",
       "    .dataframe tbody tr th:only-of-type {\n",
       "        vertical-align: middle;\n",
       "    }\n",
       "\n",
       "    .dataframe tbody tr th {\n",
       "        vertical-align: top;\n",
       "    }\n",
       "\n",
       "    .dataframe thead th {\n",
       "        text-align: right;\n",
       "    }\n",
       "</style>\n",
       "<table border=\"1\" class=\"dataframe\">\n",
       "  <thead>\n",
       "    <tr style=\"text-align: right;\">\n",
       "      <th></th>\n",
       "      <th>jour_session</th>\n",
       "      <th>categ</th>\n",
       "      <th>count</th>\n",
       "    </tr>\n",
       "  </thead>\n",
       "  <tbody>\n",
       "    <tr>\n",
       "      <th>0</th>\n",
       "      <td>2021-03-01</td>\n",
       "      <td>categ_0</td>\n",
       "      <td>582</td>\n",
       "    </tr>\n",
       "    <tr>\n",
       "      <th>1</th>\n",
       "      <td>2021-03-01</td>\n",
       "      <td>categ_1</td>\n",
       "      <td>335</td>\n",
       "    </tr>\n",
       "    <tr>\n",
       "      <th>2</th>\n",
       "      <td>2021-03-01</td>\n",
       "      <td>categ_2</td>\n",
       "      <td>46</td>\n",
       "    </tr>\n",
       "    <tr>\n",
       "      <th>3</th>\n",
       "      <td>2021-03-02</td>\n",
       "      <td>categ_0</td>\n",
       "      <td>621</td>\n",
       "    </tr>\n",
       "    <tr>\n",
       "      <th>4</th>\n",
       "      <td>2021-03-02</td>\n",
       "      <td>categ_1</td>\n",
       "      <td>276</td>\n",
       "    </tr>\n",
       "  </tbody>\n",
       "</table>\n",
       "</div>"
      ],
      "text/plain": [
       "  jour_session    categ  count\n",
       "0   2021-03-01  categ_0    582\n",
       "1   2021-03-01  categ_1    335\n",
       "2   2021-03-01  categ_2     46\n",
       "3   2021-03-02  categ_0    621\n",
       "4   2021-03-02  categ_1    276"
      ]
     },
     "execution_count": 41,
     "metadata": {},
     "output_type": "execute_result"
    }
   ],
   "source": [
    "#nb des ventes journalières par catégorie par un groupby\n",
    "vente_jour_categ = transac_price.groupby(['jour_session', 'categ'])['categ'].agg('count').reset_index(name ='count')\n",
    "vente_jour_categ.head()"
   ]
  },
  {
   "cell_type": "code",
   "execution_count": 42,
   "id": "8912b4b4",
   "metadata": {},
   "outputs": [
    {
     "data": {
      "text/html": [
       "<div>\n",
       "<style scoped>\n",
       "    .dataframe tbody tr th:only-of-type {\n",
       "        vertical-align: middle;\n",
       "    }\n",
       "\n",
       "    .dataframe tbody tr th {\n",
       "        vertical-align: top;\n",
       "    }\n",
       "\n",
       "    .dataframe thead th {\n",
       "        text-align: right;\n",
       "    }\n",
       "</style>\n",
       "<table border=\"1\" class=\"dataframe\">\n",
       "  <thead>\n",
       "    <tr style=\"text-align: right;\">\n",
       "      <th>categ</th>\n",
       "      <th>jour_session</th>\n",
       "      <th>categ_0</th>\n",
       "      <th>categ_1</th>\n",
       "      <th>categ_2</th>\n",
       "    </tr>\n",
       "  </thead>\n",
       "  <tbody>\n",
       "    <tr>\n",
       "      <th>0</th>\n",
       "      <td>2021-03-01</td>\n",
       "      <td>582.0</td>\n",
       "      <td>335.0</td>\n",
       "      <td>46.0</td>\n",
       "    </tr>\n",
       "    <tr>\n",
       "      <th>1</th>\n",
       "      <td>2021-03-02</td>\n",
       "      <td>621.0</td>\n",
       "      <td>276.0</td>\n",
       "      <td>43.0</td>\n",
       "    </tr>\n",
       "    <tr>\n",
       "      <th>2</th>\n",
       "      <td>2021-03-03</td>\n",
       "      <td>591.0</td>\n",
       "      <td>280.0</td>\n",
       "      <td>40.0</td>\n",
       "    </tr>\n",
       "    <tr>\n",
       "      <th>3</th>\n",
       "      <td>2021-03-04</td>\n",
       "      <td>563.0</td>\n",
       "      <td>297.0</td>\n",
       "      <td>43.0</td>\n",
       "    </tr>\n",
       "    <tr>\n",
       "      <th>4</th>\n",
       "      <td>2021-03-05</td>\n",
       "      <td>561.0</td>\n",
       "      <td>331.0</td>\n",
       "      <td>51.0</td>\n",
       "    </tr>\n",
       "  </tbody>\n",
       "</table>\n",
       "</div>"
      ],
      "text/plain": [
       "categ jour_session  categ_0  categ_1  categ_2\n",
       "0       2021-03-01    582.0    335.0     46.0\n",
       "1       2021-03-02    621.0    276.0     43.0\n",
       "2       2021-03-03    591.0    280.0     40.0\n",
       "3       2021-03-04    563.0    297.0     43.0\n",
       "4       2021-03-05    561.0    331.0     51.0"
      ]
     },
     "execution_count": 42,
     "metadata": {},
     "output_type": "execute_result"
    }
   ],
   "source": [
    "#pour chaque journée, par catégorie (colonnes), calcul du nb de produits\n",
    "table_vente_categ=vente_jour_categ.pivot_table(index='jour_session', columns='categ', values ='count', aggfunc='sum').reset_index()\n",
    "table_vente_categ.head()"
   ]
  },
  {
   "cell_type": "code",
   "execution_count": 43,
   "id": "0c9b5b83",
   "metadata": {},
   "outputs": [
    {
     "data": {
      "image/png": "[encoded data removed]",
      "text/plain": [
       "<Figure size 1440x432 with 1 Axes>"
      ]
     },
     "metadata": {
      "needs_background": "light"
     },
     "output_type": "display_data"
    }
   ],
   "source": [
    "#visualisation des ventes de chaque catégorie via 3 courbes\n",
    "plt.figure(figsize=(20,6))\n",
    "plt.plot(table_vente_categ['jour_session'],table_vente_categ['categ_0'], label ='categ 0')\n",
    "plt.plot(table_vente_categ['jour_session'],table_vente_categ['categ_1'], label ='categ 1')\n",
    "plt.plot(table_vente_categ['jour_session'],table_vente_categ['categ_2'], label ='categ 2')\n",
    "plt.yticks([0, 200, 400, 600, 800, 1000])\n",
    "plt.xticks(rotation=45)\n",
    "plt.xlim('2021-09-27', '2021-11-01')\n",
    "plt.grid(axis='y')\n",
    "plt.ylabel('Nb de ventes')\n",
    "plt.legend()\n",
    "plt.title('Evolution des ventes pour chaque catégorie du 27/09 au 1/11/2021')\n",
    "plt.show()"
   ]
  },
  {
   "cell_type": "markdown",
   "id": "9676427e",
   "metadata": {},
   "source": [
    "Aucun produit de la catégorie 1 du 1er oct au 27 inclus.Pb de données sur cette période???\n",
    "\n",
    "Pour ne pas biaiser l'analyse, 3 options possibles: \n",
    "- Compléter les données par méthode mathématique et statistiques,  \n",
    "- ou par une méthode de machine learning.\n",
    "- exclure les données.\n",
    "\n",
    "==> j'exclus les données sur tout le mois d'octobre."
   ]
  },
  {
   "cell_type": "code",
   "execution_count": 44,
   "id": "b95b2e28",
   "metadata": {},
   "outputs": [
    {
     "data": {
      "text/html": [
       "<div>\n",
       "<style scoped>\n",
       "    .dataframe tbody tr th:only-of-type {\n",
       "        vertical-align: middle;\n",
       "    }\n",
       "\n",
       "    .dataframe tbody tr th {\n",
       "        vertical-align: top;\n",
       "    }\n",
       "\n",
       "    .dataframe thead th {\n",
       "        text-align: right;\n",
       "    }\n",
       "</style>\n",
       "<table border=\"1\" class=\"dataframe\">\n",
       "  <thead>\n",
       "    <tr style=\"text-align: right;\">\n",
       "      <th></th>\n",
       "      <th>id_prod</th>\n",
       "      <th>session_id</th>\n",
       "      <th>client_id</th>\n",
       "      <th>date_session</th>\n",
       "      <th>price</th>\n",
       "      <th>categ</th>\n",
       "      <th>mois_session</th>\n",
       "      <th>semaine_session</th>\n",
       "      <th>jour_session</th>\n",
       "    </tr>\n",
       "  </thead>\n",
       "  <tbody>\n",
       "    <tr>\n",
       "      <th>0</th>\n",
       "      <td>0_1518</td>\n",
       "      <td>s_211425</td>\n",
       "      <td>c_103</td>\n",
       "      <td>2022-05-20 13:21:29.043970</td>\n",
       "      <td>4.18</td>\n",
       "      <td>categ_0</td>\n",
       "      <td>2022-05</td>\n",
       "      <td>2022-20</td>\n",
       "      <td>2022-05-20</td>\n",
       "    </tr>\n",
       "    <tr>\n",
       "      <th>1</th>\n",
       "      <td>1_251</td>\n",
       "      <td>s_158752</td>\n",
       "      <td>c_8534</td>\n",
       "      <td>2022-02-02 07:55:19.149409</td>\n",
       "      <td>15.99</td>\n",
       "      <td>categ_1</td>\n",
       "      <td>2022-02</td>\n",
       "      <td>2022-05</td>\n",
       "      <td>2022-02-02</td>\n",
       "    </tr>\n",
       "    <tr>\n",
       "      <th>2</th>\n",
       "      <td>0_1277</td>\n",
       "      <td>s_225667</td>\n",
       "      <td>c_6714</td>\n",
       "      <td>2022-06-18 15:44:33.155329</td>\n",
       "      <td>7.99</td>\n",
       "      <td>categ_0</td>\n",
       "      <td>2022-06</td>\n",
       "      <td>2022-24</td>\n",
       "      <td>2022-06-18</td>\n",
       "    </tr>\n",
       "    <tr>\n",
       "      <th>3</th>\n",
       "      <td>2_209</td>\n",
       "      <td>s_52962</td>\n",
       "      <td>c_6941</td>\n",
       "      <td>2021-06-24 04:19:29.835891</td>\n",
       "      <td>69.99</td>\n",
       "      <td>categ_2</td>\n",
       "      <td>2021-06</td>\n",
       "      <td>2021-25</td>\n",
       "      <td>2021-06-24</td>\n",
       "    </tr>\n",
       "    <tr>\n",
       "      <th>4</th>\n",
       "      <td>0_1509</td>\n",
       "      <td>s_325227</td>\n",
       "      <td>c_4232</td>\n",
       "      <td>2023-01-11 08:22:08.194479</td>\n",
       "      <td>4.99</td>\n",
       "      <td>categ_0</td>\n",
       "      <td>2023-01</td>\n",
       "      <td>2023-02</td>\n",
       "      <td>2023-01-11</td>\n",
       "    </tr>\n",
       "  </tbody>\n",
       "</table>\n",
       "</div>"
      ],
      "text/plain": [
       "  id_prod session_id client_id               date_session  price    categ  \\\n",
       "0  0_1518   s_211425     c_103 2022-05-20 13:21:29.043970   4.18  categ_0   \n",
       "1   1_251   s_158752    c_8534 2022-02-02 07:55:19.149409  15.99  categ_1   \n",
       "2  0_1277   s_225667    c_6714 2022-06-18 15:44:33.155329   7.99  categ_0   \n",
       "3   2_209    s_52962    c_6941 2021-06-24 04:19:29.835891  69.99  categ_2   \n",
       "4  0_1509   s_325227    c_4232 2023-01-11 08:22:08.194479   4.99  categ_0   \n",
       "\n",
       "  mois_session semaine_session jour_session  \n",
       "0      2022-05         2022-20   2022-05-20  \n",
       "1      2022-02         2022-05   2022-02-02  \n",
       "2      2022-06         2022-24   2022-06-18  \n",
       "3      2021-06         2021-25   2021-06-24  \n",
       "4      2023-01         2023-02   2023-01-11  "
      ]
     },
     "execution_count": 44,
     "metadata": {},
     "output_type": "execute_result"
    }
   ],
   "source": [
    "#df sans les transactions d'octobre\n",
    "df_transac = transac_price.drop(transac_price[(transac_price['date_session']>'2021-09-30') & (transac_price['date_session']<'2021-11-01')].index)\n",
    "df_transac.head()"
   ]
  },
  {
   "cell_type": "code",
   "execution_count": 45,
   "id": "8e99cf2b",
   "metadata": {},
   "outputs": [
    {
     "data": {
      "image/png": "[encoded data removed]",
      "text/plain": [
       "<Figure size 1440x432 with 1 Axes>"
      ]
     },
     "metadata": {
      "needs_background": "light"
     },
     "output_type": "display_data"
    }
   ],
   "source": [
    "#pour obtenir le CA par mois, j'effectue une agregation\n",
    "df_transacM = df_transac.groupby(df_transac['mois_session'])['price'].sum().reset_index(name='CA')\n",
    "#le graphe d'évolution du CA\n",
    "plt.figure(figsize=(20,6))\n",
    "plt.plot(df_transacM['mois_session'],df_transacM['CA'] )\n",
    "plt.yticks([0,100000,200000,300000,400000, 500000, 600000])\n",
    "plt.grid(axis='y')\n",
    "plt.ylabel('CA mensuel')\n",
    "plt.title('Evolution du CA de mars 2021 à fev 2023')\n",
    "plt.show()"
   ]
  },
  {
   "cell_type": "markdown",
   "id": "832dc360",
   "metadata": {},
   "source": [
    "==> le mois d'oct 2021 n'est plus visible sur le graphe car pas de CA.\n",
    "\n",
    "Visualisons les CA mensuels en les comparant d'une année à l'autre"
   ]
  },
  {
   "cell_type": "code",
   "execution_count": 46,
   "id": "d696db4c",
   "metadata": {
    "scrolled": true
   },
   "outputs": [
    {
     "data": {
      "image/png": "[encoded data removed]",
      "text/plain": [
       "<Figure size 1080x432 with 1 Axes>"
      ]
     },
     "metadata": {
      "needs_background": "light"
     },
     "output_type": "display_data"
    }
   ],
   "source": [
    "#'date_session' au format date\n",
    "df_transacM['mois_session']= pd.to_datetime(df_transacM['mois_session'], format='%Y-%m')\n",
    "#sur un même graphe annuel, comparaison des CA mensuels 2021, 2022, 2023\n",
    "plt.figure(figsize=(15,6))\n",
    "sns.lineplot(data=df_transacM, x=df_transacM['mois_session'].dt.month, y='CA', hue = df_transacM['mois_session'].dt.year, palette='bright', ci=None, estimator=sum)\n",
    "plt.xlabel('Mois')\n",
    "plt.ylabel('CA mensuel (en €)')\n",
    "plt.yticks([0, 200000, 400000, 600000])\n",
    "plt.xticks([1, 2, 3, 4, 5, 6, 7, 8, 9, 10, 11, 12])\n",
    "plt.legend(title =\"\", bbox_to_anchor=(1.02,1))\n",
    "plt.title('Comparaison des CA mensuels 2021, 2022 et 2023')\n",
    "plt.grid(axis='y')\n",
    "plt.show()"
   ]
  },
  {
   "cell_type": "markdown",
   "id": "9581a198",
   "metadata": {},
   "source": [
    "On constate que 2022 est supérieur à 2021 mais passe dessous à partir d'octobre. De plus le petit bout de courbe de 2023 est très en dessous de 2022 à la même période de l'année.\n",
    "\n",
    "Effectuons une décomposition en moyenne mobile pour évaluer une tendance globale:"
   ]
  },
  {
   "cell_type": "code",
   "execution_count": 47,
   "id": "7ff50ad4",
   "metadata": {},
   "outputs": [],
   "source": [
    "#calcul de la moyenne mobile et choix de l'ordre\n",
    "df_transacM = df_transacM.sort_values('mois_session')\n",
    "df_transacM['moy_mobile']=df_transacM['CA'].rolling(7).mean()"
   ]
  },
  {
   "cell_type": "code",
   "execution_count": 48,
   "id": "0c5d67aa",
   "metadata": {
    "scrolled": true
   },
   "outputs": [
    {
     "data": {
      "image/png": "[encoded data removed]",
      "text/plain": [
       "<Figure size 1440x432 with 1 Axes>"
      ]
     },
     "metadata": {
      "needs_background": "light"
     },
     "output_type": "display_data"
    }
   ],
   "source": [
    "#affichage sur un seul graphe du CA réel et de la moyenne mobile\n",
    "plt.figure(figsize=(20,6))\n",
    "plt.plot(df_transacM['mois_session'],df_transacM['CA'] , color ='blue', label='CA')\n",
    "plt.plot(df_transacM['mois_session'], df_transacM['moy_mobile'], color='grey', linestyle='--', label='Moyenne mobile')\n",
    "plt.grid(axis='y')\n",
    "plt.yticks([0,100000,200000,300000,400000, 500000, 600000])\n",
    "plt.ylabel('CA mensuel')\n",
    "plt.legend(title=\"\", bbox_to_anchor=(1,0.2))\n",
    "plt.show()"
   ]
  },
  {
   "cell_type": "markdown",
   "id": "c7d76a3f",
   "metadata": {},
   "source": [
    "La courbe de la moyenne mobile indique une tendance du CA à la baisse depuis mai 2022."
   ]
  },
  {
   "cell_type": "markdown",
   "id": "7ca40332",
   "metadata": {},
   "source": [
    "# Partie 2: Zoom sur les références <a class=\"anchor\" id=\"chapter3\"></a>"
   ]
  },
  {
   "cell_type": "markdown",
   "id": "339c6985",
   "metadata": {},
   "source": [
    "Les tops, les flops, la répartition par catégorie.\n",
    "\n",
    "Calcul du CA réalisé par produit:"
   ]
  },
  {
   "cell_type": "code",
   "execution_count": 49,
   "id": "c39f5477",
   "metadata": {},
   "outputs": [
    {
     "data": {
      "text/html": [
       "<div>\n",
       "<style scoped>\n",
       "    .dataframe tbody tr th:only-of-type {\n",
       "        vertical-align: middle;\n",
       "    }\n",
       "\n",
       "    .dataframe tbody tr th {\n",
       "        vertical-align: top;\n",
       "    }\n",
       "\n",
       "    .dataframe thead th {\n",
       "        text-align: right;\n",
       "    }\n",
       "</style>\n",
       "<table border=\"1\" class=\"dataframe\">\n",
       "  <thead>\n",
       "    <tr style=\"text-align: right;\">\n",
       "      <th></th>\n",
       "      <th>id_prod</th>\n",
       "      <th>CA</th>\n",
       "    </tr>\n",
       "  </thead>\n",
       "  <tbody>\n",
       "    <tr>\n",
       "      <th>0</th>\n",
       "      <td>0_0</td>\n",
       "      <td>4470.00</td>\n",
       "    </tr>\n",
       "    <tr>\n",
       "      <th>1</th>\n",
       "      <td>0_1</td>\n",
       "      <td>5154.31</td>\n",
       "    </tr>\n",
       "    <tr>\n",
       "      <th>2</th>\n",
       "      <td>0_10</td>\n",
       "      <td>323.10</td>\n",
       "    </tr>\n",
       "    <tr>\n",
       "      <th>3</th>\n",
       "      <td>0_100</td>\n",
       "      <td>61.80</td>\n",
       "    </tr>\n",
       "    <tr>\n",
       "      <th>4</th>\n",
       "      <td>0_1000</td>\n",
       "      <td>2783.88</td>\n",
       "    </tr>\n",
       "  </tbody>\n",
       "</table>\n",
       "</div>"
      ],
      "text/plain": [
       "  id_prod       CA\n",
       "0     0_0  4470.00\n",
       "1     0_1  5154.31\n",
       "2    0_10   323.10\n",
       "3   0_100    61.80\n",
       "4  0_1000  2783.88"
      ]
     },
     "execution_count": 49,
     "metadata": {},
     "output_type": "execute_result"
    }
   ],
   "source": [
    "#CA par produit, agrégation sur l'id_prod et somme des prix\n",
    "df_references = df_transac.groupby(['id_prod'])['price'].sum().reset_index(name='CA')\n",
    "df_references.head()"
   ]
  },
  {
   "cell_type": "code",
   "execution_count": 50,
   "id": "53fe1a8e",
   "metadata": {},
   "outputs": [
    {
     "data": {
      "text/html": [
       "<div>\n",
       "<style scoped>\n",
       "    .dataframe tbody tr th:only-of-type {\n",
       "        vertical-align: middle;\n",
       "    }\n",
       "\n",
       "    .dataframe tbody tr th {\n",
       "        vertical-align: top;\n",
       "    }\n",
       "\n",
       "    .dataframe thead th {\n",
       "        text-align: right;\n",
       "    }\n",
       "</style>\n",
       "<table border=\"1\" class=\"dataframe\">\n",
       "  <thead>\n",
       "    <tr style=\"text-align: right;\">\n",
       "      <th></th>\n",
       "      <th>id_prod</th>\n",
       "      <th>CA</th>\n",
       "      <th>price</th>\n",
       "      <th>categ</th>\n",
       "      <th>qté</th>\n",
       "    </tr>\n",
       "  </thead>\n",
       "  <tbody>\n",
       "    <tr>\n",
       "      <th>0</th>\n",
       "      <td>0_0</td>\n",
       "      <td>4470.00</td>\n",
       "      <td>3.75</td>\n",
       "      <td>categ_0</td>\n",
       "      <td>1192.0</td>\n",
       "    </tr>\n",
       "    <tr>\n",
       "      <th>1</th>\n",
       "      <td>0_1</td>\n",
       "      <td>5154.31</td>\n",
       "      <td>10.99</td>\n",
       "      <td>categ_0</td>\n",
       "      <td>469.0</td>\n",
       "    </tr>\n",
       "    <tr>\n",
       "      <th>2</th>\n",
       "      <td>0_10</td>\n",
       "      <td>323.10</td>\n",
       "      <td>17.95</td>\n",
       "      <td>categ_0</td>\n",
       "      <td>17.0</td>\n",
       "    </tr>\n",
       "    <tr>\n",
       "      <th>3</th>\n",
       "      <td>0_100</td>\n",
       "      <td>61.80</td>\n",
       "      <td>20.60</td>\n",
       "      <td>categ_0</td>\n",
       "      <td>3.0</td>\n",
       "    </tr>\n",
       "    <tr>\n",
       "      <th>4</th>\n",
       "      <td>0_1000</td>\n",
       "      <td>2783.88</td>\n",
       "      <td>6.84</td>\n",
       "      <td>categ_0</td>\n",
       "      <td>407.0</td>\n",
       "    </tr>\n",
       "  </tbody>\n",
       "</table>\n",
       "</div>"
      ],
      "text/plain": [
       "  id_prod       CA  price    categ     qté\n",
       "0     0_0  4470.00   3.75  categ_0  1192.0\n",
       "1     0_1  5154.31  10.99  categ_0   469.0\n",
       "2    0_10   323.10  17.95  categ_0    17.0\n",
       "3   0_100    61.80  20.60  categ_0     3.0\n",
       "4  0_1000  2783.88   6.84  categ_0   407.0"
      ]
     },
     "execution_count": 50,
     "metadata": {},
     "output_type": "execute_result"
    }
   ],
   "source": [
    "#ajout du prix unitaire et catégorie par fusion\n",
    "df_references_complet = pd.merge(df_references,products, on='id_prod', how='left' )\n",
    "#calcul de la qté vendue\n",
    "df_references_complet['qté']= df_references_complet['CA']//df_references_complet['price']\n",
    "df_references_complet.head()"
   ]
  },
  {
   "cell_type": "markdown",
   "id": "2502492c",
   "metadata": {},
   "source": [
    "## Les TOPS <a class=\"anchor\" id=\"section_3_1\"></a>"
   ]
  },
  {
   "cell_type": "code",
   "execution_count": 51,
   "id": "86e85a30",
   "metadata": {},
   "outputs": [
    {
     "name": "stdout",
     "output_type": "stream",
     "text": [
      "les 10 produits tops en quantité vendue sont:\n"
     ]
    },
    {
     "data": {
      "text/html": [
       "<div>\n",
       "<style scoped>\n",
       "    .dataframe tbody tr th:only-of-type {\n",
       "        vertical-align: middle;\n",
       "    }\n",
       "\n",
       "    .dataframe tbody tr th {\n",
       "        vertical-align: top;\n",
       "    }\n",
       "\n",
       "    .dataframe thead th {\n",
       "        text-align: right;\n",
       "    }\n",
       "</style>\n",
       "<table border=\"1\" class=\"dataframe\">\n",
       "  <thead>\n",
       "    <tr style=\"text-align: right;\">\n",
       "      <th></th>\n",
       "      <th>id_prod</th>\n",
       "      <th>CA</th>\n",
       "      <th>price</th>\n",
       "      <th>categ</th>\n",
       "      <th>qté</th>\n",
       "    </tr>\n",
       "  </thead>\n",
       "  <tbody>\n",
       "    <tr>\n",
       "      <th>2590</th>\n",
       "      <td>1_369</td>\n",
       "      <td>53593.66</td>\n",
       "      <td>23.99</td>\n",
       "      <td>categ_1</td>\n",
       "      <td>2233.0</td>\n",
       "    </tr>\n",
       "    <tr>\n",
       "      <th>2643</th>\n",
       "      <td>1_417</td>\n",
       "      <td>45527.31</td>\n",
       "      <td>20.99</td>\n",
       "      <td>categ_1</td>\n",
       "      <td>2169.0</td>\n",
       "    </tr>\n",
       "    <tr>\n",
       "      <th>2640</th>\n",
       "      <td>1_414</td>\n",
       "      <td>51496.63</td>\n",
       "      <td>23.83</td>\n",
       "      <td>categ_1</td>\n",
       "      <td>2161.0</td>\n",
       "    </tr>\n",
       "    <tr>\n",
       "      <th>2732</th>\n",
       "      <td>1_498</td>\n",
       "      <td>49474.29</td>\n",
       "      <td>23.37</td>\n",
       "      <td>categ_1</td>\n",
       "      <td>2116.0</td>\n",
       "    </tr>\n",
       "    <tr>\n",
       "      <th>2652</th>\n",
       "      <td>1_425</td>\n",
       "      <td>35322.21</td>\n",
       "      <td>16.99</td>\n",
       "      <td>categ_1</td>\n",
       "      <td>2079.0</td>\n",
       "    </tr>\n",
       "    <tr>\n",
       "      <th>2628</th>\n",
       "      <td>1_403</td>\n",
       "      <td>35044.52</td>\n",
       "      <td>17.99</td>\n",
       "      <td>categ_1</td>\n",
       "      <td>1947.0</td>\n",
       "    </tr>\n",
       "    <tr>\n",
       "      <th>2638</th>\n",
       "      <td>1_412</td>\n",
       "      <td>32234.40</td>\n",
       "      <td>16.65</td>\n",
       "      <td>categ_1</td>\n",
       "      <td>1936.0</td>\n",
       "    </tr>\n",
       "    <tr>\n",
       "      <th>2639</th>\n",
       "      <td>1_413</td>\n",
       "      <td>34702.71</td>\n",
       "      <td>17.99</td>\n",
       "      <td>categ_1</td>\n",
       "      <td>1929.0</td>\n",
       "    </tr>\n",
       "    <tr>\n",
       "      <th>2631</th>\n",
       "      <td>1_406</td>\n",
       "      <td>47808.87</td>\n",
       "      <td>24.81</td>\n",
       "      <td>categ_1</td>\n",
       "      <td>1926.0</td>\n",
       "    </tr>\n",
       "    <tr>\n",
       "      <th>2632</th>\n",
       "      <td>1_407</td>\n",
       "      <td>30700.80</td>\n",
       "      <td>15.99</td>\n",
       "      <td>categ_1</td>\n",
       "      <td>1919.0</td>\n",
       "    </tr>\n",
       "  </tbody>\n",
       "</table>\n",
       "</div>"
      ],
      "text/plain": [
       "     id_prod        CA  price    categ     qté\n",
       "2590   1_369  53593.66  23.99  categ_1  2233.0\n",
       "2643   1_417  45527.31  20.99  categ_1  2169.0\n",
       "2640   1_414  51496.63  23.83  categ_1  2161.0\n",
       "2732   1_498  49474.29  23.37  categ_1  2116.0\n",
       "2652   1_425  35322.21  16.99  categ_1  2079.0\n",
       "2628   1_403  35044.52  17.99  categ_1  1947.0\n",
       "2638   1_412  32234.40  16.65  categ_1  1936.0\n",
       "2639   1_413  34702.71  17.99  categ_1  1929.0\n",
       "2631   1_406  47808.87  24.81  categ_1  1926.0\n",
       "2632   1_407  30700.80  15.99  categ_1  1919.0"
      ]
     },
     "execution_count": 51,
     "metadata": {},
     "output_type": "execute_result"
    }
   ],
   "source": [
    "#liste des 10 produits les plus vendus en qté\n",
    "print('les 10 produits tops en quantité vendue sont:')\n",
    "df_references_complet.sort_values('qté', ascending = False).head(10)"
   ]
  },
  {
   "cell_type": "markdown",
   "id": "93ac5910",
   "metadata": {},
   "source": [
    "==> Top 5 qui sort du lot avec plus de 2000 unités vendues en 2 ans"
   ]
  },
  {
   "cell_type": "code",
   "execution_count": 52,
   "id": "2cb6d4e6",
   "metadata": {
    "scrolled": true
   },
   "outputs": [
    {
     "name": "stdout",
     "output_type": "stream",
     "text": [
      "les 10 produits tops en CA réalisé sont:\n"
     ]
    },
    {
     "data": {
      "text/html": [
       "<div>\n",
       "<style scoped>\n",
       "    .dataframe tbody tr th:only-of-type {\n",
       "        vertical-align: middle;\n",
       "    }\n",
       "\n",
       "    .dataframe tbody tr th {\n",
       "        vertical-align: top;\n",
       "    }\n",
       "\n",
       "    .dataframe thead th {\n",
       "        text-align: right;\n",
       "    }\n",
       "</style>\n",
       "<table border=\"1\" class=\"dataframe\">\n",
       "  <thead>\n",
       "    <tr style=\"text-align: right;\">\n",
       "      <th></th>\n",
       "      <th>id_prod</th>\n",
       "      <th>CA</th>\n",
       "      <th>price</th>\n",
       "      <th>categ</th>\n",
       "      <th>qté</th>\n",
       "    </tr>\n",
       "  </thead>\n",
       "  <tbody>\n",
       "    <tr>\n",
       "      <th>3095</th>\n",
       "      <td>2_159</td>\n",
       "      <td>92265.68</td>\n",
       "      <td>145.99</td>\n",
       "      <td>categ_2</td>\n",
       "      <td>632.0</td>\n",
       "    </tr>\n",
       "    <tr>\n",
       "      <th>3069</th>\n",
       "      <td>2_135</td>\n",
       "      <td>67403.23</td>\n",
       "      <td>68.99</td>\n",
       "      <td>categ_2</td>\n",
       "      <td>977.0</td>\n",
       "    </tr>\n",
       "    <tr>\n",
       "      <th>3044</th>\n",
       "      <td>2_112</td>\n",
       "      <td>62772.53</td>\n",
       "      <td>67.57</td>\n",
       "      <td>categ_2</td>\n",
       "      <td>928.0</td>\n",
       "    </tr>\n",
       "    <tr>\n",
       "      <th>3033</th>\n",
       "      <td>2_102</td>\n",
       "      <td>58962.58</td>\n",
       "      <td>59.14</td>\n",
       "      <td>categ_2</td>\n",
       "      <td>997.0</td>\n",
       "    </tr>\n",
       "    <tr>\n",
       "      <th>3151</th>\n",
       "      <td>2_209</td>\n",
       "      <td>55292.10</td>\n",
       "      <td>69.99</td>\n",
       "      <td>categ_2</td>\n",
       "      <td>790.0</td>\n",
       "    </tr>\n",
       "    <tr>\n",
       "      <th>2618</th>\n",
       "      <td>1_395</td>\n",
       "      <td>53863.42</td>\n",
       "      <td>28.99</td>\n",
       "      <td>categ_1</td>\n",
       "      <td>1858.0</td>\n",
       "    </tr>\n",
       "    <tr>\n",
       "      <th>2590</th>\n",
       "      <td>1_369</td>\n",
       "      <td>53593.66</td>\n",
       "      <td>23.99</td>\n",
       "      <td>categ_1</td>\n",
       "      <td>2233.0</td>\n",
       "    </tr>\n",
       "    <tr>\n",
       "      <th>3042</th>\n",
       "      <td>2_110</td>\n",
       "      <td>51854.25</td>\n",
       "      <td>62.25</td>\n",
       "      <td>categ_2</td>\n",
       "      <td>833.0</td>\n",
       "    </tr>\n",
       "    <tr>\n",
       "      <th>2640</th>\n",
       "      <td>1_414</td>\n",
       "      <td>51496.63</td>\n",
       "      <td>23.83</td>\n",
       "      <td>categ_1</td>\n",
       "      <td>2161.0</td>\n",
       "    </tr>\n",
       "    <tr>\n",
       "      <th>3200</th>\n",
       "      <td>2_39</td>\n",
       "      <td>51089.19</td>\n",
       "      <td>57.99</td>\n",
       "      <td>categ_2</td>\n",
       "      <td>881.0</td>\n",
       "    </tr>\n",
       "  </tbody>\n",
       "</table>\n",
       "</div>"
      ],
      "text/plain": [
       "     id_prod        CA   price    categ     qté\n",
       "3095   2_159  92265.68  145.99  categ_2   632.0\n",
       "3069   2_135  67403.23   68.99  categ_2   977.0\n",
       "3044   2_112  62772.53   67.57  categ_2   928.0\n",
       "3033   2_102  58962.58   59.14  categ_2   997.0\n",
       "3151   2_209  55292.10   69.99  categ_2   790.0\n",
       "2618   1_395  53863.42   28.99  categ_1  1858.0\n",
       "2590   1_369  53593.66   23.99  categ_1  2233.0\n",
       "3042   2_110  51854.25   62.25  categ_2   833.0\n",
       "2640   1_414  51496.63   23.83  categ_1  2161.0\n",
       "3200    2_39  51089.19   57.99  categ_2   881.0"
      ]
     },
     "execution_count": 52,
     "metadata": {},
     "output_type": "execute_result"
    }
   ],
   "source": [
    "#liste des 10 produits qui réalisent les plus gros CA\n",
    "print('les 10 produits tops en CA réalisé sont:')\n",
    "df_references_complet.sort_values('CA', ascending=False).head(10)"
   ]
  },
  {
   "cell_type": "markdown",
   "id": "90bddeb2",
   "metadata": {},
   "source": [
    "==> Top 3 avec CA réalisé supérieur à 600K€."
   ]
  },
  {
   "cell_type": "markdown",
   "id": "70b0fbe8",
   "metadata": {},
   "source": [
    "On note 2 références communes entre les 2 tableaux: 1_369 et 1_414."
   ]
  },
  {
   "cell_type": "markdown",
   "id": "a2910c72",
   "metadata": {},
   "source": [
    "## Les FLOPS <a class=\"anchor\" id=\"section_3_2\"></a>"
   ]
  },
  {
   "cell_type": "code",
   "execution_count": 53,
   "id": "803a9577",
   "metadata": {},
   "outputs": [
    {
     "name": "stdout",
     "output_type": "stream",
     "text": [
      "les 10 produits flops en CA réalisé sont:\n"
     ]
    },
    {
     "data": {
      "text/html": [
       "<div>\n",
       "<style scoped>\n",
       "    .dataframe tbody tr th:only-of-type {\n",
       "        vertical-align: middle;\n",
       "    }\n",
       "\n",
       "    .dataframe tbody tr th {\n",
       "        vertical-align: top;\n",
       "    }\n",
       "\n",
       "    .dataframe thead th {\n",
       "        text-align: right;\n",
       "    }\n",
       "</style>\n",
       "<table border=\"1\" class=\"dataframe\">\n",
       "  <thead>\n",
       "    <tr style=\"text-align: right;\">\n",
       "      <th></th>\n",
       "      <th>id_prod</th>\n",
       "      <th>CA</th>\n",
       "      <th>price</th>\n",
       "      <th>categ</th>\n",
       "      <th>qté</th>\n",
       "    </tr>\n",
       "  </thead>\n",
       "  <tbody>\n",
       "    <tr>\n",
       "      <th>594</th>\n",
       "      <td>0_1539</td>\n",
       "      <td>0.99</td>\n",
       "      <td>0.99</td>\n",
       "      <td>categ_0</td>\n",
       "      <td>1.0</td>\n",
       "    </tr>\n",
       "    <tr>\n",
       "      <th>2178</th>\n",
       "      <td>0_898</td>\n",
       "      <td>1.27</td>\n",
       "      <td>1.27</td>\n",
       "      <td>categ_0</td>\n",
       "      <td>1.0</td>\n",
       "    </tr>\n",
       "    <tr>\n",
       "      <th>313</th>\n",
       "      <td>0_1284</td>\n",
       "      <td>1.38</td>\n",
       "      <td>1.38</td>\n",
       "      <td>categ_0</td>\n",
       "      <td>1.0</td>\n",
       "    </tr>\n",
       "    <tr>\n",
       "      <th>1896</th>\n",
       "      <td>0_643</td>\n",
       "      <td>1.98</td>\n",
       "      <td>0.99</td>\n",
       "      <td>categ_0</td>\n",
       "      <td>2.0</td>\n",
       "    </tr>\n",
       "    <tr>\n",
       "      <th>718</th>\n",
       "      <td>0_1653</td>\n",
       "      <td>1.98</td>\n",
       "      <td>0.99</td>\n",
       "      <td>categ_0</td>\n",
       "      <td>2.0</td>\n",
       "    </tr>\n",
       "    <tr>\n",
       "      <th>664</th>\n",
       "      <td>0_1601</td>\n",
       "      <td>1.99</td>\n",
       "      <td>1.99</td>\n",
       "      <td>categ_0</td>\n",
       "      <td>1.0</td>\n",
       "    </tr>\n",
       "    <tr>\n",
       "      <th>1783</th>\n",
       "      <td>0_541</td>\n",
       "      <td>1.99</td>\n",
       "      <td>1.99</td>\n",
       "      <td>categ_0</td>\n",
       "      <td>1.0</td>\n",
       "    </tr>\n",
       "    <tr>\n",
       "      <th>2078</th>\n",
       "      <td>0_807</td>\n",
       "      <td>1.99</td>\n",
       "      <td>1.99</td>\n",
       "      <td>categ_0</td>\n",
       "      <td>1.0</td>\n",
       "    </tr>\n",
       "    <tr>\n",
       "      <th>801</th>\n",
       "      <td>0_1728</td>\n",
       "      <td>2.27</td>\n",
       "      <td>2.27</td>\n",
       "      <td>categ_0</td>\n",
       "      <td>1.0</td>\n",
       "    </tr>\n",
       "    <tr>\n",
       "      <th>1543</th>\n",
       "      <td>0_324</td>\n",
       "      <td>2.36</td>\n",
       "      <td>1.18</td>\n",
       "      <td>categ_0</td>\n",
       "      <td>2.0</td>\n",
       "    </tr>\n",
       "  </tbody>\n",
       "</table>\n",
       "</div>"
      ],
      "text/plain": [
       "     id_prod    CA  price    categ  qté\n",
       "594   0_1539  0.99   0.99  categ_0  1.0\n",
       "2178   0_898  1.27   1.27  categ_0  1.0\n",
       "313   0_1284  1.38   1.38  categ_0  1.0\n",
       "1896   0_643  1.98   0.99  categ_0  2.0\n",
       "718   0_1653  1.98   0.99  categ_0  2.0\n",
       "664   0_1601  1.99   1.99  categ_0  1.0\n",
       "1783   0_541  1.99   1.99  categ_0  1.0\n",
       "2078   0_807  1.99   1.99  categ_0  1.0\n",
       "801   0_1728  2.27   2.27  categ_0  1.0\n",
       "1543   0_324  2.36   1.18  categ_0  2.0"
      ]
     },
     "execution_count": 53,
     "metadata": {},
     "output_type": "execute_result"
    }
   ],
   "source": [
    "#liste des 10 produits qui réalisent les moins gros CA\n",
    "print('les 10 produits flops en CA réalisé sont:')\n",
    "df_references_complet.sort_values('CA', ascending=True).head(10)"
   ]
  },
  {
   "cell_type": "markdown",
   "id": "ef85791d",
   "metadata": {},
   "source": [
    "==> CA en effet très faible, surtout si on compare au CA réalisé par les Tops."
   ]
  },
  {
   "cell_type": "code",
   "execution_count": 55,
   "id": "6863b06b",
   "metadata": {},
   "outputs": [
    {
     "name": "stdout",
     "output_type": "stream",
     "text": [
      "il y a 34 produits qui ont réalisé moins de 5€ de CA en 2 ans\n",
      "soit 1.04 % des produits\n"
     ]
    }
   ],
   "source": [
    "#nb de produits vendus qui font moins de 5€ de CA\n",
    "nb_prod_flopCA = df_references_complet.loc[df_references_complet['CA']<5].shape[0]\n",
    "prop_flopCA = round(nb_prod_flopCA/df_references_complet.shape[0]*100,2)\n",
    "print('il y a', nb_prod_flopCA,'produits qui ont réalisé moins de 5€ de CA en 2 ans')\n",
    "print('soit', prop_flopCA,'% des produits')"
   ]
  },
  {
   "cell_type": "code",
   "execution_count": 54,
   "id": "be589ca0",
   "metadata": {},
   "outputs": [
    {
     "name": "stdout",
     "output_type": "stream",
     "text": [
      "il y a 21 produits qui ont été vendus qu'une fois\n",
      "soit 0.64 % des produits\n"
     ]
    }
   ],
   "source": [
    "#nb de produits vendus qu'une fois en 2 ans\n",
    "nb_prod_flop = df_references_complet.loc[df_references_complet['qté']==1].shape[0]\n",
    "prop_flop = round(nb_prod_flop/df_references_complet.shape[0]*100,2)\n",
    "print('il y a', nb_prod_flop,'produits qui ont été vendus qu\\'une fois')\n",
    "print('soit', prop_flop,'% des produits')"
   ]
  },
  {
   "cell_type": "markdown",
   "id": "108a005c",
   "metadata": {},
   "source": [
    "On peut s'interroger sur le fait de maintenir ces articles..."
   ]
  },
  {
   "cell_type": "markdown",
   "id": "e0ba80c4",
   "metadata": {},
   "source": [
    "## La répartition des ventes par catégorie <a class=\"anchor\" id=\"section_3_3\"></a>"
   ]
  },
  {
   "cell_type": "code",
   "execution_count": 110,
   "id": "897ec14e",
   "metadata": {},
   "outputs": [
    {
     "data": {
      "image/png": "[encoded data removed]",
      "text/plain": [
       "<Figure size 720x864 with 2 Axes>"
      ]
     },
     "metadata": {},
     "output_type": "display_data"
    },
    {
     "data": {
      "text/html": [
       "<div>\n",
       "<style scoped>\n",
       "    .dataframe tbody tr th:only-of-type {\n",
       "        vertical-align: middle;\n",
       "    }\n",
       "\n",
       "    .dataframe tbody tr th {\n",
       "        vertical-align: top;\n",
       "    }\n",
       "\n",
       "    .dataframe thead th {\n",
       "        text-align: right;\n",
       "    }\n",
       "</style>\n",
       "<table border=\"1\" class=\"dataframe\">\n",
       "  <thead>\n",
       "    <tr style=\"text-align: right;\">\n",
       "      <th></th>\n",
       "      <th>categ</th>\n",
       "      <th>CA</th>\n",
       "      <th>CA_moyen</th>\n",
       "    </tr>\n",
       "  </thead>\n",
       "  <tbody>\n",
       "    <tr>\n",
       "      <th>0</th>\n",
       "      <td>categ_0</td>\n",
       "      <td>4210506.19</td>\n",
       "      <td>1838.648991</td>\n",
       "    </tr>\n",
       "    <tr>\n",
       "      <th>1</th>\n",
       "      <td>categ_1</td>\n",
       "      <td>4613039.92</td>\n",
       "      <td>6259.212917</td>\n",
       "    </tr>\n",
       "    <tr>\n",
       "      <th>2</th>\n",
       "      <td>categ_2</td>\n",
       "      <td>2691255.82</td>\n",
       "      <td>11403.626356</td>\n",
       "    </tr>\n",
       "  </tbody>\n",
       "</table>\n",
       "</div>"
      ],
      "text/plain": [
       "     categ          CA      CA_moyen\n",
       "0  categ_0  4210506.19   1838.648991\n",
       "1  categ_1  4613039.92   6259.212917\n",
       "2  categ_2  2691255.82  11403.626356"
      ]
     },
     "execution_count": 110,
     "metadata": {},
     "output_type": "execute_result"
    }
   ],
   "source": [
    "plt.figure(1,figsize=(10,12)) #création de la fenêtre graphique\n",
    "#Graphe 1 - répartition des ventes en qté selon leur catégorie\n",
    "plt.subplot(1,2,1) # division de la fenêtre avec plt.subplot(nombre de lignes, nombre de colonnes, index)\n",
    "df_references_complet['categ'].value_counts(normalize=True).plot(kind='pie',autopct='%.2f%%')\n",
    "plt.title('répartition du nb de ventes selon la catégorie')\n",
    "\n",
    "#Graphe 2 - répartition des ventes en CA selon leur catégorie\n",
    "plt.subplot(1,2,2)#1 ligne, 2 colonnes, 2eme position\n",
    "df_references_complet['CA_bis'] = df_references_complet['CA']\n",
    "CA_categ = df_references_complet.groupby(['categ']).agg({'CA':'sum','CA_bis':'mean'}).reset_index()\n",
    "CA_categ.rename(columns={'CA_bis': 'CA_moyen'}, inplace=True)\n",
    "plt.pie(x= CA_categ['CA'], labels = CA_categ['categ'], autopct='%.2f%%')\n",
    "plt.title('répartition du CA selon la catégorie')\n",
    "\n",
    "plt.show()\n",
    "\n",
    "CA_categ"
   ]
  },
  {
   "cell_type": "markdown",
   "id": "6e01b0d6",
   "metadata": {},
   "source": [
    "On constate une majorité de vente de catégorie 0 en nb et une répartition bien plus équilibrée des 3 catégories en CA.\n",
    "\n",
    "Le tableau affiche par catégorie le CA total réalisé sur les 2 ans, et le CA moyen par produit par catégorie. ==> on constate la catégorie a un CA produit moyen bien supérieur aux 2 autres. En effet, les articles de catégorie 2 ont des prix unitaires bien plus élevés."
   ]
  },
  {
   "cell_type": "markdown",
   "id": "f2441a23",
   "metadata": {},
   "source": [
    "# Partie 3: Les profils de nos clients <a class=\"anchor\" id=\"chapter4\"></a>"
   ]
  },
  {
   "cell_type": "markdown",
   "id": "49572779",
   "metadata": {},
   "source": [
    "- Répartition par genre, \n",
    "- Répartition par tranche d'âge\n",
    "- Répartition du CA via une Courbe de Lorenz"
   ]
  },
  {
   "cell_type": "code",
   "execution_count": 58,
   "id": "6f218021",
   "metadata": {},
   "outputs": [
    {
     "data": {
      "text/html": [
       "<div>\n",
       "<style scoped>\n",
       "    .dataframe tbody tr th:only-of-type {\n",
       "        vertical-align: middle;\n",
       "    }\n",
       "\n",
       "    .dataframe tbody tr th {\n",
       "        vertical-align: top;\n",
       "    }\n",
       "\n",
       "    .dataframe thead th {\n",
       "        text-align: right;\n",
       "    }\n",
       "</style>\n",
       "<table border=\"1\" class=\"dataframe\">\n",
       "  <thead>\n",
       "    <tr style=\"text-align: right;\">\n",
       "      <th></th>\n",
       "      <th>client_id</th>\n",
       "      <th>sex</th>\n",
       "      <th>birth</th>\n",
       "      <th>age</th>\n",
       "    </tr>\n",
       "  </thead>\n",
       "  <tbody>\n",
       "    <tr>\n",
       "      <th>0</th>\n",
       "      <td>c_4410</td>\n",
       "      <td>f</td>\n",
       "      <td>1967</td>\n",
       "      <td>56</td>\n",
       "    </tr>\n",
       "    <tr>\n",
       "      <th>1</th>\n",
       "      <td>c_7839</td>\n",
       "      <td>f</td>\n",
       "      <td>1975</td>\n",
       "      <td>48</td>\n",
       "    </tr>\n",
       "    <tr>\n",
       "      <th>2</th>\n",
       "      <td>c_1699</td>\n",
       "      <td>f</td>\n",
       "      <td>1984</td>\n",
       "      <td>39</td>\n",
       "    </tr>\n",
       "    <tr>\n",
       "      <th>3</th>\n",
       "      <td>c_5961</td>\n",
       "      <td>f</td>\n",
       "      <td>1962</td>\n",
       "      <td>61</td>\n",
       "    </tr>\n",
       "    <tr>\n",
       "      <th>4</th>\n",
       "      <td>c_5320</td>\n",
       "      <td>m</td>\n",
       "      <td>1943</td>\n",
       "      <td>80</td>\n",
       "    </tr>\n",
       "  </tbody>\n",
       "</table>\n",
       "</div>"
      ],
      "text/plain": [
       "  client_id sex  birth  age\n",
       "0    c_4410   f   1967   56\n",
       "1    c_7839   f   1975   48\n",
       "2    c_1699   f   1984   39\n",
       "3    c_5961   f   1962   61\n",
       "4    c_5320   m   1943   80"
      ]
     },
     "execution_count": 58,
     "metadata": {},
     "output_type": "execute_result"
    }
   ],
   "source": [
    "#travail sur le df customers, calcul de l'age à partir de l'année de naissance\n",
    "customers['age']= dt.date.today().year - customers['birth']\n",
    "customers.head()"
   ]
  },
  {
   "cell_type": "code",
   "execution_count": 59,
   "id": "f4162abc",
   "metadata": {},
   "outputs": [
    {
     "data": {
      "text/html": [
       "<div>\n",
       "<style scoped>\n",
       "    .dataframe tbody tr th:only-of-type {\n",
       "        vertical-align: middle;\n",
       "    }\n",
       "\n",
       "    .dataframe tbody tr th {\n",
       "        vertical-align: top;\n",
       "    }\n",
       "\n",
       "    .dataframe thead th {\n",
       "        text-align: right;\n",
       "    }\n",
       "</style>\n",
       "<table border=\"1\" class=\"dataframe\">\n",
       "  <thead>\n",
       "    <tr style=\"text-align: right;\">\n",
       "      <th></th>\n",
       "      <th>client_id</th>\n",
       "      <th>CA</th>\n",
       "    </tr>\n",
       "  </thead>\n",
       "  <tbody>\n",
       "    <tr>\n",
       "      <th>0</th>\n",
       "      <td>c_1</td>\n",
       "      <td>550.19</td>\n",
       "    </tr>\n",
       "    <tr>\n",
       "      <th>1</th>\n",
       "      <td>c_10</td>\n",
       "      <td>1353.60</td>\n",
       "    </tr>\n",
       "    <tr>\n",
       "      <th>2</th>\n",
       "      <td>c_100</td>\n",
       "      <td>254.85</td>\n",
       "    </tr>\n",
       "    <tr>\n",
       "      <th>3</th>\n",
       "      <td>c_1000</td>\n",
       "      <td>2209.92</td>\n",
       "    </tr>\n",
       "    <tr>\n",
       "      <th>4</th>\n",
       "      <td>c_1001</td>\n",
       "      <td>1711.95</td>\n",
       "    </tr>\n",
       "  </tbody>\n",
       "</table>\n",
       "</div>"
      ],
      "text/plain": [
       "  client_id       CA\n",
       "0       c_1   550.19\n",
       "1      c_10  1353.60\n",
       "2     c_100   254.85\n",
       "3    c_1000  2209.92\n",
       "4    c_1001  1711.95"
      ]
     },
     "execution_count": 59,
     "metadata": {},
     "output_type": "execute_result"
    }
   ],
   "source": [
    "#création d'un df des transactions par client\n",
    "transac_client = df_transac.groupby(['client_id'])['price'].sum().reset_index(name='CA')\n",
    "transac_client.head()"
   ]
  },
  {
   "cell_type": "code",
   "execution_count": 60,
   "id": "ddd8ea48",
   "metadata": {},
   "outputs": [
    {
     "name": "stdout",
     "output_type": "stream",
     "text": [
      "il y a 8598 clients qui ont effectués des transactions sur la période\n",
      "et il y a 8623 dans notre fichier clients\n"
     ]
    }
   ],
   "source": [
    "print('il y a',transac_client.shape[0],'clients qui ont effectués des transactions sur la période')\n",
    "print('et il y a', customers.shape[0], 'dans notre fichier clients')"
   ]
  },
  {
   "cell_type": "markdown",
   "id": "1767da60",
   "metadata": {},
   "source": [
    "Les répartitions se feront sur tous les clients qu'ils aient ou non effectué des transactions."
   ]
  },
  {
   "cell_type": "code",
   "execution_count": 61,
   "id": "faab2edb",
   "metadata": {},
   "outputs": [],
   "source": [
    "#création d'un df qui fusionne les données clients et CA en externe pour conserver toutes les données\n",
    "transac_client_complet = pd.merge(transac_client, customers, on='client_id', how = 'outer')"
   ]
  },
  {
   "cell_type": "code",
   "execution_count": 62,
   "id": "e7bfdc60",
   "metadata": {},
   "outputs": [
    {
     "data": {
      "text/plain": [
       "8623"
      ]
     },
     "execution_count": 62,
     "metadata": {},
     "output_type": "execute_result"
    }
   ],
   "source": [
    "transac_client_complet.shape[0]"
   ]
  },
  {
   "cell_type": "markdown",
   "id": "30111231",
   "metadata": {},
   "source": [
    "==> Nous avons bien conservé tous les clients même ceux qui n'ont pas effectué de transaction. On va remplacer les nan de CA par des zéros."
   ]
  },
  {
   "cell_type": "code",
   "execution_count": 63,
   "id": "681a2496",
   "metadata": {},
   "outputs": [],
   "source": [
    "#remplace les nan par 0\n",
    "transac_client_complet.loc[transac_client_complet['CA'].isna(), 'CA']= 0"
   ]
  },
  {
   "cell_type": "markdown",
   "id": "02f3bb95",
   "metadata": {},
   "source": [
    "## Répartition  par genre <a class=\"anchor\" id=\"section_4_1\"></a>"
   ]
  },
  {
   "cell_type": "code",
   "execution_count": 64,
   "id": "fe10e8d3",
   "metadata": {},
   "outputs": [
    {
     "data": {
      "text/html": [
       "<div>\n",
       "<style scoped>\n",
       "    .dataframe tbody tr th:only-of-type {\n",
       "        vertical-align: middle;\n",
       "    }\n",
       "\n",
       "    .dataframe tbody tr th {\n",
       "        vertical-align: top;\n",
       "    }\n",
       "\n",
       "    .dataframe thead th {\n",
       "        text-align: right;\n",
       "    }\n",
       "</style>\n",
       "<table border=\"1\" class=\"dataframe\">\n",
       "  <thead>\n",
       "    <tr style=\"text-align: right;\">\n",
       "      <th></th>\n",
       "      <th>sex</th>\n",
       "      <th>nb</th>\n",
       "    </tr>\n",
       "  </thead>\n",
       "  <tbody>\n",
       "    <tr>\n",
       "      <th>0</th>\n",
       "      <td>f</td>\n",
       "      <td>4491</td>\n",
       "    </tr>\n",
       "    <tr>\n",
       "      <th>1</th>\n",
       "      <td>m</td>\n",
       "      <td>4132</td>\n",
       "    </tr>\n",
       "  </tbody>\n",
       "</table>\n",
       "</div>"
      ],
      "text/plain": [
       "  sex    nb\n",
       "0   f  4491\n",
       "1   m  4132"
      ]
     },
     "execution_count": 64,
     "metadata": {},
     "output_type": "execute_result"
    }
   ],
   "source": [
    "#répartition homme-femme en nb\n",
    "# regroupement par sex et compte des clients\n",
    "df_genre_nb = transac_client_complet.groupby(['sex'])['client_id'].count().reset_index(name='nb')\n",
    "df_genre_nb.head()"
   ]
  },
  {
   "cell_type": "code",
   "execution_count": 65,
   "id": "043967af",
   "metadata": {},
   "outputs": [],
   "source": [
    "#répartition homme-femme en CA\n",
    "#regroupement par sex et somme des CA\n",
    "df_genre_CA = transac_client_complet.groupby(['sex'])['CA'].agg(['sum','mean','std'])\n",
    "df_genre_CA = df_genre_CA.reset_index()"
   ]
  },
  {
   "cell_type": "code",
   "execution_count": 66,
   "id": "e95d7043",
   "metadata": {},
   "outputs": [
    {
     "data": {
      "image/png": "[encoded data removed]",
      "text/plain": [
       "<Figure size 720x864 with 2 Axes>"
      ]
     },
     "metadata": {},
     "output_type": "display_data"
    }
   ],
   "source": [
    "#Graphes répartition du nb et du CA selon genre\n",
    "plt.figure(1,figsize=(10,12)) #création de la fenêtre graphique\n",
    "#Graphe 1 - répartition du nb\n",
    "plt.subplot(1,2,1) # division de la fenêtre avec plt.subplot(nombre de lignes, nombre de colonnes, index), 1 ligne, 2 colonnes, position 1\n",
    "plt.pie(x= df_genre_nb['nb'], labels = df_genre_nb['sex'], autopct='%.2f%%')\n",
    "plt.title('répartition du nb de clients selon leur genre')\n",
    "#Graphe 2 - répartition du CA\n",
    "plt.subplot(1,2,2)#1 ligne, 2 colonnes, 2eme position\n",
    "plt.pie(x= df_genre_CA['sum'], labels = df_genre_CA['sex'], autopct='%.2f%%')\n",
    "plt.title('répartition du CA selon le genre client')\n",
    "\n",
    "plt.show()"
   ]
  },
  {
   "cell_type": "markdown",
   "id": "ffe4a744",
   "metadata": {},
   "source": [
    "La répartition selon le genre en nb et en CA est très équilibrée. Les femmes sont plus nbreuses mais réalisent un peu moins de CA.\n",
    "\n",
    "Regardons le CA moyen et l'écart-type par genre:"
   ]
  },
  {
   "cell_type": "code",
   "execution_count": 67,
   "id": "26c3fe44",
   "metadata": {},
   "outputs": [
    {
     "data": {
      "text/html": [
       "<div>\n",
       "<style scoped>\n",
       "    .dataframe tbody tr th:only-of-type {\n",
       "        vertical-align: middle;\n",
       "    }\n",
       "\n",
       "    .dataframe tbody tr th {\n",
       "        vertical-align: top;\n",
       "    }\n",
       "\n",
       "    .dataframe thead th {\n",
       "        text-align: right;\n",
       "    }\n",
       "</style>\n",
       "<table border=\"1\" class=\"dataframe\">\n",
       "  <thead>\n",
       "    <tr style=\"text-align: right;\">\n",
       "      <th></th>\n",
       "      <th>sex</th>\n",
       "      <th>sum</th>\n",
       "      <th>mean</th>\n",
       "      <th>std</th>\n",
       "    </tr>\n",
       "  </thead>\n",
       "  <tbody>\n",
       "    <tr>\n",
       "      <th>0</th>\n",
       "      <td>f</td>\n",
       "      <td>5.697808e+06</td>\n",
       "      <td>1268.716962</td>\n",
       "      <td>2399.316878</td>\n",
       "    </tr>\n",
       "    <tr>\n",
       "      <th>1</th>\n",
       "      <td>m</td>\n",
       "      <td>5.820729e+06</td>\n",
       "      <td>1408.695396</td>\n",
       "      <td>6807.099818</td>\n",
       "    </tr>\n",
       "  </tbody>\n",
       "</table>\n",
       "</div>"
      ],
      "text/plain": [
       "  sex           sum         mean          std\n",
       "0   f  5.697808e+06  1268.716962  2399.316878\n",
       "1   m  5.820729e+06  1408.695396  6807.099818"
      ]
     },
     "execution_count": 67,
     "metadata": {},
     "output_type": "execute_result"
    }
   ],
   "source": [
    "df_genre_CA.head()"
   ]
  },
  {
   "cell_type": "markdown",
   "id": "0e857e9e",
   "metadata": {},
   "source": [
    "Vérifions l'intervalle de confiance de la moyenne."
   ]
  },
  {
   "cell_type": "code",
   "execution_count": 68,
   "id": "23e4fd31",
   "metadata": {},
   "outputs": [
    {
     "name": "stdout",
     "output_type": "stream",
     "text": [
      "l'intervalle de confiance de la moyenne est donc [ 1229.82 , 1441.77 ]\n"
     ]
    }
   ],
   "source": [
    "import scipy, math\n",
    "alpha = 0.05 #test 5%\n",
    "xbar= transac_client_complet['CA'].mean()\n",
    "n = len(transac_client_complet) #longueur échantillon\n",
    "sprime = transac_client_complet['CA'].std()\n",
    "icinf=xbar-scipy.stats.t.ppf(1-alpha/2,n-1)*sprime/math.sqrt(n)\n",
    "icsup=xbar+scipy.stats.t.ppf(1-alpha/2,n-1)*sprime/math.sqrt(n)\n",
    "print('l\\'intervalle de confiance de la moyenne est donc [',round(icinf,2),',',round(icsup,2),']')"
   ]
  },
  {
   "cell_type": "markdown",
   "id": "7b349042",
   "metadata": {},
   "source": [
    "Le CA moyen pour un homme est dans l'intervalle de confiance, idem pour les femmes.\n",
    "\n",
    "==> le genre n'est pas un critère d'analyse pour le CA moyen et le nb de vente."
   ]
  },
  {
   "cell_type": "markdown",
   "id": "7f2aa9e0",
   "metadata": {},
   "source": [
    "## Répartition  par tranche d'âge <a class=\"anchor\" id=\"section_4_2\"></a>"
   ]
  },
  {
   "cell_type": "code",
   "execution_count": 69,
   "id": "7179e677",
   "metadata": {},
   "outputs": [
    {
     "data": {
      "image/png": "[encoded data removed]",
      "text/plain": [
       "<Figure size 1440x432 with 1 Axes>"
      ]
     },
     "metadata": {
      "needs_background": "light"
     },
     "output_type": "display_data"
    }
   ],
   "source": [
    "df_age = transac_client_complet.groupby(['age']).agg({'CA':'mean', 'client_id':'count'})\n",
    "df_age = df_age.reset_index()\n",
    "df_age.rename(columns={'client_id': 'Nb'}, inplace=True)\n",
    "df_age.rename(columns={'CA': 'CA_moyen'}, inplace=True)\n",
    "#graphe de répartition selon age du CA moyen et du nb\n",
    "plt.figure(figsize=(20,6))\n",
    "plt.bar(df_age['age'], df_age['CA_moyen'], label ='CA moyen')\n",
    "plt.bar(df_age['age'], df_age['Nb'], label ='Nombre')\n",
    "plt.xticks([18, 20, 25, 30, 35, 40, 45, 50, 55, 60, 65, 70, 75, 80, 85, 90, 95 ])\n",
    "plt.legend()\n",
    "plt.show()"
   ]
  },
  {
   "cell_type": "markdown",
   "id": "e431e539",
   "metadata": {},
   "source": [
    "en Nb: l'âge 19 ans (18 ans en 2022) a un effectif de plus du double des autres, suspect!\n",
    "\n",
    "en CA moyen: 23 et 42 sortent du lot; et 53 et 54 idem pour leur tranche.\n",
    "\n",
    "les tranches retenues: 18-24; 25-34; 35-44; 45-54; 55-64; 65-74; 75 et +."
   ]
  },
  {
   "cell_type": "code",
   "execution_count": 70,
   "id": "882e9a7c",
   "metadata": {},
   "outputs": [
    {
     "name": "stdout",
     "output_type": "stream",
     "text": [
      "440 clients de 19 ans dont 3 sans achat\n"
     ]
    }
   ],
   "source": [
    "#nb de clients de 19ans? liste?\n",
    "nb_19 = transac_client_complet.loc[transac_client_complet['age']==19].shape[0]\n",
    "nb_19_0CA = transac_client_complet.loc[(transac_client_complet['age']==19)&(transac_client_complet['CA']==0)].shape[0]\n",
    "print(nb_19,'clients de 19 ans dont',nb_19_0CA,'sans achat')"
   ]
  },
  {
   "cell_type": "markdown",
   "id": "3dce67b9",
   "metadata": {},
   "source": [
    "Hypothèse: clients de moins de 18 ans qui ont saisi une date de naissance erronée pour créer leur fiche. "
   ]
  },
  {
   "cell_type": "code",
   "execution_count": 71,
   "id": "89c6ae35",
   "metadata": {},
   "outputs": [
    {
     "name": "stderr",
     "output_type": "stream",
     "text": [
      "C:\\Users\\sofle\\anaconda3\\lib\\site-packages\\pandas\\core\\indexing.py:1732: SettingWithCopyWarning: \n",
      "A value is trying to be set on a copy of a slice from a DataFrame\n",
      "\n",
      "See the caveats in the documentation: https://pandas.pydata.org/pandas-docs/stable/user_guide/indexing.html#returning-a-view-versus-a-copy\n",
      "  self._setitem_single_block(indexer, value, name)\n"
     ]
    }
   ],
   "source": [
    "#création d'une nouvelle colonne tranche_age\n",
    "transac_client_complet['tranche_age'] = '18-24'\n",
    "transac_client_complet['tranche_age'].loc[(transac_client_complet['age']>24)&(transac_client_complet['age']<35)] = '25-34'\n",
    "transac_client_complet['tranche_age'].loc[(transac_client_complet['age']>34)&(transac_client_complet['age']<45)] = '35-44'\n",
    "transac_client_complet['tranche_age'].loc[(transac_client_complet['age']>44)&(transac_client_complet['age']<55)] = '45-54'\n",
    "transac_client_complet['tranche_age'].loc[(transac_client_complet['age']>54)&(transac_client_complet['age']<65)] = '55-64'\n",
    "transac_client_complet['tranche_age'].loc[(transac_client_complet['age']>64)&(transac_client_complet['age']<75)] = '65-74'\n",
    "transac_client_complet['tranche_age'].loc[(transac_client_complet['age']>75)] = '75+'"
   ]
  },
  {
   "cell_type": "code",
   "execution_count": 72,
   "id": "6a7092e0",
   "metadata": {},
   "outputs": [],
   "source": [
    "#calcul du CA moyen et du nb de clients par tranche d'age\n",
    "df_tranche = transac_client_complet.groupby(['tranche_age']).agg({'CA':'mean', 'client_id':'count'})\n",
    "df_tranche = df_tranche.reset_index()\n",
    "df_tranche.rename(columns={'client_id': 'Nb'}, inplace=True)\n",
    "df_tranche.rename(columns={'CA': 'CA_moyen'}, inplace=True)"
   ]
  },
  {
   "cell_type": "code",
   "execution_count": 73,
   "id": "51dc5c82",
   "metadata": {},
   "outputs": [
    {
     "data": {
      "image/png": "[encoded data removed]",
      "text/plain": [
       "<Figure size 1440x432 with 1 Axes>"
      ]
     },
     "metadata": {
      "needs_background": "light"
     },
     "output_type": "display_data"
    }
   ],
   "source": [
    "#graphe de répartition selon age du CA moyen et du nb\n",
    "plt.figure(figsize=(20,6))\n",
    "plt.bar(df_tranche['tranche_age'], df_tranche['CA_moyen'], label ='CA moyen', align='edge', width=0.4)\n",
    "plt.bar(df_tranche['tranche_age'], df_tranche['Nb'], label ='Nombre', width=0.4)\n",
    "#plt.plot(df_tranche['tranche_age'], df_tranche ['std'], label='Ecart-type', color='black')\n",
    "plt.legend()\n",
    "plt.show()"
   ]
  },
  {
   "cell_type": "markdown",
   "id": "46f2ebe9",
   "metadata": {},
   "source": [
    "- la tranche 35-44 est la plus nombreuse et celle qui réalise le plus de CA.\n",
    "- la tranche 75 et + est la moins nombreuse et réalise pourtant un important CA."
   ]
  },
  {
   "cell_type": "markdown",
   "id": "39b73783",
   "metadata": {},
   "source": [
    "## Répartition du CA: courbe de Lorenz <a class=\"anchor\" id=\"section_4_3\"></a>"
   ]
  },
  {
   "cell_type": "code",
   "execution_count": 74,
   "id": "d438f992",
   "metadata": {},
   "outputs": [
    {
     "data": {
      "image/png": "[encoded data removed]",
      "text/plain": [
       "<Figure size 432x432 with 1 Axes>"
      ]
     },
     "metadata": {
      "needs_background": "light"
     },
     "output_type": "display_data"
    },
    {
     "name": "stdout",
     "output_type": "stream",
     "text": [
      "l'indice de Gini est  0.44900367830391663\n"
     ]
    }
   ],
   "source": [
    "#construction de la courbe de Lorenz\n",
    "CA_client = transac_client_complet['CA'].values #les valeurs de CA\n",
    "n = len(CA_client)\n",
    "lorenz = np.cumsum(np.sort(CA_client)) / CA_client.sum()\n",
    "lorenz = np.append([0],lorenz) # La courbe de Lorenz commence à 0\n",
    "plt.figure(figsize=(6,6))\n",
    "xaxis = np.linspace(0-1/n,1+1/n,n+1) #Il y a un segment de taille n pour chaque individu, plus 1 segment supplémentaire d'ordonnée 0. Le premier segment commence à 0-1/n, et le dernier termine à 1+1/n.\n",
    "\n",
    "# Diagonale\n",
    "a = np.arange(0,1,.01)\n",
    "x = a\n",
    "y = a\n",
    "    \n",
    "# Graphique\n",
    "sns.lineplot(x=x,y=y)\n",
    "plt.plot(xaxis,lorenz,drawstyle='steps-post')\n",
    "plt.grid()\n",
    "plt.xlabel('individus')\n",
    "plt.ylabel('CA')\n",
    "plt.title('Répartition du CA entre les clients')\n",
    "plt.show()\n",
    "\n",
    "#calcul de l'indice de Gini\n",
    "AUC = (lorenz.sum() -lorenz[-1]/2 -lorenz[0]/2)/n # Surface sous la courbe de Lorenz. Le premier segment (lorenz[0]) est à moitié en dessous de 0, on le coupe donc en 2, on fait de même pour le dernier segment lorenz[-1] qui est à moitié au dessus de 1.\n",
    "S = 0.5 - AUC # surface entre la première bissectrice et le courbe de Lorenz\n",
    "gini = 2*S\n",
    "print ('l\\'indice de Gini est ', gini)"
   ]
  },
  {
   "cell_type": "markdown",
   "id": "3f2ba030",
   "metadata": {},
   "source": [
    "On constate une inégalité du CA entre tous les clients, \n",
    "- la courbe finit à la vertical ==> doit avoir de gros clients\n",
    "- 50% du CA est fait par 80% des clients\n",
    "\n",
    "==> confirmé par le calcul de l'indice de GINI. Celui-ci est compris entre 0 et 1, 0 étant égalitaire et 1 pas du tout."
   ]
  },
  {
   "cell_type": "code",
   "execution_count": 75,
   "id": "46de06b6",
   "metadata": {},
   "outputs": [
    {
     "data": {
      "text/html": [
       "<div>\n",
       "<style scoped>\n",
       "    .dataframe tbody tr th:only-of-type {\n",
       "        vertical-align: middle;\n",
       "    }\n",
       "\n",
       "    .dataframe tbody tr th {\n",
       "        vertical-align: top;\n",
       "    }\n",
       "\n",
       "    .dataframe thead th {\n",
       "        text-align: right;\n",
       "    }\n",
       "</style>\n",
       "<table border=\"1\" class=\"dataframe\">\n",
       "  <thead>\n",
       "    <tr style=\"text-align: right;\">\n",
       "      <th></th>\n",
       "      <th>client_id</th>\n",
       "      <th>CA</th>\n",
       "      <th>sex</th>\n",
       "      <th>birth</th>\n",
       "      <th>age</th>\n",
       "      <th>tranche_age</th>\n",
       "    </tr>\n",
       "  </thead>\n",
       "  <tbody>\n",
       "    <tr>\n",
       "      <th>677</th>\n",
       "      <td>c_1609</td>\n",
       "      <td>312247.610000</td>\n",
       "      <td>m</td>\n",
       "      <td>1980</td>\n",
       "      <td>43</td>\n",
       "      <td>35-44</td>\n",
       "    </tr>\n",
       "    <tr>\n",
       "      <th>4387</th>\n",
       "      <td>c_4958</td>\n",
       "      <td>282289.700000</td>\n",
       "      <td>m</td>\n",
       "      <td>1999</td>\n",
       "      <td>24</td>\n",
       "      <td>18-24</td>\n",
       "    </tr>\n",
       "    <tr>\n",
       "      <th>6336</th>\n",
       "      <td>c_6714</td>\n",
       "      <td>149589.218641</td>\n",
       "      <td>f</td>\n",
       "      <td>1968</td>\n",
       "      <td>55</td>\n",
       "      <td>55-64</td>\n",
       "    </tr>\n",
       "    <tr>\n",
       "      <th>2723</th>\n",
       "      <td>c_3454</td>\n",
       "      <td>111691.204320</td>\n",
       "      <td>m</td>\n",
       "      <td>1969</td>\n",
       "      <td>54</td>\n",
       "      <td>45-54</td>\n",
       "    </tr>\n",
       "    <tr>\n",
       "      <th>2108</th>\n",
       "      <td>c_2899</td>\n",
       "      <td>5214.050000</td>\n",
       "      <td>f</td>\n",
       "      <td>1994</td>\n",
       "      <td>29</td>\n",
       "      <td>25-34</td>\n",
       "    </tr>\n",
       "  </tbody>\n",
       "</table>\n",
       "</div>"
      ],
      "text/plain": [
       "     client_id             CA sex  birth  age tranche_age\n",
       "677     c_1609  312247.610000   m   1980   43       35-44\n",
       "4387    c_4958  282289.700000   m   1999   24       18-24\n",
       "6336    c_6714  149589.218641   f   1968   55       55-64\n",
       "2723    c_3454  111691.204320   m   1969   54       45-54\n",
       "2108    c_2899    5214.050000   f   1994   29       25-34"
      ]
     },
     "execution_count": 75,
     "metadata": {},
     "output_type": "execute_result"
    }
   ],
   "source": [
    "#liste des GROS clients\n",
    "transac_client_complet.sort_values('CA',ascending=False).head(5)"
   ]
  },
  {
   "cell_type": "markdown",
   "id": "0ea2ddf6",
   "metadata": {},
   "source": [
    "On voit les 4 gros clients qui sortent du lot par rapport au 5ème. On avait en effet identifié dans le diagramme des ages que les 4 ages 42, 23, 54, 53 généraient les plus importants CA."
   ]
  },
  {
   "cell_type": "code",
   "execution_count": 76,
   "id": "2ca0a0ef",
   "metadata": {},
   "outputs": [
    {
     "name": "stdout",
     "output_type": "stream",
     "text": [
      "Le CA réalisé par les 4 gros clients est de 855817.73 €, soit 7.43 % du CA total.\n"
     ]
    }
   ],
   "source": [
    "#calcul du CA réalisé par ces 4 gros clients\n",
    "clients_pro=['c_1609', 'c_4958','c_6714','c_3454']\n",
    "transac_pro = transac_client_complet.loc[transac_client_complet['client_id'].isin(clients_pro)]\n",
    "CA_pro=transac_pro['CA'].sum()\n",
    "CA_Total=transac_client_complet['CA'].sum()\n",
    "print('Le CA réalisé par les 4 gros clients est de', round(CA_pro,2),'€, soit', round(CA_pro*100/CA_Total,2),'% du CA total.')"
   ]
  },
  {
   "cell_type": "markdown",
   "id": "55b54851",
   "metadata": {},
   "source": [
    "On peut émettre l'hypothèse que ces 4 gros clients sont des clients professionnels.\n",
    "\n",
    "__ERRATUM__: ces 4 clients sont des outliers, je devrais les exclure de mon analyse pour la partie 4."
   ]
  },
  {
   "cell_type": "markdown",
   "id": "62e12afb",
   "metadata": {},
   "source": [
    "# Partie 4: Analyse des comportements clients <a class=\"anchor\" id=\"chapter5\"></a>"
   ]
  },
  {
   "cell_type": "code",
   "execution_count": 77,
   "id": "ea0fe1d7",
   "metadata": {},
   "outputs": [
    {
     "data": {
      "text/plain": [
       "(656415, 12)"
      ]
     },
     "execution_count": 77,
     "metadata": {},
     "output_type": "execute_result"
    }
   ],
   "source": [
    "#construction d'un df complet à partir des df_transac et customers\n",
    "df_complet = pd.merge(df_transac, customers, on='client_id', how='left' )\n",
    "df_complet.shape"
   ]
  },
  {
   "cell_type": "code",
   "execution_count": 78,
   "id": "305205d3",
   "metadata": {},
   "outputs": [
    {
     "data": {
      "text/plain": [
       "(656415, 9)"
      ]
     },
     "execution_count": 78,
     "metadata": {},
     "output_type": "execute_result"
    }
   ],
   "source": [
    "df_transac.shape"
   ]
  },
  {
   "cell_type": "markdown",
   "id": "287ce32f",
   "metadata": {},
   "source": [
    "==> pour chaque transaction, nous avons les données client de l'acheteur"
   ]
  },
  {
   "cell_type": "markdown",
   "id": "67350776",
   "metadata": {},
   "source": [
    "## lien entre le genre d’un client et les catégories des livres achetés <a class=\"anchor\" id=\"section_5_1\"></a>"
   ]
  },
  {
   "cell_type": "markdown",
   "id": "d235188d",
   "metadata": {},
   "source": [
    "Analyse de 2 variables qualitatives, visualisation par une heatmap."
   ]
  },
  {
   "cell_type": "code",
   "execution_count": 79,
   "id": "8fb03b61",
   "metadata": {},
   "outputs": [
    {
     "data": {
      "text/html": [
       "<div>\n",
       "<style scoped>\n",
       "    .dataframe tbody tr th:only-of-type {\n",
       "        vertical-align: middle;\n",
       "    }\n",
       "\n",
       "    .dataframe tbody tr th {\n",
       "        vertical-align: top;\n",
       "    }\n",
       "\n",
       "    .dataframe thead th {\n",
       "        text-align: right;\n",
       "    }\n",
       "</style>\n",
       "<table border=\"1\" class=\"dataframe\">\n",
       "  <thead>\n",
       "    <tr style=\"text-align: right;\">\n",
       "      <th>categ</th>\n",
       "      <th>categ_0</th>\n",
       "      <th>categ_1</th>\n",
       "      <th>categ_2</th>\n",
       "      <th>Total</th>\n",
       "    </tr>\n",
       "    <tr>\n",
       "      <th>sex</th>\n",
       "      <th></th>\n",
       "      <th></th>\n",
       "      <th></th>\n",
       "      <th></th>\n",
       "    </tr>\n",
       "  </thead>\n",
       "  <tbody>\n",
       "    <tr>\n",
       "      <th>f</th>\n",
       "      <td>196643</td>\n",
       "      <td>113927</td>\n",
       "      <td>16712</td>\n",
       "      <td>327282</td>\n",
       "    </tr>\n",
       "    <tr>\n",
       "      <th>m</th>\n",
       "      <td>199318</td>\n",
       "      <td>111234</td>\n",
       "      <td>18581</td>\n",
       "      <td>329133</td>\n",
       "    </tr>\n",
       "    <tr>\n",
       "      <th>Total</th>\n",
       "      <td>395961</td>\n",
       "      <td>225161</td>\n",
       "      <td>35293</td>\n",
       "      <td>656415</td>\n",
       "    </tr>\n",
       "  </tbody>\n",
       "</table>\n",
       "</div>"
      ],
      "text/plain": [
       "categ  categ_0  categ_1  categ_2   Total\n",
       "sex                                     \n",
       "f       196643   113927    16712  327282\n",
       "m       199318   111234    18581  329133\n",
       "Total   395961   225161    35293  656415"
      ]
     },
     "execution_count": 79,
     "metadata": {},
     "output_type": "execute_result"
    }
   ],
   "source": [
    "#pour chaque genre, par catégorie (colonnes), calcul du nb de produits\n",
    "table_genre_categ=df_complet.pivot_table(index='sex', columns='categ', values ='id_prod', aggfunc='count',margins=True, margins_name='Total')\n",
    "#table_genre_categ = table_genre_categ.reset_index()\n",
    "table_genre_categ.head()"
   ]
  },
  {
   "cell_type": "markdown",
   "id": "991f7681",
   "metadata": {},
   "source": [
    "1/ Affichage du tableau de contingence en heatmap."
   ]
  },
  {
   "cell_type": "code",
   "execution_count": 80,
   "id": "a92e570f",
   "metadata": {},
   "outputs": [
    {
     "data": {
      "image/png": "[encoded data removed]",
      "text/plain": [
       "<Figure size 1440x432 with 2 Axes>"
      ]
     },
     "metadata": {
      "needs_background": "light"
     },
     "output_type": "display_data"
    }
   ],
   "source": [
    "tx = table_genre_categ.loc[:,[\"Total\"]]\n",
    "ty = table_genre_categ.loc[[\"Total\"],:]\n",
    "n = len(df_complet)\n",
    "indep = tx.dot(ty) / n\n",
    "c = table_genre_categ.fillna(0) # On remplace les valeurs nulles par 0\n",
    "\n",
    "measure = (c-indep)**2/indep\n",
    "xi_n = measure.sum().sum()\n",
    "table = (measure/xi_n)\n",
    "plt.figure(figsize=(20,6))\n",
    "sns.heatmap(table.iloc[:-1,:-1],annot=c.iloc[:-1,:-1], fmt=\".0f\")\n",
    "plt.show()"
   ]
  },
  {
   "cell_type": "markdown",
   "id": "423e009a",
   "metadata": {},
   "source": [
    "==> D'après les codes couleurs, les catégories de livres achetés semblent ne pas avoir de corrélation avec le genre de l'acheteur. D'après le nb d'occurences, la categ2 semble être dépendante du genre.\n",
    "\n",
    "2/ Vérifions par le Chi2, les hypothèses sont:\n",
    "- H0: le nb de catégories de livre achetés est égal quelque soit le genre de l'acheteur. La catégorie et le genre sont indépendants.\n",
    "- H1: les catégories de livre achetés sont dépendantes du genre de l'acheteur."
   ]
  },
  {
   "cell_type": "code",
   "execution_count": 81,
   "id": "e465f966",
   "metadata": {},
   "outputs": [
    {
     "name": "stdout",
     "output_type": "stream",
     "text": [
      "le Chi2 calculé est de  144.0383194139693\n"
     ]
    }
   ],
   "source": [
    "#calcul du Chi2: déjà calculé dans le code du heatmap xi_n\n",
    "print('le Chi2 calculé est de ', xi_n)"
   ]
  },
  {
   "cell_type": "code",
   "execution_count": 82,
   "id": "5c6fca10",
   "metadata": {},
   "outputs": [
    {
     "data": {
      "text/plain": [
       "(        categ                        \n",
       " categ categ_0 categ_1 categ_2     All\n",
       " sex                                  \n",
       " f      196643  113927   16712  327282\n",
       " m      199318  111234   18581  329133\n",
       " All    395961  225161   35293  656415,\n",
       "                 Chi-square test   results\n",
       " 0  Pearson Chi-square ( 2.0) =   144.0383\n",
       " 1                    p-value =     0.0000\n",
       " 2                 Cramer's V =     0.0148)"
      ]
     },
     "execution_count": 82,
     "metadata": {},
     "output_type": "execute_result"
    }
   ],
   "source": [
    "#calcul Chi2, p-value et V de Cramer pour 'force du lien' par la librairie researchpy\n",
    "import researchpy as rp\n",
    "rp.crosstab(df_complet['sex'], df_complet['categ'], test= \"chi-square\")"
   ]
  },
  {
   "attachments": {
    "image.png": {
     "image/png": "[encoded data removed]"
    }
   },
   "cell_type": "markdown",
   "id": "81d0ede7",
   "metadata": {},
   "source": [
    "La p-value étant de 1.407e-28 donc inférieur à 0,05. L'hypothèse nulle est rejetée. ==> le genre de l'acheteur et la catégorie de livres achetés ne sont pas indépendants.\n",
    "\n",
    "Le V de Cramer <0,10 le lien est très faible.\n",
    "\n",
    "cf tableau valeur du V de Cramer et intensité des relations:\n",
    "![image.png](attachment:image.png)"
   ]
  },
  {
   "cell_type": "markdown",
   "id": "cd6c2594",
   "metadata": {},
   "source": [
    "## Lien entre âge et montant total des achats <a class=\"anchor\" id=\"section_5_2\"></a>"
   ]
  },
  {
   "cell_type": "markdown",
   "id": "4a96f78d",
   "metadata": {},
   "source": [
    "Analyse de corrélation quanti/quanti: visualisation du graphe nuage de points."
   ]
  },
  {
   "cell_type": "code",
   "execution_count": 83,
   "id": "e022f477",
   "metadata": {},
   "outputs": [
    {
     "data": {
      "image/png": "[encoded data removed]",
      "text/plain": [
       "<Figure size 432x432 with 1 Axes>"
      ]
     },
     "metadata": {
      "needs_background": "light"
     },
     "output_type": "display_data"
    }
   ],
   "source": [
    "plt.figure(figsize=(6,6))\n",
    "plt.scatter(transac_client_complet['age'], transac_client_complet['CA'], alpha=0.5, c='blue', marker='P')\n",
    "plt.grid()\n",
    "plt.xlabel('age')\n",
    "plt.ylabel('montant total achat')\n",
    "plt.title('âge et montant total des achats de tous les clients')\n",
    "plt.show()"
   ]
  },
  {
   "cell_type": "markdown",
   "id": "9d49f9b9",
   "metadata": {},
   "source": [
    "A cause des 4 gros clients, les achats des autres clients ne sont pas visibles. Nous allons donc \"exclure\" ces 4 gros clients."
   ]
  },
  {
   "cell_type": "code",
   "execution_count": 84,
   "id": "d60c002a",
   "metadata": {},
   "outputs": [],
   "source": [
    "#Construisons df sans les 4 PRO\n",
    "transac_client_particulier=transac_client_complet.loc[transac_client_complet['CA']<10000]"
   ]
  },
  {
   "cell_type": "code",
   "execution_count": 111,
   "id": "a42a7556",
   "metadata": {},
   "outputs": [
    {
     "data": {
      "image/png": "[encoded data removed]",
      "text/plain": [
       "<Figure size 432x432 with 1 Axes>"
      ]
     },
     "metadata": {
      "needs_background": "light"
     },
     "output_type": "display_data"
    }
   ],
   "source": [
    "#nuage de points des clients particuliers\n",
    "plt.figure(figsize=(6,6))\n",
    "plt.scatter(transac_client_particulier['age'], transac_client_particulier['CA'], alpha=0.5, c='blue', marker='P')\n",
    "plt.grid()\n",
    "plt.xlabel('age')\n",
    "plt.ylabel('montant total achat')\n",
    "plt.title('âge et montant total des achats des clients particuliers')\n",
    "plt.show()"
   ]
  },
  {
   "cell_type": "markdown",
   "id": "6317b22a",
   "metadata": {},
   "source": [
    "Vérifions la corrélation linéaire par le coeficient de Pearson, les hypothèses sont:\n",
    "- H0: l'âge et le montant total des achats sont indépendants\n",
    "- H1: il y a une corrélation linéaire entre l'âge et le montant total des achats."
   ]
  },
  {
   "cell_type": "code",
   "execution_count": 86,
   "id": "d1ceb480",
   "metadata": {},
   "outputs": [
    {
     "name": "stdout",
     "output_type": "stream",
     "text": [
      "le coeficient de pearson est -0.18155584205700445\n",
      "la p-value est 9.041749089101901e-65\n"
     ]
    }
   ],
   "source": [
    "#Calcul du coeficient de pearson et la p-value\n",
    "coef_pearson,p_value = st.pearsonr(transac_client_particulier[\"age\"],transac_client_particulier[\"CA\"])\n",
    "print('le coeficient de pearson est',coef_pearson)\n",
    "print('la p-value est',p_value)"
   ]
  },
  {
   "cell_type": "markdown",
   "id": "af6309b4",
   "metadata": {},
   "source": [
    "Pour mémoire, les coefficients de corrélation varient entre -1 et 1. Une valeur positive indique une corrélation positive. Une valeur négative reflète une corrélation négative. Une valeur proche de zéro reflète l’absence d'une corrélation linéaire.\n",
    "\n",
    "- Ici, le coef de pearson est proche de 0 : pas de corrélation linéaire.\n",
    "- la p-value étant inférieure à 0,05, H0 est rejetée.\n",
    "\n",
    "==> pas de corrélation linéaire entre l'âge et le montant total du panier. Mais ils ne sont pas indépendants"
   ]
  },
  {
   "cell_type": "markdown",
   "id": "4a0e9182",
   "metadata": {},
   "source": [
    "## lien entre l’âge des clients et la fréquence d’achat <a class=\"anchor\" id=\"section_5_3\"></a>"
   ]
  },
  {
   "cell_type": "markdown",
   "id": "4bb19f9a",
   "metadata": {},
   "source": [
    "Analyse de deux variables quantitative, visualisation par un graphe nuage de points."
   ]
  },
  {
   "cell_type": "code",
   "execution_count": 87,
   "id": "c4013812",
   "metadata": {},
   "outputs": [
    {
     "data": {
      "text/html": [
       "<div>\n",
       "<style scoped>\n",
       "    .dataframe tbody tr th:only-of-type {\n",
       "        vertical-align: middle;\n",
       "    }\n",
       "\n",
       "    .dataframe tbody tr th {\n",
       "        vertical-align: top;\n",
       "    }\n",
       "\n",
       "    .dataframe thead th {\n",
       "        text-align: right;\n",
       "    }\n",
       "</style>\n",
       "<table border=\"1\" class=\"dataframe\">\n",
       "  <thead>\n",
       "    <tr style=\"text-align: right;\">\n",
       "      <th></th>\n",
       "      <th>id_prod</th>\n",
       "      <th>session_id</th>\n",
       "      <th>client_id</th>\n",
       "      <th>date_session</th>\n",
       "      <th>price</th>\n",
       "      <th>categ</th>\n",
       "      <th>mois_session</th>\n",
       "      <th>semaine_session</th>\n",
       "      <th>jour_session</th>\n",
       "      <th>sex</th>\n",
       "      <th>birth</th>\n",
       "      <th>age</th>\n",
       "    </tr>\n",
       "  </thead>\n",
       "  <tbody>\n",
       "    <tr>\n",
       "      <th>0</th>\n",
       "      <td>0_1518</td>\n",
       "      <td>s_211425</td>\n",
       "      <td>c_103</td>\n",
       "      <td>2022-05-20 13:21:29.043970</td>\n",
       "      <td>4.18</td>\n",
       "      <td>categ_0</td>\n",
       "      <td>2022-05</td>\n",
       "      <td>2022-20</td>\n",
       "      <td>2022-05-20</td>\n",
       "      <td>f</td>\n",
       "      <td>1986</td>\n",
       "      <td>37</td>\n",
       "    </tr>\n",
       "    <tr>\n",
       "      <th>1</th>\n",
       "      <td>1_251</td>\n",
       "      <td>s_158752</td>\n",
       "      <td>c_8534</td>\n",
       "      <td>2022-02-02 07:55:19.149409</td>\n",
       "      <td>15.99</td>\n",
       "      <td>categ_1</td>\n",
       "      <td>2022-02</td>\n",
       "      <td>2022-05</td>\n",
       "      <td>2022-02-02</td>\n",
       "      <td>m</td>\n",
       "      <td>1988</td>\n",
       "      <td>35</td>\n",
       "    </tr>\n",
       "    <tr>\n",
       "      <th>2</th>\n",
       "      <td>0_1277</td>\n",
       "      <td>s_225667</td>\n",
       "      <td>c_6714</td>\n",
       "      <td>2022-06-18 15:44:33.155329</td>\n",
       "      <td>7.99</td>\n",
       "      <td>categ_0</td>\n",
       "      <td>2022-06</td>\n",
       "      <td>2022-24</td>\n",
       "      <td>2022-06-18</td>\n",
       "      <td>f</td>\n",
       "      <td>1968</td>\n",
       "      <td>55</td>\n",
       "    </tr>\n",
       "    <tr>\n",
       "      <th>3</th>\n",
       "      <td>2_209</td>\n",
       "      <td>s_52962</td>\n",
       "      <td>c_6941</td>\n",
       "      <td>2021-06-24 04:19:29.835891</td>\n",
       "      <td>69.99</td>\n",
       "      <td>categ_2</td>\n",
       "      <td>2021-06</td>\n",
       "      <td>2021-25</td>\n",
       "      <td>2021-06-24</td>\n",
       "      <td>m</td>\n",
       "      <td>2000</td>\n",
       "      <td>23</td>\n",
       "    </tr>\n",
       "    <tr>\n",
       "      <th>4</th>\n",
       "      <td>0_1509</td>\n",
       "      <td>s_325227</td>\n",
       "      <td>c_4232</td>\n",
       "      <td>2023-01-11 08:22:08.194479</td>\n",
       "      <td>4.99</td>\n",
       "      <td>categ_0</td>\n",
       "      <td>2023-01</td>\n",
       "      <td>2023-02</td>\n",
       "      <td>2023-01-11</td>\n",
       "      <td>m</td>\n",
       "      <td>1980</td>\n",
       "      <td>43</td>\n",
       "    </tr>\n",
       "  </tbody>\n",
       "</table>\n",
       "</div>"
      ],
      "text/plain": [
       "  id_prod session_id client_id               date_session  price    categ  \\\n",
       "0  0_1518   s_211425     c_103 2022-05-20 13:21:29.043970   4.18  categ_0   \n",
       "1   1_251   s_158752    c_8534 2022-02-02 07:55:19.149409  15.99  categ_1   \n",
       "2  0_1277   s_225667    c_6714 2022-06-18 15:44:33.155329   7.99  categ_0   \n",
       "3   2_209    s_52962    c_6941 2021-06-24 04:19:29.835891  69.99  categ_2   \n",
       "4  0_1509   s_325227    c_4232 2023-01-11 08:22:08.194479   4.99  categ_0   \n",
       "\n",
       "  mois_session semaine_session jour_session sex  birth  age  \n",
       "0      2022-05         2022-20   2022-05-20   f   1986   37  \n",
       "1      2022-02         2022-05   2022-02-02   m   1988   35  \n",
       "2      2022-06         2022-24   2022-06-18   f   1968   55  \n",
       "3      2021-06         2021-25   2021-06-24   m   2000   23  \n",
       "4      2023-01         2023-02   2023-01-11   m   1980   43  "
      ]
     },
     "execution_count": 87,
     "metadata": {},
     "output_type": "execute_result"
    }
   ],
   "source": [
    "df_complet.head()"
   ]
  },
  {
   "cell_type": "code",
   "execution_count": 88,
   "id": "37f1df4d",
   "metadata": {},
   "outputs": [
    {
     "data": {
      "text/html": [
       "<div>\n",
       "<style scoped>\n",
       "    .dataframe tbody tr th:only-of-type {\n",
       "        vertical-align: middle;\n",
       "    }\n",
       "\n",
       "    .dataframe tbody tr th {\n",
       "        vertical-align: top;\n",
       "    }\n",
       "\n",
       "    .dataframe thead th {\n",
       "        text-align: right;\n",
       "    }\n",
       "</style>\n",
       "<table border=\"1\" class=\"dataframe\">\n",
       "  <thead>\n",
       "    <tr style=\"text-align: right;\">\n",
       "      <th></th>\n",
       "      <th>session_id</th>\n",
       "      <th>client_id</th>\n",
       "      <th>jour_session</th>\n",
       "      <th>sex</th>\n",
       "      <th>age</th>\n",
       "      <th>panier</th>\n",
       "      <th>nb_prod</th>\n",
       "    </tr>\n",
       "  </thead>\n",
       "  <tbody>\n",
       "    <tr>\n",
       "      <th>0</th>\n",
       "      <td>s_1</td>\n",
       "      <td>c_329</td>\n",
       "      <td>2021-03-01</td>\n",
       "      <td>f</td>\n",
       "      <td>56</td>\n",
       "      <td>11.99</td>\n",
       "      <td>1</td>\n",
       "    </tr>\n",
       "    <tr>\n",
       "      <th>1</th>\n",
       "      <td>s_10</td>\n",
       "      <td>c_2218</td>\n",
       "      <td>2021-03-01</td>\n",
       "      <td>f</td>\n",
       "      <td>53</td>\n",
       "      <td>26.99</td>\n",
       "      <td>1</td>\n",
       "    </tr>\n",
       "    <tr>\n",
       "      <th>2</th>\n",
       "      <td>s_100</td>\n",
       "      <td>c_3854</td>\n",
       "      <td>2021-03-01</td>\n",
       "      <td>f</td>\n",
       "      <td>45</td>\n",
       "      <td>33.72</td>\n",
       "      <td>2</td>\n",
       "    </tr>\n",
       "    <tr>\n",
       "      <th>3</th>\n",
       "      <td>s_1000</td>\n",
       "      <td>c_1014</td>\n",
       "      <td>2021-03-03</td>\n",
       "      <td>m</td>\n",
       "      <td>34</td>\n",
       "      <td>39.22</td>\n",
       "      <td>4</td>\n",
       "    </tr>\n",
       "    <tr>\n",
       "      <th>4</th>\n",
       "      <td>s_10000</td>\n",
       "      <td>c_476</td>\n",
       "      <td>2021-03-22</td>\n",
       "      <td>f</td>\n",
       "      <td>34</td>\n",
       "      <td>41.49</td>\n",
       "      <td>3</td>\n",
       "    </tr>\n",
       "  </tbody>\n",
       "</table>\n",
       "</div>"
      ],
      "text/plain": [
       "  session_id client_id jour_session sex  age  panier  nb_prod\n",
       "0        s_1     c_329   2021-03-01   f   56   11.99        1\n",
       "1       s_10    c_2218   2021-03-01   f   53   26.99        1\n",
       "2      s_100    c_3854   2021-03-01   f   45   33.72        2\n",
       "3     s_1000    c_1014   2021-03-03   m   34   39.22        4\n",
       "4    s_10000     c_476   2021-03-22   f   34   41.49        3"
      ]
     },
     "execution_count": 88,
     "metadata": {},
     "output_type": "execute_result"
    }
   ],
   "source": [
    "#calcul de la fréquence d'achat, et du panier (pour la suite)\n",
    "#groupement sur la session, conservation des colonnes données client et somme des prix des produits pour obtenir le panier\n",
    "df_session = df_complet.groupby(['session_id', 'client_id', 'jour_session', 'sex', 'age'])\\\n",
    "    .agg({'price':'sum','id_prod':'count'}).reset_index()\n",
    "df_session.rename(columns={'price': 'panier'}, inplace=True)\n",
    "df_session.rename(columns={'id_prod': 'nb_prod'}, inplace=True)\n",
    "df_session.head()"
   ]
  },
  {
   "cell_type": "code",
   "execution_count": 89,
   "id": "ba947eee",
   "metadata": {},
   "outputs": [
    {
     "data": {
      "text/html": [
       "<div>\n",
       "<style scoped>\n",
       "    .dataframe tbody tr th:only-of-type {\n",
       "        vertical-align: middle;\n",
       "    }\n",
       "\n",
       "    .dataframe tbody tr th {\n",
       "        vertical-align: top;\n",
       "    }\n",
       "\n",
       "    .dataframe thead th {\n",
       "        text-align: right;\n",
       "    }\n",
       "</style>\n",
       "<table border=\"1\" class=\"dataframe\">\n",
       "  <thead>\n",
       "    <tr style=\"text-align: right;\">\n",
       "      <th></th>\n",
       "      <th>client_id</th>\n",
       "      <th>age</th>\n",
       "      <th>panier_moyen</th>\n",
       "      <th>nb_achats</th>\n",
       "    </tr>\n",
       "  </thead>\n",
       "  <tbody>\n",
       "    <tr>\n",
       "      <th>0</th>\n",
       "      <td>c_1</td>\n",
       "      <td>68</td>\n",
       "      <td>17.193438</td>\n",
       "      <td>32</td>\n",
       "    </tr>\n",
       "    <tr>\n",
       "      <th>1</th>\n",
       "      <td>c_10</td>\n",
       "      <td>67</td>\n",
       "      <td>39.811765</td>\n",
       "      <td>34</td>\n",
       "    </tr>\n",
       "    <tr>\n",
       "      <th>2</th>\n",
       "      <td>c_100</td>\n",
       "      <td>31</td>\n",
       "      <td>50.970000</td>\n",
       "      <td>5</td>\n",
       "    </tr>\n",
       "    <tr>\n",
       "      <th>3</th>\n",
       "      <td>c_1000</td>\n",
       "      <td>57</td>\n",
       "      <td>24.020870</td>\n",
       "      <td>92</td>\n",
       "    </tr>\n",
       "    <tr>\n",
       "      <th>4</th>\n",
       "      <td>c_1001</td>\n",
       "      <td>41</td>\n",
       "      <td>39.812791</td>\n",
       "      <td>43</td>\n",
       "    </tr>\n",
       "  </tbody>\n",
       "</table>\n",
       "</div>"
      ],
      "text/plain": [
       "  client_id  age  panier_moyen  nb_achats\n",
       "0       c_1   68     17.193438         32\n",
       "1      c_10   67     39.811765         34\n",
       "2     c_100   31     50.970000          5\n",
       "3    c_1000   57     24.020870         92\n",
       "4    c_1001   41     39.812791         43"
      ]
     },
     "execution_count": 89,
     "metadata": {},
     "output_type": "execute_result"
    }
   ],
   "source": [
    "#groupement sur client_id, conservation de la colonne age,et compte du nb de session pour obtenir le nb d'achats\n",
    "df_age_freq = df_session.groupby(['client_id', 'age']).agg({'panier':'mean' ,'session_id':'count'}).reset_index()\n",
    "#renommage des colonnes\n",
    "df_age_freq.rename(columns={'panier': 'panier_moyen'}, inplace=True)\n",
    "df_age_freq.rename(columns={'session_id': 'nb_achats'}, inplace=True)\n",
    "df_age_freq.head()"
   ]
  },
  {
   "cell_type": "code",
   "execution_count": 112,
   "id": "2c482c70",
   "metadata": {},
   "outputs": [
    {
     "data": {
      "image/png": "[encoded data removed]",
      "text/plain": [
       "<Figure size 576x576 with 1 Axes>"
      ]
     },
     "metadata": {
      "needs_background": "light"
     },
     "output_type": "display_data"
    }
   ],
   "source": [
    "#nuage de points age/fréquence\n",
    "plt.figure(figsize=(8,8))\n",
    "plt.scatter(df_age_freq['age'], df_age_freq['nb_achats'], alpha=0.5, c='blue', marker='P')\n",
    "plt.grid()\n",
    "plt.xlabel('age')\n",
    "plt.ylabel('nb d\\'achats sur les 2 ans')\n",
    "plt.title('âge et fréquence des achats des clients')\n",
    "plt.show()"
   ]
  },
  {
   "cell_type": "markdown",
   "id": "34743c5c",
   "metadata": {},
   "source": [
    "Les 4 gros clients faussent le visuel, je les exclus pour cette analyse de corrélation."
   ]
  },
  {
   "cell_type": "code",
   "execution_count": 113,
   "id": "2ceb1113",
   "metadata": {},
   "outputs": [
    {
     "data": {
      "image/png": "[encoded data removed]",
      "text/plain": [
       "<Figure size 576x576 with 1 Axes>"
      ]
     },
     "metadata": {
      "needs_background": "light"
     },
     "output_type": "display_data"
    }
   ],
   "source": [
    "#on refait sans les 4 pro\n",
    "df_age_freq_parti = df_age_freq[~df_age_freq['client_id'].isin(clients_pro)]\n",
    "#nuage de points age/fréquence\n",
    "plt.figure(figsize=(8,8))\n",
    "plt.scatter(df_age_freq_parti['age'], df_age_freq_parti['nb_achats'], alpha=0.5, c='blue', marker='P')\n",
    "plt.grid()\n",
    "plt.xlabel('age')\n",
    "plt.ylabel('nb d\\'achats sur les 2 ans')\n",
    "plt.title('âge et fréquence des achats des clients particuliers')\n",
    "plt.show()"
   ]
  },
  {
   "cell_type": "markdown",
   "id": "eec3a530",
   "metadata": {},
   "source": [
    "Posons nos hypothèses:\n",
    "- H0: la fréquence d'achats et l'âge de l'acheteur sont indépendants\n",
    "- H1: il y a un lien entre les 2.\n",
    "\n",
    "1/ Vérifions tout d'abord s'il y a une corrélation linéaire par le coeficient de Pearson:"
   ]
  },
  {
   "cell_type": "code",
   "execution_count": 92,
   "id": "812cb75b",
   "metadata": {},
   "outputs": [
    {
     "name": "stdout",
     "output_type": "stream",
     "text": [
      "le coeficient de pearson est 0.16597463491296205\n",
      "la p-value est 3.940527614459324e-54\n"
     ]
    }
   ],
   "source": [
    "#Calcul du coeficient de pearson et de la covariance\n",
    "print('le coeficient de pearson est',st.pearsonr(df_age_freq_parti[\"age\"],df_age_freq_parti[\"nb_achats\"])[0])\n",
    "print('la p-value est',st.pearsonr(df_age_freq_parti[\"age\"],df_age_freq_parti[\"nb_achats\"])[1])"
   ]
  },
  {
   "cell_type": "markdown",
   "id": "6adf38ac",
   "metadata": {},
   "source": [
    "- Le coeficient de Pearson étant proche de zéro, pas de corrélation linéaire entre l'age et la fréquence d'achat; \n",
    "- p-value < 0,05, H0 est rejetée donc pas indépendants toutefois.\n",
    "\n",
    "2/ Vérifions si la distribution du nb d'achats suit une loi normale par le test de Shapiro:\n",
    "\n",
    "- H0: le nb d'achats suit un loi normale\n",
    "- H1: le nb d'achats ne suit pas une loi normale."
   ]
  },
  {
   "cell_type": "code",
   "execution_count": 93,
   "id": "71f7f2da",
   "metadata": {},
   "outputs": [
    {
     "name": "stderr",
     "output_type": "stream",
     "text": [
      "C:\\Users\\sofle\\anaconda3\\lib\\site-packages\\scipy\\stats\\morestats.py:1760: UserWarning: p-value may not be accurate for N > 5000.\n",
      "  warnings.warn(\"p-value may not be accurate for N > 5000.\")\n"
     ]
    },
    {
     "data": {
      "text/plain": [
       "ShapiroResult(statistic=0.8581281304359436, pvalue=0.0)"
      ]
     },
     "execution_count": 93,
     "metadata": {},
     "output_type": "execute_result"
    }
   ],
   "source": [
    "#Test de normalité de la distribution du nb d'achats\n",
    "st.shapiro(df_age_freq_parti[\"nb_achats\"])"
   ]
  },
  {
   "cell_type": "markdown",
   "id": "c62b57fa",
   "metadata": {},
   "source": [
    "la p-value étant inférieure à 0,05, H0 est rejetée, le nb d'achats ne suit pas une loi normale.\n",
    "\n",
    "Vérifions la corrélation par le test de Kruskal:"
   ]
  },
  {
   "cell_type": "code",
   "execution_count": 94,
   "id": "8a4a4e69",
   "metadata": {},
   "outputs": [
    {
     "data": {
      "text/plain": [
       "KruskalResult(statistic=1638.586304699971, pvalue=0.0)"
      ]
     },
     "execution_count": 94,
     "metadata": {},
     "output_type": "execute_result"
    }
   ],
   "source": [
    "#Test de Krsukal\n",
    "st.kruskal(df_age_freq_parti[\"age\"],df_age_freq_parti[\"nb_achats\"])"
   ]
  },
  {
   "cell_type": "markdown",
   "id": "30025158",
   "metadata": {},
   "source": [
    "la p-value étant inférieure à 0,05, H0 est rejetée. ==> l'âge et le nb d'achats ont une corrélation."
   ]
  },
  {
   "cell_type": "markdown",
   "id": "8be1db41",
   "metadata": {},
   "source": [
    "## Lien entre l'âge et le montant du panier moyen <a class=\"anchor\" id=\"section_5_4\"></a>"
   ]
  },
  {
   "cell_type": "markdown",
   "id": "7dd8e7ba",
   "metadata": {},
   "source": [
    "Analyse de 2 variables quantitatives, visualisation par un graphe nuage de points."
   ]
  },
  {
   "cell_type": "code",
   "execution_count": 95,
   "id": "48446427",
   "metadata": {},
   "outputs": [
    {
     "data": {
      "image/png": "[encoded data removed]",
      "text/plain": [
       "<Figure size 576x576 with 1 Axes>"
      ]
     },
     "metadata": {
      "needs_background": "light"
     },
     "output_type": "display_data"
    }
   ],
   "source": [
    "#nuage de points age/panier moyen\n",
    "plt.figure(figsize=(8,8))\n",
    "plt.scatter(df_age_freq['age'], df_age_freq['panier_moyen'], alpha=0.5, c='blue', marker='P')\n",
    "plt.grid()\n",
    "plt.xlabel('age')\n",
    "plt.ylabel('panier moyen sur les 3 ans')\n",
    "plt.title('âge et montant du panier moyen des achats des clients')\n",
    "plt.show()"
   ]
  },
  {
   "cell_type": "markdown",
   "id": "7e8318cd",
   "metadata": {},
   "source": [
    "Les paniers moyens au dessus de 150€ sont tous dépensés par des clients de 32 et moins.\n",
    "Posons nos hypothèses:\n",
    "- H0: age et montant moyen du panier sont indépendants\n",
    "- H1: corrélation entre l'age et le montant moyen du panier.\n",
    "\n",
    "1/ Recherche de corrélation linéaire par le calcul du coeficient de Pearson:"
   ]
  },
  {
   "cell_type": "code",
   "execution_count": 96,
   "id": "d6e68b90",
   "metadata": {},
   "outputs": [
    {
     "name": "stdout",
     "output_type": "stream",
     "text": [
      "le coeficient de pearson est -0.6082419183758275\n",
      "la p-value est 0.0\n"
     ]
    }
   ],
   "source": [
    "#Calcul du coeficient de pearson et de la covariance\n",
    "print('le coeficient de pearson est',st.pearsonr(df_age_freq[\"age\"],df_age_freq[\"panier_moyen\"])[0])\n",
    "print('la p-value est',st.pearsonr(df_age_freq[\"age\"],df_age_freq[\"panier_moyen\"])[1])"
   ]
  },
  {
   "cell_type": "markdown",
   "id": "fa82b9a8",
   "metadata": {},
   "source": [
    "Pas de corrélation linéaire, mais H0 rejetée. Le signe du coef de corrélation étant négatif, on peut indiquer que la tendance est que plus le client est agé moins le montant du panier moyen est élevé."
   ]
  },
  {
   "cell_type": "markdown",
   "id": "82748715",
   "metadata": {},
   "source": [
    "2/ Test d'adéquation à une loi normale de Kolmogorov Smirnov:\n",
    "- H0: l'âge et le panier moyen suivent une loi normale\n",
    "- H1: ils ne suivent pas une loi normale"
   ]
  },
  {
   "cell_type": "code",
   "execution_count": 97,
   "id": "04972bba",
   "metadata": {},
   "outputs": [
    {
     "data": {
      "text/plain": [
       "KstestResult(statistic=0.2711095603628751, pvalue=2.496987448607163e-278)"
      ]
     },
     "execution_count": 97,
     "metadata": {},
     "output_type": "execute_result"
    }
   ],
   "source": [
    "#test Kolmogorov-Smirnov\n",
    "st.ks_2samp(df_age_freq[\"age\"],df_age_freq[\"panier_moyen\"])"
   ]
  },
  {
   "cell_type": "markdown",
   "id": "5b1ad280",
   "metadata": {},
   "source": [
    "La p-value est <0,05, l'âge et le panier moyen ne suivent pas une loi normale."
   ]
  },
  {
   "cell_type": "markdown",
   "id": "cdc2a0a6",
   "metadata": {},
   "source": [
    "3/ Vérifions par le test de Spearman, qui est non-paramétrique:\n",
    "- H0: l'âge et le montant moyen du panier sont indépendants\n",
    "- H1: ils sont dépendants."
   ]
  },
  {
   "cell_type": "code",
   "execution_count": 98,
   "id": "53136b51",
   "metadata": {},
   "outputs": [
    {
     "data": {
      "text/plain": [
       "SpearmanrResult(correlation=-0.6940482786986172, pvalue=0.0)"
      ]
     },
     "execution_count": 98,
     "metadata": {},
     "output_type": "execute_result"
    }
   ],
   "source": [
    "#test de Spearman:\n",
    "st.spearmanr(df_age_freq[\"age\"],df_age_freq[\"panier_moyen\"])"
   ]
  },
  {
   "cell_type": "markdown",
   "id": "156a8c5d",
   "metadata": {},
   "source": [
    "La p-value est <0,05, cela confirme le rejet de H0.\n",
    "\n",
    "==> il y a une corrélation entre l'âge et le montant moyen du panier."
   ]
  },
  {
   "cell_type": "markdown",
   "id": "056f0014",
   "metadata": {},
   "source": [
    "_POUR ALLER PLUS LOIN..._"
   ]
  },
  {
   "cell_type": "code",
   "execution_count": 99,
   "id": "b65d824b",
   "metadata": {},
   "outputs": [
    {
     "data": {
      "text/html": [
       "<div>\n",
       "<style scoped>\n",
       "    .dataframe tbody tr th:only-of-type {\n",
       "        vertical-align: middle;\n",
       "    }\n",
       "\n",
       "    .dataframe tbody tr th {\n",
       "        vertical-align: top;\n",
       "    }\n",
       "\n",
       "    .dataframe thead th {\n",
       "        text-align: right;\n",
       "    }\n",
       "</style>\n",
       "<table border=\"1\" class=\"dataframe\">\n",
       "  <thead>\n",
       "    <tr style=\"text-align: right;\">\n",
       "      <th></th>\n",
       "      <th>client_id</th>\n",
       "      <th>age</th>\n",
       "      <th>panier_moyen</th>\n",
       "      <th>nb_achats</th>\n",
       "    </tr>\n",
       "  </thead>\n",
       "  <tbody>\n",
       "    <tr>\n",
       "      <th>1521</th>\n",
       "      <td>c_2369</td>\n",
       "      <td>24</td>\n",
       "      <td>259.4225</td>\n",
       "      <td>4</td>\n",
       "    </tr>\n",
       "    <tr>\n",
       "      <th>7695</th>\n",
       "      <td>c_7941</td>\n",
       "      <td>19</td>\n",
       "      <td>241.1600</td>\n",
       "      <td>2</td>\n",
       "    </tr>\n",
       "    <tr>\n",
       "      <th>5435</th>\n",
       "      <td>c_5903</td>\n",
       "      <td>27</td>\n",
       "      <td>230.8820</td>\n",
       "      <td>5</td>\n",
       "    </tr>\n",
       "    <tr>\n",
       "      <th>2409</th>\n",
       "      <td>c_317</td>\n",
       "      <td>25</td>\n",
       "      <td>190.9775</td>\n",
       "      <td>8</td>\n",
       "    </tr>\n",
       "    <tr>\n",
       "      <th>7299</th>\n",
       "      <td>c_7585</td>\n",
       "      <td>29</td>\n",
       "      <td>183.0725</td>\n",
       "      <td>4</td>\n",
       "    </tr>\n",
       "  </tbody>\n",
       "</table>\n",
       "</div>"
      ],
      "text/plain": [
       "     client_id  age  panier_moyen  nb_achats\n",
       "1521    c_2369   24      259.4225          4\n",
       "7695    c_7941   19      241.1600          2\n",
       "5435    c_5903   27      230.8820          5\n",
       "2409     c_317   25      190.9775          8\n",
       "7299    c_7585   29      183.0725          4"
      ]
     },
     "execution_count": 99,
     "metadata": {},
     "output_type": "execute_result"
    }
   ],
   "source": [
    "#affichage des 5 clients avec le montant de panier moyen le plus élevé\n",
    "df_age_freq.sort_values('panier_moyen', ascending = False).head(5)"
   ]
  },
  {
   "cell_type": "markdown",
   "id": "35367233",
   "metadata": {},
   "source": [
    "On remarque qu'on ne retrouve pas les clients identifiés comme PRO."
   ]
  },
  {
   "cell_type": "markdown",
   "id": "5c205c2a",
   "metadata": {},
   "source": [
    "Regardons le lien entre l'âge et le panier moyen en taille (nb d'articles)..."
   ]
  },
  {
   "cell_type": "code",
   "execution_count": 109,
   "id": "18f538ce",
   "metadata": {},
   "outputs": [
    {
     "data": {
      "image/png": "[encoded data removed]",
      "text/plain": [
       "<Figure size 576x576 with 1 Axes>"
      ]
     },
     "metadata": {
      "needs_background": "light"
     },
     "output_type": "display_data"
    }
   ],
   "source": [
    "df_session_taille = df_complet.groupby(['session_id','age'])['id_prod'].count().reset_index(name='nb_articles')\n",
    "df_age_taille = df_session_taille.groupby('age')['nb_articles'].mean().reset_index(name='taille_moyen_panier')\n",
    "#Graphe age/taille moyenne du panier\n",
    "plt.figure(figsize=(8,8))\n",
    "plt.scatter(df_age_taille['age'], df_age_taille['taille_moyen_panier'], alpha=0.5, c='blue', marker='P')\n",
    "plt.grid()\n",
    "plt.xlabel('age')\n",
    "plt.ylabel('taille moyenne du panier sur les 3 ans')\n",
    "plt.title('âge et taille moyenne du panier des achats des clients')\n",
    "plt.show()"
   ]
  },
  {
   "cell_type": "markdown",
   "id": "64f56dbc",
   "metadata": {},
   "source": [
    "En regardant la taille moyenne du panier par age, on constate des regroupements significatifs:\n",
    "- la tranche 18-32 achète avec un panier de taille moyenne entre 1,5 et 2 articles\n",
    "- la tranche 32-52: environ 2,4 articles en moyenne.\n",
    "- la tranche plus de 50 ans entre 1,2 et 1,6 articles en moyenne."
   ]
  },
  {
   "cell_type": "markdown",
   "id": "a6aacc1b",
   "metadata": {},
   "source": [
    "## Lien entre l'âge et les catégories de livres achetés <a class=\"anchor\" id=\"section_5_5\"></a>"
   ]
  },
  {
   "cell_type": "markdown",
   "id": "359e225a",
   "metadata": {},
   "source": [
    "Analyse d'une variable quantitative et d'une variable qualitative. Visualisation par un boxplot."
   ]
  },
  {
   "cell_type": "code",
   "execution_count": 114,
   "id": "813060e3",
   "metadata": {},
   "outputs": [
    {
     "data": {
      "image/png": "[encoded data removed]",
      "text/plain": [
       "<Figure size 432x288 with 1 Axes>"
      ]
     },
     "metadata": {
      "needs_background": "light"
     },
     "output_type": "display_data"
    }
   ],
   "source": [
    "X = \"categ\" # qualitative\n",
    "Y = \"age\" # quantitative\n",
    "sous_echantillon = df_complet.copy() # on utilise comme sous-échantillon, les données complètes\n",
    "#Affichage du graphique\n",
    "modalites = sous_echantillon[X].unique()\n",
    "groupes = []\n",
    "for m in modalites:\n",
    "    groupes.append(sous_echantillon[sous_echantillon[X]==m][Y])\n",
    "\n",
    "# Propriétés graphiques (pas très importantes)    \n",
    "medianprops = {'color':\"black\"}\n",
    "meanprops = {'marker':'o', 'markeredgecolor':'black',\n",
    "            'markerfacecolor':'firebrick'}\n",
    "    \n",
    "plt.boxplot(groupes, labels=modalites, showfliers=False, medianprops=medianprops, \n",
    "            vert=False, patch_artist=True, showmeans=True, meanprops=meanprops)\n",
    "plt.show()"
   ]
  },
  {
   "cell_type": "markdown",
   "id": "4e58395d",
   "metadata": {},
   "source": [
    "Selon le graphe, on visualise que la catégorie 2 est achetée uniquement par les moins de 40 ans; et que la catégorie 0 par les moins de 70 ans ==> il semble exister un lien entre l'age et la catégorie de livres achetés. Nous sommes dans le cas d'une variable qualitative et d'une variable quantitative, nous allons donc faire le test d'ANOVA."
   ]
  },
  {
   "cell_type": "markdown",
   "id": "18150026",
   "metadata": {},
   "source": [
    "Le test ANOVA consiste à vérifier l'égalité des moyennes,\n",
    "- soit H0, les moyennes  des ages sont égales quelque soit la catégorie.\n",
    "- H1, les moyennes ne sont pas égales, il y a donc un lien entre la catégorie et l'age.\n",
    "\n",
    "Ce test applicable uniquement dans les conditions où:\n",
    "- variances égales\n",
    "- indépendance entre les echantillons.\n",
    "\n",
    "Les données âge et catégorie ont été collectées de façon indépendante, 2 fichiers produit et client. Vérifions l'égalité des variances:"
   ]
  },
  {
   "cell_type": "code",
   "execution_count": 115,
   "id": "fd749107",
   "metadata": {},
   "outputs": [
    {
     "data": {
      "text/html": [
       "<div>\n",
       "<style scoped>\n",
       "    .dataframe tbody tr th:only-of-type {\n",
       "        vertical-align: middle;\n",
       "    }\n",
       "\n",
       "    .dataframe tbody tr th {\n",
       "        vertical-align: top;\n",
       "    }\n",
       "\n",
       "    .dataframe thead th {\n",
       "        text-align: right;\n",
       "    }\n",
       "</style>\n",
       "<table border=\"1\" class=\"dataframe\">\n",
       "  <thead>\n",
       "    <tr style=\"text-align: right;\">\n",
       "      <th></th>\n",
       "      <th>W</th>\n",
       "      <th>pval</th>\n",
       "      <th>equal_var</th>\n",
       "    </tr>\n",
       "  </thead>\n",
       "  <tbody>\n",
       "    <tr>\n",
       "      <th>levene</th>\n",
       "      <td>25476.523529</td>\n",
       "      <td>0.0</td>\n",
       "      <td>False</td>\n",
       "    </tr>\n",
       "  </tbody>\n",
       "</table>\n",
       "</div>"
      ],
      "text/plain": [
       "                   W  pval  equal_var\n",
       "levene  25476.523529   0.0      False"
      ]
     },
     "execution_count": 115,
     "metadata": {},
     "output_type": "execute_result"
    }
   ],
   "source": [
    "#test de Levene, égalité des variances\n",
    "import pingouin as pg\n",
    "pg.homoscedasticity(df_complet, dv=\"age\", group=\"categ\")"
   ]
  },
  {
   "cell_type": "markdown",
   "id": "1c07af7c",
   "metadata": {},
   "source": [
    "Selon le test de Levene, les variances ne sont pas égales. Nous devons faire le test Welch-Anova."
   ]
  },
  {
   "cell_type": "code",
   "execution_count": 116,
   "id": "bf453e8e",
   "metadata": {},
   "outputs": [
    {
     "data": {
      "text/html": [
       "<div>\n",
       "<style scoped>\n",
       "    .dataframe tbody tr th:only-of-type {\n",
       "        vertical-align: middle;\n",
       "    }\n",
       "\n",
       "    .dataframe tbody tr th {\n",
       "        vertical-align: top;\n",
       "    }\n",
       "\n",
       "    .dataframe thead th {\n",
       "        text-align: right;\n",
       "    }\n",
       "</style>\n",
       "<table border=\"1\" class=\"dataframe\">\n",
       "  <thead>\n",
       "    <tr style=\"text-align: right;\">\n",
       "      <th></th>\n",
       "      <th>Source</th>\n",
       "      <th>ddof1</th>\n",
       "      <th>ddof2</th>\n",
       "      <th>F</th>\n",
       "      <th>p-unc</th>\n",
       "      <th>np2</th>\n",
       "    </tr>\n",
       "  </thead>\n",
       "  <tbody>\n",
       "    <tr>\n",
       "      <th>0</th>\n",
       "      <td>categ</td>\n",
       "      <td>2</td>\n",
       "      <td>99389.297822</td>\n",
       "      <td>64895.773768</td>\n",
       "      <td>0.0</td>\n",
       "      <td>0.118973</td>\n",
       "    </tr>\n",
       "  </tbody>\n",
       "</table>\n",
       "</div>"
      ],
      "text/plain": [
       "  Source  ddof1         ddof2             F  p-unc       np2\n",
       "0  categ      2  99389.297822  64895.773768    0.0  0.118973"
      ]
     },
     "execution_count": 116,
     "metadata": {},
     "output_type": "execute_result"
    }
   ],
   "source": [
    "#test welch ANOVA\n",
    "pg.welch_anova(dv='age', between='categ', data=df_complet)"
   ]
  },
  {
   "cell_type": "markdown",
   "id": "b117d2a5",
   "metadata": {},
   "source": [
    "la p-value est inférieur à 0,05; les moyennes ne sont pas égales. Cela confirme une corrélation entre la catégorie et l'age de l'acheteur"
   ]
  },
  {
   "cell_type": "markdown",
   "id": "c7ad5975",
   "metadata": {},
   "source": [
    "# Conclusion"
   ]
  },
  {
   "cell_type": "markdown",
   "id": "c344ed18",
   "metadata": {},
   "source": [
    "* Le CA mensuel a une tendance à la baisse depuis mai 2022\n",
    "* Des articles 'best-seller' et d'autres dont il faut s'interroger sur la continuité\n",
    "* 3 tranches d'âge avec fort impact sur les ventes.\n",
    "* En effet, l'âge est corrélé au volume CA, à la fréquence d'achats, au panier moyen (en nb et CA), et à la catégorie achetée. \n",
    "\n",
    "**==> le critère d'âge pourra être un critère cible pour le marketing.**"
   ]
  },
  {
   "cell_type": "code",
   "execution_count": null,
   "id": "5d864b40",
   "metadata": {},
   "outputs": [],
   "source": []
  }
 ],
 "metadata": {
  "kernelspec": {
   "display_name": "Python 3 (ipykernel)",
   "language": "python",
   "name": "python3"
  },
  "language_info": {
   "codemirror_mode": {
    "name": "ipython",
    "version": 3
   },
   "file_extension": ".py",
   "mimetype": "text/x-python",
   "name": "python",
   "nbconvert_exporter": "python",
   "pygments_lexer": "ipython3",
   "version": "3.9.7"
  }
 },
 "nbformat": 4,
 "nbformat_minor": 5
}
